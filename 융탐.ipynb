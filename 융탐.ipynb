{
  "cells": [
    {
      "cell_type": "markdown",
      "metadata": {
        "id": "zTSnD0JxpV2z"
      },
      "source": [
        "# diffractsim을 이용한 회절 시뮬레이션"
      ]
    },
    {
      "cell_type": "code",
      "execution_count": null,
      "metadata": {
        "colab": {
          "base_uri": "https://localhost:8080/"
        },
        "collapsed": true,
        "id": "6dhuHEs8RgYc",
        "outputId": "43b585b3-bb73-483c-9080-29e70fcccb3a"
      },
      "outputs": [],
      "source": [
        "!pip install git+https://github.com/hjw4228/diffractsim.git"
      ]
    },
    {
      "cell_type": "code",
      "execution_count": null,
      "metadata": {
        "colab": {
          "base_uri": "https://localhost:8080/"
        },
        "collapsed": true,
        "id": "NFXuBjOfWdQO",
        "outputId": "6fcdfe9b-47bb-4e7a-edf6-dd32c12a543a"
      },
      "outputs": [
        {
          "name": "stdout",
          "output_type": "stream",
          "text": [
            "  % Total    % Received % Xferd  Average Speed   Time    Time     Time  Current\n",
            "                                 Dload  Upload   Total   Spent    Left  Speed\n",
            "100 35910  100 35910    0     0  93478      0 --:--:-- --:--:-- --:--:-- 93515\n"
          ]
        }
      ],
      "source": [
        "!curl https://raw.githubusercontent.com/cubem10/diffractsim/964b8976cb241e5ff4605e597d708a1c66b1f124/examples/apertures/bahtinov_mask.jpg > mask.jpg"
      ]
    },
    {
      "cell_type": "code",
      "execution_count": null,
      "metadata": {
        "colab": {
          "base_uri": "https://localhost:8080/"
        },
        "collapsed": true,
        "id": "XiuPY5382Roc",
        "outputId": "2f69b907-471a-400b-9d9a-cd96cb886863"
      },
      "outputs": [
        {
          "name": "stdout",
          "output_type": "stream",
          "text": [
            "  % Total    % Received % Xferd  Average Speed   Time    Time     Time  Current\n",
            "                                 Dload  Upload   Total   Spent    Left  Speed\n",
            "100 16215  100 16215    0     0  43835      0 --:--:-- --:--:-- --:--:-- 43824\n"
          ]
        }
      ],
      "source": [
        "!curl https://raw.githubusercontent.com/cubem10/diffractsim/main/examples/apertures/circle.jpg > circle.jpg"
      ]
    },
    {
      "cell_type": "code",
      "execution_count": null,
      "metadata": {
        "id": "BND3ZSwhWRBv"
      },
      "outputs": [],
      "source": [
        "import locale\n",
        "locale.getpreferredencoding = lambda: \"UTF-8\""
      ]
    },
    {
      "cell_type": "code",
      "execution_count": null,
      "metadata": {
        "colab": {
          "base_uri": "https://localhost:8080/"
        },
        "collapsed": true,
        "id": "kElkdc_7GfsT",
        "outputId": "078394c6-447d-4753-e41f-d69ed7ed6102"
      },
      "outputs": [
        {
          "data": {
            "text/plain": [
              "32"
            ]
          },
          "execution_count": 4,
          "metadata": {},
          "output_type": "execute_result"
        }
      ],
      "source": [
        "import gc\n",
        "gc.collect()"
      ]
    },
    {
      "cell_type": "code",
      "execution_count": null,
      "metadata": {
        "id": "01BT7nrBCoc-"
      },
      "outputs": [],
      "source": [
        "import gc\n",
        "\n",
        "import diffractsim\n",
        "diffractsim.set_backend(\"CUDA\")\n",
        "\n",
        "from diffractsim import PolychromaticField, Lens, ApertureFromImage, cf, nm, mm, cm\n",
        "\n",
        "def render_image(f, z, mask):\n",
        "  F = PolychromaticField(\n",
        "    spectrum = 4 * cf.illuminant_d65,\n",
        "    extent_x = 15.*mm, extent_y = 15.*mm,\n",
        "    Nx=1500, Ny=1500\n",
        "  )\n",
        "  if mask:\n",
        "    F.add(ApertureFromImage(\"./mask.jpg\", image_size=(5. *mm, 5.* mm), simulation=F))\n",
        "  else:\n",
        "    F.add(ApertureFromImage(\"./circle.jpg\", image_size=(5. *mm, 5. *mm), simulation=F))\n",
        "\n",
        "  F.add(Lens(f=f*cm))\n",
        "  F.propagate(z=z * cm)\n",
        "\n",
        "  rgb = F.get_colors()\n",
        "\n",
        "  if mask:\n",
        "    F.plot_colors(rgb, xlim=[-6*mm, 6*mm], ylim=[-6*mm, 6*mm], save_plot=True, filename=f'{f}_{z}_masked.jpg', hide_axis=True, text='')\n",
        "    print(f'\\nSuccessfully rendered masked image of f={f}cm, z={F.z * 100}cm')\n",
        "  else:\n",
        "    F.plot_colors(rgb, xlim=[-6*mm, 6*mm], ylim=[-6*mm, 6*mm], save_plot=True, filename=f'{f}_{z}_unmasked.jpg', hide_axis=True, text='')\n",
        "    print(f'\\nSuccessfully rendered unmasked image of f={f}cm, z={F.z * 100}cm')\\\n",
        "\n",
        "  return"
      ]
    },
    {
      "cell_type": "code",
      "execution_count": null,
      "metadata": {
        "id": "bxYAGBECttlN"
      },
      "outputs": [],
      "source": [
        "def render_all(start, end):\n",
        "  for f in range(start, end+1):\n",
        "    z = f-10\n",
        "    for _ in range(1, 20):\n",
        "      render_image(f, z, False)\n",
        "      z += 1\n",
        "    print(f'Collected garbage: {gc.collect()}')\n",
        "    z = f-5"
      ]
    },
    {
      "cell_type": "code",
      "execution_count": null,
      "metadata": {
        "id": "wrrAOpcZFduI"
      },
      "outputs": [],
      "source": [
        "!rm -rf *ed.jpg # 예전 이미지 지우기"
      ]
    },
    {
      "cell_type": "code",
      "execution_count": null,
      "metadata": {
        "colab": {
          "base_uri": "https://localhost:8080/"
        },
        "collapsed": true,
        "id": "x5YJKyu3FXdN",
        "outputId": "dbcdb5a3-50ca-452c-cd4e-af263ff0ac8e"
      },
      "outputs": [
        {
          "name": "stderr",
          "output_type": "stream",
          "text": [
            "\n"
          ]
        },
        {
          "name": "stdout",
          "output_type": "stream",
          "text": [
            "Computation Took 1.4273185729980469\n"
          ]
        },
        {
          "name": "stderr",
          "output_type": "stream",
          "text": []
        },
        {
          "name": "stdout",
          "output_type": "stream",
          "text": [
            "\n",
            "Successfully rendered unmasked image of f=75cm, z=65.0cm\n"
          ]
        },
        {
          "name": "stderr",
          "output_type": "stream",
          "text": [
            "\n"
          ]
        },
        {
          "name": "stdout",
          "output_type": "stream",
          "text": [
            "Computation Took 1.2824206352233887\n"
          ]
        },
        {
          "name": "stderr",
          "output_type": "stream",
          "text": []
        },
        {
          "name": "stdout",
          "output_type": "stream",
          "text": [
            "\n",
            "Successfully rendered unmasked image of f=75cm, z=66.0cm\n"
          ]
        },
        {
          "name": "stderr",
          "output_type": "stream",
          "text": [
            "\n"
          ]
        },
        {
          "name": "stdout",
          "output_type": "stream",
          "text": [
            "Computation Took 1.28515625\n"
          ]
        },
        {
          "name": "stderr",
          "output_type": "stream",
          "text": []
        },
        {
          "name": "stdout",
          "output_type": "stream",
          "text": [
            "\n",
            "Successfully rendered unmasked image of f=75cm, z=67.0cm\n"
          ]
        },
        {
          "name": "stderr",
          "output_type": "stream",
          "text": [
            "\n"
          ]
        },
        {
          "name": "stdout",
          "output_type": "stream",
          "text": [
            "Computation Took 1.2888727188110352\n"
          ]
        },
        {
          "name": "stderr",
          "output_type": "stream",
          "text": []
        },
        {
          "name": "stdout",
          "output_type": "stream",
          "text": [
            "\n",
            "Successfully rendered unmasked image of f=75cm, z=68.0cm\n"
          ]
        },
        {
          "name": "stderr",
          "output_type": "stream",
          "text": [
            "\n"
          ]
        },
        {
          "name": "stdout",
          "output_type": "stream",
          "text": [
            "Computation Took 1.286881923675537\n"
          ]
        },
        {
          "name": "stderr",
          "output_type": "stream",
          "text": []
        },
        {
          "name": "stdout",
          "output_type": "stream",
          "text": [
            "\n",
            "Successfully rendered unmasked image of f=75cm, z=69.0cm\n"
          ]
        },
        {
          "name": "stderr",
          "output_type": "stream",
          "text": [
            "\n"
          ]
        },
        {
          "name": "stdout",
          "output_type": "stream",
          "text": [
            "Computation Took 1.2926907539367676\n"
          ]
        },
        {
          "name": "stderr",
          "output_type": "stream",
          "text": []
        },
        {
          "name": "stdout",
          "output_type": "stream",
          "text": [
            "\n",
            "Successfully rendered unmasked image of f=75cm, z=70.0cm\n"
          ]
        },
        {
          "name": "stderr",
          "output_type": "stream",
          "text": [
            "\n"
          ]
        },
        {
          "name": "stdout",
          "output_type": "stream",
          "text": [
            "Computation Took 1.292417287826538\n"
          ]
        },
        {
          "name": "stderr",
          "output_type": "stream",
          "text": []
        },
        {
          "name": "stdout",
          "output_type": "stream",
          "text": [
            "\n",
            "Successfully rendered unmasked image of f=75cm, z=71.0cm\n"
          ]
        },
        {
          "name": "stderr",
          "output_type": "stream",
          "text": [
            "\n"
          ]
        },
        {
          "name": "stdout",
          "output_type": "stream",
          "text": [
            "Computation Took 1.2979910373687744\n"
          ]
        },
        {
          "name": "stderr",
          "output_type": "stream",
          "text": []
        },
        {
          "name": "stdout",
          "output_type": "stream",
          "text": [
            "\n",
            "Successfully rendered unmasked image of f=75cm, z=72.0cm\n"
          ]
        },
        {
          "name": "stderr",
          "output_type": "stream",
          "text": [
            "\n"
          ]
        },
        {
          "name": "stdout",
          "output_type": "stream",
          "text": [
            "Computation Took 1.299663782119751\n"
          ]
        },
        {
          "name": "stderr",
          "output_type": "stream",
          "text": []
        },
        {
          "name": "stdout",
          "output_type": "stream",
          "text": [
            "\n",
            "Successfully rendered unmasked image of f=75cm, z=73.0cm\n"
          ]
        },
        {
          "name": "stderr",
          "output_type": "stream",
          "text": [
            "\n"
          ]
        },
        {
          "name": "stdout",
          "output_type": "stream",
          "text": [
            "Computation Took 1.300330400466919\n"
          ]
        },
        {
          "name": "stderr",
          "output_type": "stream",
          "text": []
        },
        {
          "name": "stdout",
          "output_type": "stream",
          "text": [
            "\n",
            "Successfully rendered unmasked image of f=75cm, z=74.0cm\n"
          ]
        },
        {
          "name": "stderr",
          "output_type": "stream",
          "text": [
            "\n"
          ]
        },
        {
          "name": "stdout",
          "output_type": "stream",
          "text": [
            "Computation Took 1.3035812377929688\n"
          ]
        },
        {
          "name": "stderr",
          "output_type": "stream",
          "text": []
        },
        {
          "name": "stdout",
          "output_type": "stream",
          "text": [
            "\n",
            "Successfully rendered unmasked image of f=75cm, z=75.0cm\n"
          ]
        },
        {
          "name": "stderr",
          "output_type": "stream",
          "text": [
            "\n"
          ]
        },
        {
          "name": "stdout",
          "output_type": "stream",
          "text": [
            "Computation Took 1.3016979694366455\n"
          ]
        },
        {
          "name": "stderr",
          "output_type": "stream",
          "text": []
        },
        {
          "name": "stdout",
          "output_type": "stream",
          "text": [
            "\n",
            "Successfully rendered unmasked image of f=75cm, z=76.0cm\n"
          ]
        },
        {
          "name": "stderr",
          "output_type": "stream",
          "text": [
            "\n"
          ]
        },
        {
          "name": "stdout",
          "output_type": "stream",
          "text": [
            "Computation Took 1.3028008937835693\n"
          ]
        },
        {
          "name": "stderr",
          "output_type": "stream",
          "text": []
        },
        {
          "name": "stdout",
          "output_type": "stream",
          "text": [
            "\n",
            "Successfully rendered unmasked image of f=75cm, z=77.0cm\n"
          ]
        },
        {
          "name": "stderr",
          "output_type": "stream",
          "text": [
            "\n"
          ]
        },
        {
          "name": "stdout",
          "output_type": "stream",
          "text": [
            "Computation Took 1.2987525463104248\n"
          ]
        },
        {
          "name": "stderr",
          "output_type": "stream",
          "text": []
        },
        {
          "name": "stdout",
          "output_type": "stream",
          "text": [
            "\n",
            "Successfully rendered unmasked image of f=75cm, z=78.0cm\n"
          ]
        },
        {
          "name": "stderr",
          "output_type": "stream",
          "text": [
            "\n"
          ]
        },
        {
          "name": "stdout",
          "output_type": "stream",
          "text": [
            "Computation Took 1.298222541809082\n"
          ]
        },
        {
          "name": "stderr",
          "output_type": "stream",
          "text": []
        },
        {
          "name": "stdout",
          "output_type": "stream",
          "text": [
            "\n",
            "Successfully rendered unmasked image of f=75cm, z=79.0cm\n"
          ]
        },
        {
          "name": "stderr",
          "output_type": "stream",
          "text": [
            "\n"
          ]
        },
        {
          "name": "stdout",
          "output_type": "stream",
          "text": [
            "Computation Took 1.2945265769958496\n"
          ]
        },
        {
          "name": "stderr",
          "output_type": "stream",
          "text": []
        },
        {
          "name": "stdout",
          "output_type": "stream",
          "text": [
            "\n",
            "Successfully rendered unmasked image of f=75cm, z=80.0cm\n"
          ]
        },
        {
          "name": "stderr",
          "output_type": "stream",
          "text": [
            "\n"
          ]
        },
        {
          "name": "stdout",
          "output_type": "stream",
          "text": [
            "Computation Took 1.2931098937988281\n"
          ]
        },
        {
          "name": "stderr",
          "output_type": "stream",
          "text": []
        },
        {
          "name": "stdout",
          "output_type": "stream",
          "text": [
            "\n",
            "Successfully rendered unmasked image of f=75cm, z=81.0cm\n"
          ]
        },
        {
          "name": "stderr",
          "output_type": "stream",
          "text": [
            "\n"
          ]
        },
        {
          "name": "stdout",
          "output_type": "stream",
          "text": [
            "Computation Took 1.2914493083953857\n"
          ]
        },
        {
          "name": "stderr",
          "output_type": "stream",
          "text": []
        },
        {
          "name": "stdout",
          "output_type": "stream",
          "text": [
            "\n",
            "Successfully rendered unmasked image of f=75cm, z=82.0cm\n"
          ]
        },
        {
          "name": "stderr",
          "output_type": "stream",
          "text": [
            "\n"
          ]
        },
        {
          "name": "stdout",
          "output_type": "stream",
          "text": [
            "Computation Took 1.2928905487060547\n"
          ]
        },
        {
          "name": "stderr",
          "output_type": "stream",
          "text": []
        },
        {
          "name": "stdout",
          "output_type": "stream",
          "text": [
            "\n",
            "Successfully rendered unmasked image of f=75cm, z=83.0cm\n",
            "Collected garbage: 986\n"
          ]
        },
        {
          "name": "stderr",
          "output_type": "stream",
          "text": [
            "\n"
          ]
        },
        {
          "name": "stdout",
          "output_type": "stream",
          "text": [
            "Computation Took 1.2898244857788086\n"
          ]
        },
        {
          "name": "stderr",
          "output_type": "stream",
          "text": []
        },
        {
          "name": "stdout",
          "output_type": "stream",
          "text": [
            "\n",
            "Successfully rendered unmasked image of f=76cm, z=66.0cm\n"
          ]
        },
        {
          "name": "stderr",
          "output_type": "stream",
          "text": [
            "\n"
          ]
        },
        {
          "name": "stdout",
          "output_type": "stream",
          "text": [
            "Computation Took 1.2885806560516357\n"
          ]
        },
        {
          "name": "stderr",
          "output_type": "stream",
          "text": []
        },
        {
          "name": "stdout",
          "output_type": "stream",
          "text": [
            "\n",
            "Successfully rendered unmasked image of f=76cm, z=67.0cm\n"
          ]
        },
        {
          "name": "stderr",
          "output_type": "stream",
          "text": [
            "\n"
          ]
        },
        {
          "name": "stdout",
          "output_type": "stream",
          "text": [
            "Computation Took 1.2910370826721191\n"
          ]
        },
        {
          "name": "stderr",
          "output_type": "stream",
          "text": []
        },
        {
          "name": "stdout",
          "output_type": "stream",
          "text": [
            "\n",
            "Successfully rendered unmasked image of f=76cm, z=68.0cm\n"
          ]
        },
        {
          "name": "stderr",
          "output_type": "stream",
          "text": [
            "\n"
          ]
        },
        {
          "name": "stdout",
          "output_type": "stream",
          "text": [
            "Computation Took 1.2889587879180908\n"
          ]
        },
        {
          "name": "stderr",
          "output_type": "stream",
          "text": []
        },
        {
          "name": "stdout",
          "output_type": "stream",
          "text": [
            "\n",
            "Successfully rendered unmasked image of f=76cm, z=69.0cm\n"
          ]
        },
        {
          "name": "stderr",
          "output_type": "stream",
          "text": [
            "\n"
          ]
        },
        {
          "name": "stdout",
          "output_type": "stream",
          "text": [
            "Computation Took 1.2902536392211914\n"
          ]
        },
        {
          "name": "stderr",
          "output_type": "stream",
          "text": []
        },
        {
          "name": "stdout",
          "output_type": "stream",
          "text": [
            "\n",
            "Successfully rendered unmasked image of f=76cm, z=70.0cm\n"
          ]
        },
        {
          "name": "stderr",
          "output_type": "stream",
          "text": [
            "\n"
          ]
        },
        {
          "name": "stdout",
          "output_type": "stream",
          "text": [
            "Computation Took 1.287916660308838\n"
          ]
        },
        {
          "name": "stderr",
          "output_type": "stream",
          "text": []
        },
        {
          "name": "stdout",
          "output_type": "stream",
          "text": [
            "\n",
            "Successfully rendered unmasked image of f=76cm, z=71.0cm\n"
          ]
        },
        {
          "name": "stderr",
          "output_type": "stream",
          "text": [
            "\n"
          ]
        },
        {
          "name": "stdout",
          "output_type": "stream",
          "text": [
            "Computation Took 1.2886765003204346\n"
          ]
        },
        {
          "name": "stderr",
          "output_type": "stream",
          "text": []
        },
        {
          "name": "stdout",
          "output_type": "stream",
          "text": [
            "\n",
            "Successfully rendered unmasked image of f=76cm, z=72.0cm\n"
          ]
        },
        {
          "name": "stderr",
          "output_type": "stream",
          "text": [
            "\n"
          ]
        },
        {
          "name": "stdout",
          "output_type": "stream",
          "text": [
            "Computation Took 1.2881584167480469\n"
          ]
        },
        {
          "name": "stderr",
          "output_type": "stream",
          "text": []
        },
        {
          "name": "stdout",
          "output_type": "stream",
          "text": [
            "\n",
            "Successfully rendered unmasked image of f=76cm, z=73.0cm\n"
          ]
        },
        {
          "name": "stderr",
          "output_type": "stream",
          "text": [
            "\n"
          ]
        },
        {
          "name": "stdout",
          "output_type": "stream",
          "text": [
            "Computation Took 1.2875280380249023\n"
          ]
        },
        {
          "name": "stderr",
          "output_type": "stream",
          "text": []
        },
        {
          "name": "stdout",
          "output_type": "stream",
          "text": [
            "\n",
            "Successfully rendered unmasked image of f=76cm, z=74.0cm\n"
          ]
        },
        {
          "name": "stderr",
          "output_type": "stream",
          "text": [
            "\n"
          ]
        },
        {
          "name": "stdout",
          "output_type": "stream",
          "text": [
            "Computation Took 1.2900753021240234\n"
          ]
        },
        {
          "name": "stderr",
          "output_type": "stream",
          "text": []
        },
        {
          "name": "stdout",
          "output_type": "stream",
          "text": [
            "\n",
            "Successfully rendered unmasked image of f=76cm, z=75.0cm\n"
          ]
        },
        {
          "name": "stderr",
          "output_type": "stream",
          "text": [
            "\n"
          ]
        },
        {
          "name": "stdout",
          "output_type": "stream",
          "text": [
            "Computation Took 1.2877838611602783\n"
          ]
        },
        {
          "name": "stderr",
          "output_type": "stream",
          "text": []
        },
        {
          "name": "stdout",
          "output_type": "stream",
          "text": [
            "\n",
            "Successfully rendered unmasked image of f=76cm, z=76.0cm\n"
          ]
        },
        {
          "name": "stderr",
          "output_type": "stream",
          "text": [
            "\n"
          ]
        },
        {
          "name": "stdout",
          "output_type": "stream",
          "text": [
            "Computation Took 1.2889673709869385\n"
          ]
        },
        {
          "name": "stderr",
          "output_type": "stream",
          "text": []
        },
        {
          "name": "stdout",
          "output_type": "stream",
          "text": [
            "\n",
            "Successfully rendered unmasked image of f=76cm, z=77.0cm\n"
          ]
        },
        {
          "name": "stderr",
          "output_type": "stream",
          "text": [
            "\n"
          ]
        },
        {
          "name": "stdout",
          "output_type": "stream",
          "text": [
            "Computation Took 1.2886085510253906\n"
          ]
        },
        {
          "name": "stderr",
          "output_type": "stream",
          "text": []
        },
        {
          "name": "stdout",
          "output_type": "stream",
          "text": [
            "\n",
            "Successfully rendered unmasked image of f=76cm, z=78.0cm\n"
          ]
        },
        {
          "name": "stderr",
          "output_type": "stream",
          "text": [
            "\n"
          ]
        },
        {
          "name": "stdout",
          "output_type": "stream",
          "text": [
            "Computation Took 1.2870802879333496\n"
          ]
        },
        {
          "name": "stderr",
          "output_type": "stream",
          "text": []
        },
        {
          "name": "stdout",
          "output_type": "stream",
          "text": [
            "\n",
            "Successfully rendered unmasked image of f=76cm, z=79.0cm\n"
          ]
        },
        {
          "name": "stderr",
          "output_type": "stream",
          "text": [
            "\n"
          ]
        },
        {
          "name": "stdout",
          "output_type": "stream",
          "text": [
            "Computation Took 1.2902138233184814\n"
          ]
        },
        {
          "name": "stderr",
          "output_type": "stream",
          "text": []
        },
        {
          "name": "stdout",
          "output_type": "stream",
          "text": [
            "\n",
            "Successfully rendered unmasked image of f=76cm, z=80.0cm\n"
          ]
        },
        {
          "name": "stderr",
          "output_type": "stream",
          "text": [
            "\n"
          ]
        },
        {
          "name": "stdout",
          "output_type": "stream",
          "text": [
            "Computation Took 1.2878739833831787\n"
          ]
        },
        {
          "name": "stderr",
          "output_type": "stream",
          "text": []
        },
        {
          "name": "stdout",
          "output_type": "stream",
          "text": [
            "\n",
            "Successfully rendered unmasked image of f=76cm, z=81.0cm\n"
          ]
        },
        {
          "name": "stderr",
          "output_type": "stream",
          "text": [
            "\n"
          ]
        },
        {
          "name": "stdout",
          "output_type": "stream",
          "text": [
            "Computation Took 1.288564682006836\n"
          ]
        },
        {
          "name": "stderr",
          "output_type": "stream",
          "text": []
        },
        {
          "name": "stdout",
          "output_type": "stream",
          "text": [
            "\n",
            "Successfully rendered unmasked image of f=76cm, z=82.0cm\n"
          ]
        },
        {
          "name": "stderr",
          "output_type": "stream",
          "text": [
            "\n"
          ]
        },
        {
          "name": "stdout",
          "output_type": "stream",
          "text": [
            "Computation Took 1.2884840965270996\n"
          ]
        },
        {
          "name": "stderr",
          "output_type": "stream",
          "text": []
        },
        {
          "name": "stdout",
          "output_type": "stream",
          "text": [
            "\n",
            "Successfully rendered unmasked image of f=76cm, z=83.0cm\n"
          ]
        },
        {
          "name": "stderr",
          "output_type": "stream",
          "text": [
            "\n"
          ]
        },
        {
          "name": "stdout",
          "output_type": "stream",
          "text": [
            "Computation Took 1.2902734279632568\n"
          ]
        },
        {
          "name": "stderr",
          "output_type": "stream",
          "text": []
        },
        {
          "name": "stdout",
          "output_type": "stream",
          "text": [
            "\n",
            "Successfully rendered unmasked image of f=76cm, z=84.0cm\n",
            "Collected garbage: 1318\n"
          ]
        },
        {
          "name": "stderr",
          "output_type": "stream",
          "text": [
            "\n"
          ]
        },
        {
          "name": "stdout",
          "output_type": "stream",
          "text": [
            "Computation Took 1.2907156944274902\n"
          ]
        },
        {
          "name": "stderr",
          "output_type": "stream",
          "text": []
        },
        {
          "name": "stdout",
          "output_type": "stream",
          "text": [
            "\n",
            "Successfully rendered unmasked image of f=77cm, z=67.0cm\n"
          ]
        },
        {
          "name": "stderr",
          "output_type": "stream",
          "text": [
            "\n"
          ]
        },
        {
          "name": "stdout",
          "output_type": "stream",
          "text": [
            "Computation Took 1.2886991500854492\n"
          ]
        },
        {
          "name": "stderr",
          "output_type": "stream",
          "text": []
        },
        {
          "name": "stdout",
          "output_type": "stream",
          "text": [
            "\n",
            "Successfully rendered unmasked image of f=77cm, z=68.0cm\n"
          ]
        },
        {
          "name": "stderr",
          "output_type": "stream",
          "text": [
            "\n"
          ]
        },
        {
          "name": "stdout",
          "output_type": "stream",
          "text": [
            "Computation Took 1.2914626598358154\n"
          ]
        },
        {
          "name": "stderr",
          "output_type": "stream",
          "text": []
        },
        {
          "name": "stdout",
          "output_type": "stream",
          "text": [
            "\n",
            "Successfully rendered unmasked image of f=77cm, z=69.0cm\n"
          ]
        },
        {
          "name": "stderr",
          "output_type": "stream",
          "text": [
            "\n"
          ]
        },
        {
          "name": "stdout",
          "output_type": "stream",
          "text": [
            "Computation Took 1.292046308517456\n"
          ]
        },
        {
          "name": "stderr",
          "output_type": "stream",
          "text": []
        },
        {
          "name": "stdout",
          "output_type": "stream",
          "text": [
            "\n",
            "Successfully rendered unmasked image of f=77cm, z=70.0cm\n"
          ]
        },
        {
          "name": "stderr",
          "output_type": "stream",
          "text": [
            "\n"
          ]
        },
        {
          "name": "stdout",
          "output_type": "stream",
          "text": [
            "Computation Took 1.2901809215545654\n"
          ]
        },
        {
          "name": "stderr",
          "output_type": "stream",
          "text": []
        },
        {
          "name": "stdout",
          "output_type": "stream",
          "text": [
            "\n",
            "Successfully rendered unmasked image of f=77cm, z=71.0cm\n"
          ]
        },
        {
          "name": "stderr",
          "output_type": "stream",
          "text": [
            "\n"
          ]
        },
        {
          "name": "stdout",
          "output_type": "stream",
          "text": [
            "Computation Took 1.2927947044372559\n"
          ]
        },
        {
          "name": "stderr",
          "output_type": "stream",
          "text": []
        },
        {
          "name": "stdout",
          "output_type": "stream",
          "text": [
            "\n",
            "Successfully rendered unmasked image of f=77cm, z=72.0cm\n"
          ]
        },
        {
          "name": "stderr",
          "output_type": "stream",
          "text": [
            "\n"
          ]
        },
        {
          "name": "stdout",
          "output_type": "stream",
          "text": [
            "Computation Took 1.2919936180114746\n"
          ]
        },
        {
          "name": "stderr",
          "output_type": "stream",
          "text": []
        },
        {
          "name": "stdout",
          "output_type": "stream",
          "text": [
            "\n",
            "Successfully rendered unmasked image of f=77cm, z=73.0cm\n"
          ]
        },
        {
          "name": "stderr",
          "output_type": "stream",
          "text": [
            "\n"
          ]
        },
        {
          "name": "stdout",
          "output_type": "stream",
          "text": [
            "Computation Took 1.2914130687713623\n"
          ]
        },
        {
          "name": "stderr",
          "output_type": "stream",
          "text": []
        },
        {
          "name": "stdout",
          "output_type": "stream",
          "text": [
            "\n",
            "Successfully rendered unmasked image of f=77cm, z=74.0cm\n"
          ]
        },
        {
          "name": "stderr",
          "output_type": "stream",
          "text": [
            "\n"
          ]
        },
        {
          "name": "stdout",
          "output_type": "stream",
          "text": [
            "Computation Took 1.2903797626495361\n"
          ]
        },
        {
          "name": "stderr",
          "output_type": "stream",
          "text": []
        },
        {
          "name": "stdout",
          "output_type": "stream",
          "text": [
            "\n",
            "Successfully rendered unmasked image of f=77cm, z=75.0cm\n"
          ]
        },
        {
          "name": "stderr",
          "output_type": "stream",
          "text": [
            "\n"
          ]
        },
        {
          "name": "stdout",
          "output_type": "stream",
          "text": [
            "Computation Took 1.288811445236206\n"
          ]
        },
        {
          "name": "stderr",
          "output_type": "stream",
          "text": []
        },
        {
          "name": "stdout",
          "output_type": "stream",
          "text": [
            "\n",
            "Successfully rendered unmasked image of f=77cm, z=76.0cm\n"
          ]
        },
        {
          "name": "stderr",
          "output_type": "stream",
          "text": [
            "\n"
          ]
        },
        {
          "name": "stdout",
          "output_type": "stream",
          "text": [
            "Computation Took 1.2909612655639648\n"
          ]
        },
        {
          "name": "stderr",
          "output_type": "stream",
          "text": []
        },
        {
          "name": "stdout",
          "output_type": "stream",
          "text": [
            "\n",
            "Successfully rendered unmasked image of f=77cm, z=77.0cm\n"
          ]
        },
        {
          "name": "stderr",
          "output_type": "stream",
          "text": [
            "\n"
          ]
        },
        {
          "name": "stdout",
          "output_type": "stream",
          "text": [
            "Computation Took 1.292034387588501\n"
          ]
        },
        {
          "name": "stderr",
          "output_type": "stream",
          "text": []
        },
        {
          "name": "stdout",
          "output_type": "stream",
          "text": [
            "\n",
            "Successfully rendered unmasked image of f=77cm, z=78.0cm\n"
          ]
        },
        {
          "name": "stderr",
          "output_type": "stream",
          "text": [
            "\n"
          ]
        },
        {
          "name": "stdout",
          "output_type": "stream",
          "text": [
            "Computation Took 1.2917187213897705\n"
          ]
        },
        {
          "name": "stderr",
          "output_type": "stream",
          "text": []
        },
        {
          "name": "stdout",
          "output_type": "stream",
          "text": [
            "\n",
            "Successfully rendered unmasked image of f=77cm, z=79.0cm\n"
          ]
        },
        {
          "name": "stderr",
          "output_type": "stream",
          "text": [
            "\n"
          ]
        },
        {
          "name": "stdout",
          "output_type": "stream",
          "text": [
            "Computation Took 1.290140151977539\n"
          ]
        },
        {
          "name": "stderr",
          "output_type": "stream",
          "text": []
        },
        {
          "name": "stdout",
          "output_type": "stream",
          "text": [
            "\n",
            "Successfully rendered unmasked image of f=77cm, z=80.0cm\n"
          ]
        },
        {
          "name": "stderr",
          "output_type": "stream",
          "text": [
            "\n"
          ]
        },
        {
          "name": "stdout",
          "output_type": "stream",
          "text": [
            "Computation Took 1.2909495830535889\n"
          ]
        },
        {
          "name": "stderr",
          "output_type": "stream",
          "text": []
        },
        {
          "name": "stdout",
          "output_type": "stream",
          "text": [
            "\n",
            "Successfully rendered unmasked image of f=77cm, z=81.0cm\n"
          ]
        },
        {
          "name": "stderr",
          "output_type": "stream",
          "text": [
            "\n"
          ]
        },
        {
          "name": "stdout",
          "output_type": "stream",
          "text": [
            "Computation Took 1.2923336029052734\n"
          ]
        },
        {
          "name": "stderr",
          "output_type": "stream",
          "text": []
        },
        {
          "name": "stdout",
          "output_type": "stream",
          "text": [
            "\n",
            "Successfully rendered unmasked image of f=77cm, z=82.0cm\n"
          ]
        },
        {
          "name": "stderr",
          "output_type": "stream",
          "text": [
            "\n"
          ]
        },
        {
          "name": "stdout",
          "output_type": "stream",
          "text": [
            "Computation Took 1.2894701957702637\n"
          ]
        },
        {
          "name": "stderr",
          "output_type": "stream",
          "text": []
        },
        {
          "name": "stdout",
          "output_type": "stream",
          "text": [
            "\n",
            "Successfully rendered unmasked image of f=77cm, z=83.0cm\n"
          ]
        },
        {
          "name": "stderr",
          "output_type": "stream",
          "text": [
            "\n"
          ]
        },
        {
          "name": "stdout",
          "output_type": "stream",
          "text": [
            "Computation Took 1.2914042472839355\n"
          ]
        },
        {
          "name": "stderr",
          "output_type": "stream",
          "text": []
        },
        {
          "name": "stdout",
          "output_type": "stream",
          "text": [
            "\n",
            "Successfully rendered unmasked image of f=77cm, z=84.0cm\n"
          ]
        },
        {
          "name": "stderr",
          "output_type": "stream",
          "text": [
            "\n"
          ]
        },
        {
          "name": "stdout",
          "output_type": "stream",
          "text": [
            "Computation Took 1.2918152809143066\n"
          ]
        },
        {
          "name": "stderr",
          "output_type": "stream",
          "text": []
        },
        {
          "name": "stdout",
          "output_type": "stream",
          "text": [
            "\n",
            "Successfully rendered unmasked image of f=77cm, z=85.0cm\n",
            "Collected garbage: 971\n"
          ]
        },
        {
          "name": "stderr",
          "output_type": "stream",
          "text": [
            "\n"
          ]
        },
        {
          "name": "stdout",
          "output_type": "stream",
          "text": [
            "Computation Took 1.2926275730133057\n"
          ]
        },
        {
          "name": "stderr",
          "output_type": "stream",
          "text": []
        },
        {
          "name": "stdout",
          "output_type": "stream",
          "text": [
            "\n",
            "Successfully rendered unmasked image of f=78cm, z=68.0cm\n"
          ]
        },
        {
          "name": "stderr",
          "output_type": "stream",
          "text": [
            "\n"
          ]
        },
        {
          "name": "stdout",
          "output_type": "stream",
          "text": [
            "Computation Took 1.2910497188568115\n"
          ]
        },
        {
          "name": "stderr",
          "output_type": "stream",
          "text": []
        },
        {
          "name": "stdout",
          "output_type": "stream",
          "text": [
            "\n",
            "Successfully rendered unmasked image of f=78cm, z=69.0cm\n"
          ]
        },
        {
          "name": "stderr",
          "output_type": "stream",
          "text": [
            "\n"
          ]
        },
        {
          "name": "stdout",
          "output_type": "stream",
          "text": [
            "Computation Took 1.2926065921783447\n"
          ]
        },
        {
          "name": "stderr",
          "output_type": "stream",
          "text": []
        },
        {
          "name": "stdout",
          "output_type": "stream",
          "text": [
            "\n",
            "Successfully rendered unmasked image of f=78cm, z=70.0cm\n"
          ]
        },
        {
          "name": "stderr",
          "output_type": "stream",
          "text": [
            "\n"
          ]
        },
        {
          "name": "stdout",
          "output_type": "stream",
          "text": [
            "Computation Took 1.290048599243164\n"
          ]
        },
        {
          "name": "stderr",
          "output_type": "stream",
          "text": []
        },
        {
          "name": "stdout",
          "output_type": "stream",
          "text": [
            "\n",
            "Successfully rendered unmasked image of f=78cm, z=71.0cm\n"
          ]
        },
        {
          "name": "stderr",
          "output_type": "stream",
          "text": [
            "\n"
          ]
        },
        {
          "name": "stdout",
          "output_type": "stream",
          "text": [
            "Computation Took 1.2893362045288086\n"
          ]
        },
        {
          "name": "stderr",
          "output_type": "stream",
          "text": []
        },
        {
          "name": "stdout",
          "output_type": "stream",
          "text": [
            "\n",
            "Successfully rendered unmasked image of f=78cm, z=72.0cm\n"
          ]
        },
        {
          "name": "stderr",
          "output_type": "stream",
          "text": [
            "\n"
          ]
        },
        {
          "name": "stdout",
          "output_type": "stream",
          "text": [
            "Computation Took 1.2895264625549316\n"
          ]
        },
        {
          "name": "stderr",
          "output_type": "stream",
          "text": []
        },
        {
          "name": "stdout",
          "output_type": "stream",
          "text": [
            "\n",
            "Successfully rendered unmasked image of f=78cm, z=73.0cm\n"
          ]
        },
        {
          "name": "stderr",
          "output_type": "stream",
          "text": [
            "\n"
          ]
        },
        {
          "name": "stdout",
          "output_type": "stream",
          "text": [
            "Computation Took 1.2916011810302734\n"
          ]
        },
        {
          "name": "stderr",
          "output_type": "stream",
          "text": []
        },
        {
          "name": "stdout",
          "output_type": "stream",
          "text": [
            "\n",
            "Successfully rendered unmasked image of f=78cm, z=74.0cm\n"
          ]
        },
        {
          "name": "stderr",
          "output_type": "stream",
          "text": [
            "\n"
          ]
        },
        {
          "name": "stdout",
          "output_type": "stream",
          "text": [
            "Computation Took 1.2904324531555176\n"
          ]
        },
        {
          "name": "stderr",
          "output_type": "stream",
          "text": []
        },
        {
          "name": "stdout",
          "output_type": "stream",
          "text": [
            "\n",
            "Successfully rendered unmasked image of f=78cm, z=75.0cm\n"
          ]
        },
        {
          "name": "stderr",
          "output_type": "stream",
          "text": [
            "\n"
          ]
        },
        {
          "name": "stdout",
          "output_type": "stream",
          "text": [
            "Computation Took 1.2904958724975586\n"
          ]
        },
        {
          "name": "stderr",
          "output_type": "stream",
          "text": []
        },
        {
          "name": "stdout",
          "output_type": "stream",
          "text": [
            "\n",
            "Successfully rendered unmasked image of f=78cm, z=76.0cm\n"
          ]
        },
        {
          "name": "stderr",
          "output_type": "stream",
          "text": [
            "\n"
          ]
        },
        {
          "name": "stdout",
          "output_type": "stream",
          "text": [
            "Computation Took 1.289548397064209\n"
          ]
        },
        {
          "name": "stderr",
          "output_type": "stream",
          "text": []
        },
        {
          "name": "stdout",
          "output_type": "stream",
          "text": [
            "\n",
            "Successfully rendered unmasked image of f=78cm, z=77.0cm\n"
          ]
        },
        {
          "name": "stderr",
          "output_type": "stream",
          "text": [
            "\n"
          ]
        },
        {
          "name": "stdout",
          "output_type": "stream",
          "text": [
            "Computation Took 1.2922396659851074\n"
          ]
        },
        {
          "name": "stderr",
          "output_type": "stream",
          "text": []
        },
        {
          "name": "stdout",
          "output_type": "stream",
          "text": [
            "\n",
            "Successfully rendered unmasked image of f=78cm, z=78.0cm\n"
          ]
        },
        {
          "name": "stderr",
          "output_type": "stream",
          "text": [
            "\n"
          ]
        },
        {
          "name": "stdout",
          "output_type": "stream",
          "text": [
            "Computation Took 1.2877233028411865\n"
          ]
        },
        {
          "name": "stderr",
          "output_type": "stream",
          "text": []
        },
        {
          "name": "stdout",
          "output_type": "stream",
          "text": [
            "\n",
            "Successfully rendered unmasked image of f=78cm, z=79.0cm\n"
          ]
        },
        {
          "name": "stderr",
          "output_type": "stream",
          "text": [
            "\n"
          ]
        },
        {
          "name": "stdout",
          "output_type": "stream",
          "text": [
            "Computation Took 1.2896919250488281\n"
          ]
        },
        {
          "name": "stderr",
          "output_type": "stream",
          "text": []
        },
        {
          "name": "stdout",
          "output_type": "stream",
          "text": [
            "\n",
            "Successfully rendered unmasked image of f=78cm, z=80.0cm\n"
          ]
        },
        {
          "name": "stderr",
          "output_type": "stream",
          "text": [
            "\n"
          ]
        },
        {
          "name": "stdout",
          "output_type": "stream",
          "text": [
            "Computation Took 1.2903175354003906\n"
          ]
        },
        {
          "name": "stderr",
          "output_type": "stream",
          "text": []
        },
        {
          "name": "stdout",
          "output_type": "stream",
          "text": [
            "\n",
            "Successfully rendered unmasked image of f=78cm, z=81.0cm\n"
          ]
        },
        {
          "name": "stderr",
          "output_type": "stream",
          "text": [
            "\n"
          ]
        },
        {
          "name": "stdout",
          "output_type": "stream",
          "text": [
            "Computation Took 1.2880799770355225\n"
          ]
        },
        {
          "name": "stderr",
          "output_type": "stream",
          "text": []
        },
        {
          "name": "stdout",
          "output_type": "stream",
          "text": [
            "\n",
            "Successfully rendered unmasked image of f=78cm, z=82.0cm\n"
          ]
        },
        {
          "name": "stderr",
          "output_type": "stream",
          "text": [
            "\n"
          ]
        },
        {
          "name": "stdout",
          "output_type": "stream",
          "text": [
            "Computation Took 1.2916381359100342\n"
          ]
        },
        {
          "name": "stderr",
          "output_type": "stream",
          "text": []
        },
        {
          "name": "stdout",
          "output_type": "stream",
          "text": [
            "\n",
            "Successfully rendered unmasked image of f=78cm, z=83.0cm\n"
          ]
        },
        {
          "name": "stderr",
          "output_type": "stream",
          "text": [
            "\n"
          ]
        },
        {
          "name": "stdout",
          "output_type": "stream",
          "text": [
            "Computation Took 1.2909963130950928\n"
          ]
        },
        {
          "name": "stderr",
          "output_type": "stream",
          "text": []
        },
        {
          "name": "stdout",
          "output_type": "stream",
          "text": [
            "\n",
            "Successfully rendered unmasked image of f=78cm, z=84.0cm\n"
          ]
        },
        {
          "name": "stderr",
          "output_type": "stream",
          "text": [
            "\n"
          ]
        },
        {
          "name": "stdout",
          "output_type": "stream",
          "text": [
            "Computation Took 1.2899227142333984\n"
          ]
        },
        {
          "name": "stderr",
          "output_type": "stream",
          "text": []
        },
        {
          "name": "stdout",
          "output_type": "stream",
          "text": [
            "\n",
            "Successfully rendered unmasked image of f=78cm, z=85.0cm\n"
          ]
        },
        {
          "name": "stderr",
          "output_type": "stream",
          "text": [
            "\n"
          ]
        },
        {
          "name": "stdout",
          "output_type": "stream",
          "text": [
            "Computation Took 1.292860746383667\n"
          ]
        },
        {
          "name": "stderr",
          "output_type": "stream",
          "text": []
        },
        {
          "name": "stdout",
          "output_type": "stream",
          "text": [
            "\n",
            "Successfully rendered unmasked image of f=78cm, z=86.0cm\n",
            "Collected garbage: 1318\n"
          ]
        },
        {
          "name": "stderr",
          "output_type": "stream",
          "text": [
            "\n"
          ]
        },
        {
          "name": "stdout",
          "output_type": "stream",
          "text": [
            "Computation Took 1.2920126914978027\n"
          ]
        },
        {
          "name": "stderr",
          "output_type": "stream",
          "text": []
        },
        {
          "name": "stdout",
          "output_type": "stream",
          "text": [
            "\n",
            "Successfully rendered unmasked image of f=79cm, z=69.0cm\n"
          ]
        },
        {
          "name": "stderr",
          "output_type": "stream",
          "text": [
            "\n"
          ]
        },
        {
          "name": "stdout",
          "output_type": "stream",
          "text": [
            "Computation Took 1.2908196449279785\n"
          ]
        },
        {
          "name": "stderr",
          "output_type": "stream",
          "text": []
        },
        {
          "name": "stdout",
          "output_type": "stream",
          "text": [
            "\n",
            "Successfully rendered unmasked image of f=79cm, z=70.0cm\n"
          ]
        },
        {
          "name": "stderr",
          "output_type": "stream",
          "text": [
            "\n"
          ]
        },
        {
          "name": "stdout",
          "output_type": "stream",
          "text": [
            "Computation Took 1.2915077209472656\n"
          ]
        },
        {
          "name": "stderr",
          "output_type": "stream",
          "text": []
        },
        {
          "name": "stdout",
          "output_type": "stream",
          "text": [
            "\n",
            "Successfully rendered unmasked image of f=79cm, z=71.0cm\n"
          ]
        },
        {
          "name": "stderr",
          "output_type": "stream",
          "text": [
            "\n"
          ]
        },
        {
          "name": "stdout",
          "output_type": "stream",
          "text": [
            "Computation Took 1.2885563373565674\n"
          ]
        },
        {
          "name": "stderr",
          "output_type": "stream",
          "text": []
        },
        {
          "name": "stdout",
          "output_type": "stream",
          "text": [
            "\n",
            "Successfully rendered unmasked image of f=79cm, z=72.0cm\n"
          ]
        },
        {
          "name": "stderr",
          "output_type": "stream",
          "text": [
            "\n"
          ]
        },
        {
          "name": "stdout",
          "output_type": "stream",
          "text": [
            "Computation Took 1.292506456375122\n"
          ]
        },
        {
          "name": "stderr",
          "output_type": "stream",
          "text": []
        },
        {
          "name": "stdout",
          "output_type": "stream",
          "text": [
            "\n",
            "Successfully rendered unmasked image of f=79cm, z=73.0cm\n"
          ]
        },
        {
          "name": "stderr",
          "output_type": "stream",
          "text": [
            "\n"
          ]
        },
        {
          "name": "stdout",
          "output_type": "stream",
          "text": [
            "Computation Took 1.290027141571045\n"
          ]
        },
        {
          "name": "stderr",
          "output_type": "stream",
          "text": []
        },
        {
          "name": "stdout",
          "output_type": "stream",
          "text": [
            "\n",
            "Successfully rendered unmasked image of f=79cm, z=74.0cm\n"
          ]
        },
        {
          "name": "stderr",
          "output_type": "stream",
          "text": [
            "\n"
          ]
        },
        {
          "name": "stdout",
          "output_type": "stream",
          "text": [
            "Computation Took 1.292292594909668\n"
          ]
        },
        {
          "name": "stderr",
          "output_type": "stream",
          "text": []
        },
        {
          "name": "stdout",
          "output_type": "stream",
          "text": [
            "\n",
            "Successfully rendered unmasked image of f=79cm, z=75.0cm\n"
          ]
        },
        {
          "name": "stderr",
          "output_type": "stream",
          "text": [
            "\n"
          ]
        },
        {
          "name": "stdout",
          "output_type": "stream",
          "text": [
            "Computation Took 1.29158616065979\n"
          ]
        },
        {
          "name": "stderr",
          "output_type": "stream",
          "text": []
        },
        {
          "name": "stdout",
          "output_type": "stream",
          "text": [
            "\n",
            "Successfully rendered unmasked image of f=79cm, z=76.0cm\n"
          ]
        },
        {
          "name": "stderr",
          "output_type": "stream",
          "text": [
            "\n"
          ]
        },
        {
          "name": "stdout",
          "output_type": "stream",
          "text": [
            "Computation Took 1.2926366329193115\n"
          ]
        },
        {
          "name": "stderr",
          "output_type": "stream",
          "text": []
        },
        {
          "name": "stdout",
          "output_type": "stream",
          "text": [
            "\n",
            "Successfully rendered unmasked image of f=79cm, z=77.0cm\n"
          ]
        },
        {
          "name": "stderr",
          "output_type": "stream",
          "text": [
            "\n"
          ]
        },
        {
          "name": "stdout",
          "output_type": "stream",
          "text": [
            "Computation Took 1.291377067565918\n"
          ]
        },
        {
          "name": "stderr",
          "output_type": "stream",
          "text": []
        },
        {
          "name": "stdout",
          "output_type": "stream",
          "text": [
            "\n",
            "Successfully rendered unmasked image of f=79cm, z=78.0cm\n"
          ]
        },
        {
          "name": "stderr",
          "output_type": "stream",
          "text": [
            "\n"
          ]
        },
        {
          "name": "stdout",
          "output_type": "stream",
          "text": [
            "Computation Took 1.289947509765625\n"
          ]
        },
        {
          "name": "stderr",
          "output_type": "stream",
          "text": []
        },
        {
          "name": "stdout",
          "output_type": "stream",
          "text": [
            "\n",
            "Successfully rendered unmasked image of f=79cm, z=79.0cm\n"
          ]
        },
        {
          "name": "stderr",
          "output_type": "stream",
          "text": [
            "\n"
          ]
        },
        {
          "name": "stdout",
          "output_type": "stream",
          "text": [
            "Computation Took 1.2921843528747559\n"
          ]
        },
        {
          "name": "stderr",
          "output_type": "stream",
          "text": []
        },
        {
          "name": "stdout",
          "output_type": "stream",
          "text": [
            "\n",
            "Successfully rendered unmasked image of f=79cm, z=80.0cm\n"
          ]
        },
        {
          "name": "stderr",
          "output_type": "stream",
          "text": [
            "\n"
          ]
        },
        {
          "name": "stdout",
          "output_type": "stream",
          "text": [
            "Computation Took 1.2894628047943115\n"
          ]
        },
        {
          "name": "stderr",
          "output_type": "stream",
          "text": []
        },
        {
          "name": "stdout",
          "output_type": "stream",
          "text": [
            "\n",
            "Successfully rendered unmasked image of f=79cm, z=81.0cm\n"
          ]
        },
        {
          "name": "stderr",
          "output_type": "stream",
          "text": [
            "\n"
          ]
        },
        {
          "name": "stdout",
          "output_type": "stream",
          "text": [
            "Computation Took 1.2928569316864014\n"
          ]
        },
        {
          "name": "stderr",
          "output_type": "stream",
          "text": []
        },
        {
          "name": "stdout",
          "output_type": "stream",
          "text": [
            "\n",
            "Successfully rendered unmasked image of f=79cm, z=82.0cm\n"
          ]
        },
        {
          "name": "stderr",
          "output_type": "stream",
          "text": [
            "\n"
          ]
        },
        {
          "name": "stdout",
          "output_type": "stream",
          "text": [
            "Computation Took 1.2909290790557861\n"
          ]
        },
        {
          "name": "stderr",
          "output_type": "stream",
          "text": []
        },
        {
          "name": "stdout",
          "output_type": "stream",
          "text": [
            "\n",
            "Successfully rendered unmasked image of f=79cm, z=83.0cm\n"
          ]
        },
        {
          "name": "stderr",
          "output_type": "stream",
          "text": [
            "\n"
          ]
        },
        {
          "name": "stdout",
          "output_type": "stream",
          "text": [
            "Computation Took 1.289421558380127\n"
          ]
        },
        {
          "name": "stderr",
          "output_type": "stream",
          "text": []
        },
        {
          "name": "stdout",
          "output_type": "stream",
          "text": [
            "\n",
            "Successfully rendered unmasked image of f=79cm, z=84.0cm\n"
          ]
        },
        {
          "name": "stderr",
          "output_type": "stream",
          "text": [
            "\n"
          ]
        },
        {
          "name": "stdout",
          "output_type": "stream",
          "text": [
            "Computation Took 1.29075288772583\n"
          ]
        },
        {
          "name": "stderr",
          "output_type": "stream",
          "text": []
        },
        {
          "name": "stdout",
          "output_type": "stream",
          "text": [
            "\n",
            "Successfully rendered unmasked image of f=79cm, z=85.0cm\n"
          ]
        },
        {
          "name": "stderr",
          "output_type": "stream",
          "text": [
            "\n"
          ]
        },
        {
          "name": "stdout",
          "output_type": "stream",
          "text": [
            "Computation Took 1.2923524379730225\n"
          ]
        },
        {
          "name": "stderr",
          "output_type": "stream",
          "text": []
        },
        {
          "name": "stdout",
          "output_type": "stream",
          "text": [
            "\n",
            "Successfully rendered unmasked image of f=79cm, z=86.0cm\n"
          ]
        },
        {
          "name": "stderr",
          "output_type": "stream",
          "text": [
            "\n"
          ]
        },
        {
          "name": "stdout",
          "output_type": "stream",
          "text": [
            "Computation Took 1.2889189720153809\n"
          ]
        },
        {
          "name": "stderr",
          "output_type": "stream",
          "text": []
        },
        {
          "name": "stdout",
          "output_type": "stream",
          "text": [
            "\n",
            "Successfully rendered unmasked image of f=79cm, z=87.0cm\n",
            "Collected garbage: 971\n"
          ]
        },
        {
          "name": "stderr",
          "output_type": "stream",
          "text": [
            "\n"
          ]
        },
        {
          "name": "stdout",
          "output_type": "stream",
          "text": [
            "Computation Took 1.2899718284606934\n"
          ]
        },
        {
          "name": "stderr",
          "output_type": "stream",
          "text": []
        },
        {
          "name": "stdout",
          "output_type": "stream",
          "text": [
            "\n",
            "Successfully rendered unmasked image of f=80cm, z=70.0cm\n"
          ]
        },
        {
          "name": "stderr",
          "output_type": "stream",
          "text": [
            "\n"
          ]
        },
        {
          "name": "stdout",
          "output_type": "stream",
          "text": [
            "Computation Took 1.2904248237609863\n"
          ]
        },
        {
          "name": "stderr",
          "output_type": "stream",
          "text": []
        },
        {
          "name": "stdout",
          "output_type": "stream",
          "text": [
            "\n",
            "Successfully rendered unmasked image of f=80cm, z=71.0cm\n"
          ]
        },
        {
          "name": "stderr",
          "output_type": "stream",
          "text": [
            "\n"
          ]
        },
        {
          "name": "stdout",
          "output_type": "stream",
          "text": [
            "Computation Took 1.287968397140503\n"
          ]
        },
        {
          "name": "stderr",
          "output_type": "stream",
          "text": []
        },
        {
          "name": "stdout",
          "output_type": "stream",
          "text": [
            "\n",
            "Successfully rendered unmasked image of f=80cm, z=72.0cm\n"
          ]
        },
        {
          "name": "stderr",
          "output_type": "stream",
          "text": [
            "\n"
          ]
        },
        {
          "name": "stdout",
          "output_type": "stream",
          "text": [
            "Computation Took 1.290506362915039\n"
          ]
        },
        {
          "name": "stderr",
          "output_type": "stream",
          "text": []
        },
        {
          "name": "stdout",
          "output_type": "stream",
          "text": [
            "\n",
            "Successfully rendered unmasked image of f=80cm, z=73.0cm\n"
          ]
        },
        {
          "name": "stderr",
          "output_type": "stream",
          "text": [
            "\n"
          ]
        },
        {
          "name": "stdout",
          "output_type": "stream",
          "text": [
            "Computation Took 1.291358470916748\n"
          ]
        },
        {
          "name": "stderr",
          "output_type": "stream",
          "text": []
        },
        {
          "name": "stdout",
          "output_type": "stream",
          "text": [
            "\n",
            "Successfully rendered unmasked image of f=80cm, z=74.0cm\n"
          ]
        },
        {
          "name": "stderr",
          "output_type": "stream",
          "text": [
            "\n"
          ]
        },
        {
          "name": "stdout",
          "output_type": "stream",
          "text": [
            "Computation Took 1.2896614074707031\n"
          ]
        },
        {
          "name": "stderr",
          "output_type": "stream",
          "text": []
        },
        {
          "name": "stdout",
          "output_type": "stream",
          "text": [
            "\n",
            "Successfully rendered unmasked image of f=80cm, z=75.0cm\n"
          ]
        },
        {
          "name": "stderr",
          "output_type": "stream",
          "text": [
            "\n"
          ]
        },
        {
          "name": "stdout",
          "output_type": "stream",
          "text": [
            "Computation Took 1.2923130989074707\n"
          ]
        },
        {
          "name": "stderr",
          "output_type": "stream",
          "text": []
        },
        {
          "name": "stdout",
          "output_type": "stream",
          "text": [
            "\n",
            "Successfully rendered unmasked image of f=80cm, z=76.0cm\n"
          ]
        },
        {
          "name": "stderr",
          "output_type": "stream",
          "text": [
            "\n"
          ]
        },
        {
          "name": "stdout",
          "output_type": "stream",
          "text": [
            "Computation Took 1.2919650077819824\n"
          ]
        },
        {
          "name": "stderr",
          "output_type": "stream",
          "text": []
        },
        {
          "name": "stdout",
          "output_type": "stream",
          "text": [
            "\n",
            "Successfully rendered unmasked image of f=80cm, z=77.0cm\n"
          ]
        },
        {
          "name": "stderr",
          "output_type": "stream",
          "text": [
            "\n"
          ]
        },
        {
          "name": "stdout",
          "output_type": "stream",
          "text": [
            "Computation Took 1.291353702545166\n"
          ]
        },
        {
          "name": "stderr",
          "output_type": "stream",
          "text": []
        },
        {
          "name": "stdout",
          "output_type": "stream",
          "text": [
            "\n",
            "Successfully rendered unmasked image of f=80cm, z=78.0cm\n"
          ]
        },
        {
          "name": "stderr",
          "output_type": "stream",
          "text": [
            "\n"
          ]
        },
        {
          "name": "stdout",
          "output_type": "stream",
          "text": [
            "Computation Took 1.2909901142120361\n"
          ]
        },
        {
          "name": "stderr",
          "output_type": "stream",
          "text": []
        },
        {
          "name": "stdout",
          "output_type": "stream",
          "text": [
            "\n",
            "Successfully rendered unmasked image of f=80cm, z=79.0cm\n"
          ]
        },
        {
          "name": "stderr",
          "output_type": "stream",
          "text": [
            "\n"
          ]
        },
        {
          "name": "stdout",
          "output_type": "stream",
          "text": [
            "Computation Took 1.290238857269287\n"
          ]
        },
        {
          "name": "stderr",
          "output_type": "stream",
          "text": []
        },
        {
          "name": "stdout",
          "output_type": "stream",
          "text": [
            "\n",
            "Successfully rendered unmasked image of f=80cm, z=80.0cm\n"
          ]
        },
        {
          "name": "stderr",
          "output_type": "stream",
          "text": [
            "\n"
          ]
        },
        {
          "name": "stdout",
          "output_type": "stream",
          "text": [
            "Computation Took 1.291727066040039\n"
          ]
        },
        {
          "name": "stderr",
          "output_type": "stream",
          "text": []
        },
        {
          "name": "stdout",
          "output_type": "stream",
          "text": [
            "\n",
            "Successfully rendered unmasked image of f=80cm, z=81.0cm\n"
          ]
        },
        {
          "name": "stderr",
          "output_type": "stream",
          "text": [
            "\n"
          ]
        },
        {
          "name": "stdout",
          "output_type": "stream",
          "text": [
            "Computation Took 1.2919137477874756\n"
          ]
        },
        {
          "name": "stderr",
          "output_type": "stream",
          "text": []
        },
        {
          "name": "stdout",
          "output_type": "stream",
          "text": [
            "\n",
            "Successfully rendered unmasked image of f=80cm, z=82.0cm\n"
          ]
        },
        {
          "name": "stderr",
          "output_type": "stream",
          "text": [
            "\n"
          ]
        },
        {
          "name": "stdout",
          "output_type": "stream",
          "text": [
            "Computation Took 1.289247751235962\n"
          ]
        },
        {
          "name": "stderr",
          "output_type": "stream",
          "text": []
        },
        {
          "name": "stdout",
          "output_type": "stream",
          "text": [
            "\n",
            "Successfully rendered unmasked image of f=80cm, z=83.0cm\n"
          ]
        },
        {
          "name": "stderr",
          "output_type": "stream",
          "text": [
            "\n"
          ]
        },
        {
          "name": "stdout",
          "output_type": "stream",
          "text": [
            "Computation Took 1.2898046970367432\n"
          ]
        },
        {
          "name": "stderr",
          "output_type": "stream",
          "text": []
        },
        {
          "name": "stdout",
          "output_type": "stream",
          "text": [
            "\n",
            "Successfully rendered unmasked image of f=80cm, z=84.0cm\n"
          ]
        },
        {
          "name": "stderr",
          "output_type": "stream",
          "text": [
            "\n"
          ]
        },
        {
          "name": "stdout",
          "output_type": "stream",
          "text": [
            "Computation Took 1.2888305187225342\n"
          ]
        },
        {
          "name": "stderr",
          "output_type": "stream",
          "text": []
        },
        {
          "name": "stdout",
          "output_type": "stream",
          "text": [
            "\n",
            "Successfully rendered unmasked image of f=80cm, z=85.0cm\n"
          ]
        },
        {
          "name": "stderr",
          "output_type": "stream",
          "text": [
            "\n"
          ]
        },
        {
          "name": "stdout",
          "output_type": "stream",
          "text": [
            "Computation Took 1.2882177829742432\n"
          ]
        },
        {
          "name": "stderr",
          "output_type": "stream",
          "text": []
        },
        {
          "name": "stdout",
          "output_type": "stream",
          "text": [
            "\n",
            "Successfully rendered unmasked image of f=80cm, z=86.0cm\n"
          ]
        },
        {
          "name": "stderr",
          "output_type": "stream",
          "text": [
            "\n"
          ]
        },
        {
          "name": "stdout",
          "output_type": "stream",
          "text": [
            "Computation Took 1.2898218631744385\n"
          ]
        },
        {
          "name": "stderr",
          "output_type": "stream",
          "text": []
        },
        {
          "name": "stdout",
          "output_type": "stream",
          "text": [
            "\n",
            "Successfully rendered unmasked image of f=80cm, z=87.0cm\n"
          ]
        },
        {
          "name": "stderr",
          "output_type": "stream",
          "text": [
            "\n"
          ]
        },
        {
          "name": "stdout",
          "output_type": "stream",
          "text": [
            "Computation Took 1.2908554077148438\n",
            "\n",
            "Successfully rendered unmasked image of f=80cm, z=88.0cm\n",
            "Collected garbage: 986\n"
          ]
        }
      ],
      "source": [
        "gc.collect()\n",
        "render_all(75, 80)"
      ]
    },
    {
      "cell_type": "code",
      "execution_count": null,
      "metadata": {
        "colab": {
          "base_uri": "https://localhost:8080/"
        },
        "collapsed": true,
        "id": "nblX4yGhyU_x",
        "outputId": "070a56d5-9755-4be8-b762-4029490728d7"
      },
      "outputs": [
        {
          "name": "stdout",
          "output_type": "stream",
          "text": [
            "  adding: 45_35_unmasked.jpg (deflated 52%)\n",
            "  adding: 45_36_unmasked.jpg (deflated 52%)\n",
            "  adding: 45_37_unmasked.jpg (deflated 51%)\n",
            "  adding: 45_38_unmasked.jpg (deflated 51%)\n",
            "  adding: 45_39_unmasked.jpg (deflated 51%)\n",
            "  adding: 45_40_unmasked.jpg (deflated 50%)\n",
            "  adding: 45_41_unmasked.jpg (deflated 49%)\n",
            "  adding: 45_42_unmasked.jpg (deflated 49%)\n",
            "  adding: 45_43_unmasked.jpg (deflated 47%)\n",
            "  adding: 45_44_unmasked.jpg (deflated 46%)\n",
            "  adding: 45_45_unmasked.jpg (deflated 46%)\n",
            "  adding: 45_46_unmasked.jpg (deflated 45%)\n",
            "  adding: 45_47_unmasked.jpg (deflated 44%)\n",
            "  adding: 45_48_unmasked.jpg (deflated 43%)\n",
            "  adding: 45_49_unmasked.jpg (deflated 43%)\n",
            "  adding: 45_50_unmasked.jpg (deflated 41%)\n",
            "  adding: 45_51_unmasked.jpg (deflated 41%)\n",
            "  adding: 45_52_unmasked.jpg (deflated 40%)\n",
            "  adding: 45_53_unmasked.jpg (deflated 39%)\n",
            "  adding: 46_36_unmasked.jpg (deflated 51%)\n",
            "  adding: 46_37_unmasked.jpg (deflated 51%)\n",
            "  adding: 46_38_unmasked.jpg (deflated 51%)\n",
            "  adding: 46_39_unmasked.jpg (deflated 50%)\n",
            "  adding: 46_40_unmasked.jpg (deflated 50%)\n",
            "  adding: 46_41_unmasked.jpg (deflated 49%)\n",
            "  adding: 46_42_unmasked.jpg (deflated 48%)\n",
            "  adding: 46_43_unmasked.jpg (deflated 48%)\n",
            "  adding: 46_44_unmasked.jpg (deflated 46%)\n",
            "  adding: 46_45_unmasked.jpg (deflated 46%)\n",
            "  adding: 46_46_unmasked.jpg (deflated 45%)\n",
            "  adding: 46_47_unmasked.jpg (deflated 44%)\n",
            "  adding: 46_48_unmasked.jpg (deflated 43%)\n",
            "  adding: 46_49_unmasked.jpg (deflated 43%)\n",
            "  adding: 46_50_unmasked.jpg (deflated 41%)\n",
            "  adding: 46_51_unmasked.jpg (deflated 40%)\n",
            "  adding: 46_52_unmasked.jpg (deflated 40%)\n",
            "  adding: 46_53_unmasked.jpg (deflated 39%)\n",
            "  adding: 46_54_unmasked.jpg (deflated 38%)\n",
            "  adding: 47_37_unmasked.jpg (deflated 51%)\n",
            "  adding: 47_38_unmasked.jpg (deflated 50%)\n",
            "  adding: 47_39_unmasked.jpg (deflated 51%)\n",
            "  adding: 47_40_unmasked.jpg (deflated 50%)\n",
            "  adding: 47_41_unmasked.jpg (deflated 49%)\n",
            "  adding: 47_42_unmasked.jpg (deflated 48%)\n",
            "  adding: 47_43_unmasked.jpg (deflated 47%)\n",
            "  adding: 47_44_unmasked.jpg (deflated 46%)\n",
            "  adding: 47_45_unmasked.jpg (deflated 46%)\n",
            "  adding: 47_46_unmasked.jpg (deflated 45%)\n",
            "  adding: 47_47_unmasked.jpg (deflated 44%)\n",
            "  adding: 47_48_unmasked.jpg (deflated 43%)\n",
            "  adding: 47_49_unmasked.jpg (deflated 42%)\n",
            "  adding: 47_50_unmasked.jpg (deflated 41%)\n",
            "  adding: 47_51_unmasked.jpg (deflated 41%)\n",
            "  adding: 47_52_unmasked.jpg (deflated 40%)\n",
            "  adding: 47_53_unmasked.jpg (deflated 39%)\n",
            "  adding: 47_54_unmasked.jpg (deflated 38%)\n",
            "  adding: 47_55_unmasked.jpg (deflated 38%)\n",
            "  adding: 48_38_unmasked.jpg (deflated 50%)\n",
            "  adding: 48_39_unmasked.jpg (deflated 51%)\n",
            "  adding: 48_40_unmasked.jpg (deflated 49%)\n",
            "  adding: 48_41_unmasked.jpg (deflated 49%)\n",
            "  adding: 48_42_unmasked.jpg (deflated 48%)\n",
            "  adding: 48_43_unmasked.jpg (deflated 47%)\n",
            "  adding: 48_44_unmasked.jpg (deflated 46%)\n",
            "  adding: 48_45_unmasked.jpg (deflated 45%)\n",
            "  adding: 48_46_unmasked.jpg (deflated 45%)\n",
            "  adding: 48_47_unmasked.jpg (deflated 44%)\n",
            "  adding: 48_48_unmasked.jpg (deflated 44%)\n",
            "  adding: 48_49_unmasked.jpg (deflated 42%)\n",
            "  adding: 48_50_unmasked.jpg (deflated 41%)\n",
            "  adding: 48_51_unmasked.jpg (deflated 40%)\n",
            "  adding: 48_52_unmasked.jpg (deflated 40%)\n",
            "  adding: 48_53_unmasked.jpg (deflated 39%)\n",
            "  adding: 48_54_unmasked.jpg (deflated 38%)\n",
            "  adding: 48_55_unmasked.jpg (deflated 37%)\n",
            "  adding: 48_56_unmasked.jpg (deflated 37%)\n",
            "  adding: 49_39_unmasked.jpg (deflated 50%)\n",
            "  adding: 49_40_unmasked.jpg (deflated 49%)\n",
            "  adding: 49_41_unmasked.jpg (deflated 49%)\n",
            "  adding: 49_42_unmasked.jpg (deflated 48%)\n",
            "  adding: 49_43_unmasked.jpg (deflated 47%)\n",
            "  adding: 49_44_unmasked.jpg (deflated 47%)\n",
            "  adding: 49_45_unmasked.jpg (deflated 46%)\n",
            "  adding: 49_46_unmasked.jpg (deflated 45%)\n",
            "  adding: 49_47_unmasked.jpg (deflated 44%)\n",
            "  adding: 49_48_unmasked.jpg (deflated 43%)\n",
            "  adding: 49_49_unmasked.jpg (deflated 42%)\n",
            "  adding: 49_50_unmasked.jpg (deflated 41%)\n",
            "  adding: 49_51_unmasked.jpg (deflated 41%)\n",
            "  adding: 49_52_unmasked.jpg (deflated 40%)\n",
            "  adding: 49_53_unmasked.jpg (deflated 39%)\n",
            "  adding: 49_54_unmasked.jpg (deflated 38%)\n",
            "  adding: 49_55_unmasked.jpg (deflated 38%)\n",
            "  adding: 49_56_unmasked.jpg (deflated 37%)\n",
            "  adding: 49_57_unmasked.jpg (deflated 36%)\n",
            "  adding: 50_40_unmasked.jpg (deflated 49%)\n",
            "  adding: 50_41_unmasked.jpg (deflated 49%)\n",
            "  adding: 50_42_unmasked.jpg (deflated 48%)\n",
            "  adding: 50_43_unmasked.jpg (deflated 47%)\n",
            "  adding: 50_44_unmasked.jpg (deflated 46%)\n",
            "  adding: 50_45_unmasked.jpg (deflated 46%)\n",
            "  adding: 50_46_unmasked.jpg (deflated 45%)\n",
            "  adding: 50_47_unmasked.jpg (deflated 44%)\n",
            "  adding: 50_48_unmasked.jpg (deflated 43%)\n",
            "  adding: 50_49_unmasked.jpg (deflated 42%)\n",
            "  adding: 50_50_unmasked.jpg (deflated 41%)\n",
            "  adding: 50_51_unmasked.jpg (deflated 40%)\n",
            "  adding: 50_52_unmasked.jpg (deflated 40%)\n",
            "  adding: 50_53_unmasked.jpg (deflated 39%)\n",
            "  adding: 50_54_unmasked.jpg (deflated 38%)\n",
            "  adding: 50_55_unmasked.jpg (deflated 37%)\n",
            "  adding: 50_56_unmasked.jpg (deflated 37%)\n",
            "  adding: 50_57_unmasked.jpg (deflated 36%)\n",
            "  adding: 50_58_unmasked.jpg (deflated 35%)\n",
            "  adding: 51_41_unmasked.jpg (deflated 49%)\n",
            "  adding: 51_42_unmasked.jpg (deflated 48%)\n",
            "  adding: 51_43_unmasked.jpg (deflated 47%)\n",
            "  adding: 51_44_unmasked.jpg (deflated 47%)\n",
            "  adding: 51_45_unmasked.jpg (deflated 46%)\n",
            "  adding: 51_46_unmasked.jpg (deflated 45%)\n",
            "  adding: 51_47_unmasked.jpg (deflated 44%)\n",
            "  adding: 51_48_unmasked.jpg (deflated 43%)\n",
            "  adding: 51_49_unmasked.jpg (deflated 43%)\n",
            "  adding: 51_50_unmasked.jpg (deflated 41%)\n",
            "  adding: 51_51_unmasked.jpg (deflated 41%)\n",
            "  adding: 51_52_unmasked.jpg (deflated 40%)\n",
            "  adding: 51_53_unmasked.jpg (deflated 39%)\n",
            "  adding: 51_54_unmasked.jpg (deflated 38%)\n",
            "  adding: 51_55_unmasked.jpg (deflated 38%)\n",
            "  adding: 51_56_unmasked.jpg (deflated 37%)\n",
            "  adding: 51_57_unmasked.jpg (deflated 36%)\n",
            "  adding: 51_58_unmasked.jpg (deflated 36%)\n",
            "  adding: 51_59_unmasked.jpg (deflated 35%)\n",
            "  adding: 52_42_unmasked.jpg (deflated 48%)\n",
            "  adding: 52_43_unmasked.jpg (deflated 47%)\n",
            "  adding: 52_44_unmasked.jpg (deflated 46%)\n",
            "  adding: 52_45_unmasked.jpg (deflated 45%)\n",
            "  adding: 52_46_unmasked.jpg (deflated 45%)\n",
            "  adding: 52_47_unmasked.jpg (deflated 44%)\n",
            "  adding: 52_48_unmasked.jpg (deflated 43%)\n",
            "  adding: 52_49_unmasked.jpg (deflated 42%)\n",
            "  adding: 52_50_unmasked.jpg (deflated 42%)\n",
            "  adding: 52_51_unmasked.jpg (deflated 40%)\n",
            "  adding: 52_52_unmasked.jpg (deflated 39%)\n",
            "  adding: 52_53_unmasked.jpg (deflated 39%)\n",
            "  adding: 52_54_unmasked.jpg (deflated 38%)\n",
            "  adding: 52_55_unmasked.jpg (deflated 37%)\n",
            "  adding: 52_56_unmasked.jpg (deflated 37%)\n",
            "  adding: 52_57_unmasked.jpg (deflated 36%)\n",
            "  adding: 52_58_unmasked.jpg (deflated 36%)\n",
            "  adding: 52_59_unmasked.jpg (deflated 35%)\n",
            "  adding: 52_60_unmasked.jpg (deflated 34%)\n",
            "  adding: 53_43_unmasked.jpg (deflated 48%)\n",
            "  adding: 53_44_unmasked.jpg (deflated 46%)\n",
            "  adding: 53_45_unmasked.jpg (deflated 46%)\n",
            "  adding: 53_46_unmasked.jpg (deflated 45%)\n",
            "  adding: 53_47_unmasked.jpg (deflated 44%)\n",
            "  adding: 53_48_unmasked.jpg (deflated 43%)\n",
            "  adding: 53_49_unmasked.jpg (deflated 42%)\n",
            "  adding: 53_50_unmasked.jpg (deflated 41%)\n",
            "  adding: 53_51_unmasked.jpg (deflated 41%)\n",
            "  adding: 53_52_unmasked.jpg (deflated 40%)\n",
            "  adding: 53_53_unmasked.jpg (deflated 39%)\n",
            "  adding: 53_54_unmasked.jpg (deflated 38%)\n",
            "  adding: 53_55_unmasked.jpg (deflated 37%)\n",
            "  adding: 53_56_unmasked.jpg (deflated 37%)\n",
            "  adding: 53_57_unmasked.jpg (deflated 37%)\n",
            "  adding: 53_58_unmasked.jpg (deflated 36%)\n",
            "  adding: 53_59_unmasked.jpg (deflated 35%)\n",
            "  adding: 53_60_unmasked.jpg (deflated 34%)\n",
            "  adding: 53_61_unmasked.jpg (deflated 33%)\n",
            "  adding: 54_44_unmasked.jpg (deflated 46%)\n",
            "  adding: 54_45_unmasked.jpg (deflated 45%)\n",
            "  adding: 54_46_unmasked.jpg (deflated 45%)\n",
            "  adding: 54_47_unmasked.jpg (deflated 44%)\n",
            "  adding: 54_48_unmasked.jpg (deflated 43%)\n",
            "  adding: 54_49_unmasked.jpg (deflated 43%)\n",
            "  adding: 54_50_unmasked.jpg (deflated 41%)\n",
            "  adding: 54_51_unmasked.jpg (deflated 41%)\n",
            "  adding: 54_52_unmasked.jpg (deflated 40%)\n",
            "  adding: 54_53_unmasked.jpg (deflated 39%)\n",
            "  adding: 54_54_unmasked.jpg (deflated 38%)\n",
            "  adding: 54_55_unmasked.jpg (deflated 37%)\n",
            "  adding: 54_56_unmasked.jpg (deflated 37%)\n",
            "  adding: 54_57_unmasked.jpg (deflated 36%)\n",
            "  adding: 54_58_unmasked.jpg (deflated 35%)\n",
            "  adding: 54_59_unmasked.jpg (deflated 35%)\n",
            "  adding: 54_60_unmasked.jpg (deflated 34%)\n",
            "  adding: 54_61_unmasked.jpg (deflated 33%)\n",
            "  adding: 54_62_unmasked.jpg (deflated 33%)\n",
            "  adding: 55_45_unmasked.jpg (deflated 46%)\n",
            "  adding: 55_46_unmasked.jpg (deflated 45%)\n",
            "  adding: 55_47_unmasked.jpg (deflated 44%)\n",
            "  adding: 55_48_unmasked.jpg (deflated 43%)\n",
            "  adding: 55_49_unmasked.jpg (deflated 42%)\n",
            "  adding: 55_50_unmasked.jpg (deflated 41%)\n",
            "  adding: 55_51_unmasked.jpg (deflated 41%)\n",
            "  adding: 55_52_unmasked.jpg (deflated 40%)\n",
            "  adding: 55_53_unmasked.jpg (deflated 39%)\n",
            "  adding: 55_54_unmasked.jpg (deflated 38%)\n",
            "  adding: 55_55_unmasked.jpg (deflated 37%)\n",
            "  adding: 55_56_unmasked.jpg (deflated 37%)\n",
            "  adding: 55_57_unmasked.jpg (deflated 36%)\n",
            "  adding: 55_58_unmasked.jpg (deflated 35%)\n",
            "  adding: 55_59_unmasked.jpg (deflated 35%)\n",
            "  adding: 55_60_unmasked.jpg (deflated 34%)\n",
            "  adding: 55_61_unmasked.jpg (deflated 34%)\n",
            "  adding: 55_62_unmasked.jpg (deflated 33%)\n",
            "  adding: 55_63_unmasked.jpg (deflated 32%)\n",
            "  adding: 56_46_unmasked.jpg (deflated 45%)\n",
            "  adding: 56_47_unmasked.jpg (deflated 44%)\n",
            "  adding: 56_48_unmasked.jpg (deflated 43%)\n",
            "  adding: 56_49_unmasked.jpg (deflated 42%)\n",
            "  adding: 56_50_unmasked.jpg (deflated 41%)\n",
            "  adding: 56_51_unmasked.jpg (deflated 41%)\n",
            "  adding: 56_52_unmasked.jpg (deflated 40%)\n",
            "  adding: 56_53_unmasked.jpg (deflated 39%)\n",
            "  adding: 56_54_unmasked.jpg (deflated 39%)\n",
            "  adding: 56_55_unmasked.jpg (deflated 37%)\n",
            "  adding: 56_56_unmasked.jpg (deflated 37%)\n",
            "  adding: 56_57_unmasked.jpg (deflated 36%)\n",
            "  adding: 56_58_unmasked.jpg (deflated 36%)\n",
            "  adding: 56_59_unmasked.jpg (deflated 35%)\n",
            "  adding: 56_60_unmasked.jpg (deflated 34%)\n",
            "  adding: 56_61_unmasked.jpg (deflated 34%)\n",
            "  adding: 56_62_unmasked.jpg (deflated 33%)\n",
            "  adding: 56_63_unmasked.jpg (deflated 32%)\n",
            "  adding: 56_64_unmasked.jpg (deflated 32%)\n",
            "  adding: 57_47_unmasked.jpg (deflated 44%)\n",
            "  adding: 57_48_unmasked.jpg (deflated 43%)\n",
            "  adding: 57_49_unmasked.jpg (deflated 41%)\n",
            "  adding: 57_50_unmasked.jpg (deflated 41%)\n",
            "  adding: 57_51_unmasked.jpg (deflated 40%)\n",
            "  adding: 57_52_unmasked.jpg (deflated 40%)\n",
            "  adding: 57_53_unmasked.jpg (deflated 39%)\n",
            "  adding: 57_54_unmasked.jpg (deflated 38%)\n",
            "  adding: 57_55_unmasked.jpg (deflated 37%)\n",
            "  adding: 57_56_unmasked.jpg (deflated 37%)\n",
            "  adding: 57_57_unmasked.jpg (deflated 36%)\n",
            "  adding: 57_58_unmasked.jpg (deflated 35%)\n",
            "  adding: 57_59_unmasked.jpg (deflated 34%)\n",
            "  adding: 57_60_unmasked.jpg (deflated 34%)\n",
            "  adding: 57_61_unmasked.jpg (deflated 33%)\n",
            "  adding: 57_62_unmasked.jpg (deflated 33%)\n",
            "  adding: 57_63_unmasked.jpg (deflated 32%)\n",
            "  adding: 57_64_unmasked.jpg (deflated 32%)\n",
            "  adding: 57_65_unmasked.jpg (deflated 32%)\n",
            "  adding: 58_48_unmasked.jpg (deflated 43%)\n",
            "  adding: 58_49_unmasked.jpg (deflated 42%)\n",
            "  adding: 58_50_unmasked.jpg (deflated 41%)\n",
            "  adding: 58_51_unmasked.jpg (deflated 40%)\n",
            "  adding: 58_52_unmasked.jpg (deflated 40%)\n",
            "  adding: 58_53_unmasked.jpg (deflated 39%)\n",
            "  adding: 58_54_unmasked.jpg (deflated 38%)\n",
            "  adding: 58_55_unmasked.jpg (deflated 37%)\n",
            "  adding: 58_56_unmasked.jpg (deflated 37%)\n",
            "  adding: 58_57_unmasked.jpg (deflated 36%)\n",
            "  adding: 58_58_unmasked.jpg (deflated 36%)\n",
            "  adding: 58_59_unmasked.jpg (deflated 35%)\n",
            "  adding: 58_60_unmasked.jpg (deflated 34%)\n",
            "  adding: 58_61_unmasked.jpg (deflated 33%)\n",
            "  adding: 58_62_unmasked.jpg (deflated 33%)\n",
            "  adding: 58_63_unmasked.jpg (deflated 33%)\n",
            "  adding: 58_64_unmasked.jpg (deflated 32%)\n",
            "  adding: 58_65_unmasked.jpg (deflated 32%)\n",
            "  adding: 58_66_unmasked.jpg (deflated 31%)\n",
            "  adding: 59_49_unmasked.jpg (deflated 42%)\n",
            "  adding: 59_50_unmasked.jpg (deflated 41%)\n",
            "  adding: 59_51_unmasked.jpg (deflated 41%)\n",
            "  adding: 59_52_unmasked.jpg (deflated 40%)\n",
            "  adding: 59_53_unmasked.jpg (deflated 39%)\n",
            "  adding: 59_54_unmasked.jpg (deflated 39%)\n",
            "  adding: 59_55_unmasked.jpg (deflated 38%)\n",
            "  adding: 59_56_unmasked.jpg (deflated 37%)\n",
            "  adding: 59_57_unmasked.jpg (deflated 36%)\n",
            "  adding: 59_58_unmasked.jpg (deflated 36%)\n",
            "  adding: 59_59_unmasked.jpg (deflated 34%)\n",
            "  adding: 59_60_unmasked.jpg (deflated 34%)\n",
            "  adding: 59_61_unmasked.jpg (deflated 33%)\n",
            "  adding: 59_62_unmasked.jpg (deflated 33%)\n",
            "  adding: 59_63_unmasked.jpg (deflated 33%)\n",
            "  adding: 59_64_unmasked.jpg (deflated 32%)\n",
            "  adding: 59_65_unmasked.jpg (deflated 32%)\n",
            "  adding: 59_66_unmasked.jpg (deflated 32%)\n",
            "  adding: 59_67_unmasked.jpg (deflated 31%)\n",
            "  adding: 60_50_unmasked.jpg (deflated 41%)\n",
            "  adding: 60_51_unmasked.jpg (deflated 41%)\n",
            "  adding: 60_52_unmasked.jpg (deflated 40%)\n",
            "  adding: 60_53_unmasked.jpg (deflated 39%)\n",
            "  adding: 60_54_unmasked.jpg (deflated 39%)\n",
            "  adding: 60_55_unmasked.jpg (deflated 37%)\n",
            "  adding: 60_56_unmasked.jpg (deflated 37%)\n",
            "  adding: 60_57_unmasked.jpg (deflated 36%)\n",
            "  adding: 60_58_unmasked.jpg (deflated 36%)\n",
            "  adding: 60_59_unmasked.jpg (deflated 35%)\n",
            "  adding: 60_60_unmasked.jpg (deflated 34%)\n",
            "  adding: 60_61_unmasked.jpg (deflated 33%)\n",
            "  adding: 60_62_unmasked.jpg (deflated 33%)\n",
            "  adding: 60_63_unmasked.jpg (deflated 32%)\n",
            "  adding: 60_64_unmasked.jpg (deflated 32%)\n",
            "  adding: 60_65_unmasked.jpg (deflated 32%)\n",
            "  adding: 60_66_unmasked.jpg (deflated 31%)\n",
            "  adding: 60_67_unmasked.jpg (deflated 31%)\n",
            "  adding: 60_68_unmasked.jpg (deflated 30%)\n",
            "  adding: 61_51_unmasked.jpg (deflated 41%)\n",
            "  adding: 61_52_unmasked.jpg (deflated 40%)\n",
            "  adding: 61_53_unmasked.jpg (deflated 39%)\n",
            "  adding: 61_54_unmasked.jpg (deflated 39%)\n",
            "  adding: 61_55_unmasked.jpg (deflated 37%)\n",
            "  adding: 61_56_unmasked.jpg (deflated 37%)\n",
            "  adding: 61_57_unmasked.jpg (deflated 36%)\n",
            "  adding: 61_58_unmasked.jpg (deflated 36%)\n",
            "  adding: 61_59_unmasked.jpg (deflated 35%)\n",
            "  adding: 61_60_unmasked.jpg (deflated 34%)\n",
            "  adding: 61_61_unmasked.jpg (deflated 33%)\n",
            "  adding: 61_62_unmasked.jpg (deflated 33%)\n",
            "  adding: 61_63_unmasked.jpg (deflated 32%)\n",
            "  adding: 61_64_unmasked.jpg (deflated 32%)\n",
            "  adding: 61_65_unmasked.jpg (deflated 32%)\n",
            "  adding: 61_66_unmasked.jpg (deflated 31%)\n",
            "  adding: 61_67_unmasked.jpg (deflated 31%)\n",
            "  adding: 61_68_unmasked.jpg (deflated 30%)\n",
            "  adding: 61_69_unmasked.jpg (deflated 30%)\n",
            "  adding: 62_52_unmasked.jpg (deflated 40%)\n",
            "  adding: 62_53_unmasked.jpg (deflated 40%)\n",
            "  adding: 62_54_unmasked.jpg (deflated 38%)\n",
            "  adding: 62_55_unmasked.jpg (deflated 38%)\n",
            "  adding: 62_56_unmasked.jpg (deflated 37%)\n",
            "  adding: 62_57_unmasked.jpg (deflated 36%)\n",
            "  adding: 62_58_unmasked.jpg (deflated 36%)\n",
            "  adding: 62_59_unmasked.jpg (deflated 35%)\n",
            "  adding: 62_60_unmasked.jpg (deflated 34%)\n",
            "  adding: 62_61_unmasked.jpg (deflated 33%)\n",
            "  adding: 62_62_unmasked.jpg (deflated 33%)\n",
            "  adding: 62_63_unmasked.jpg (deflated 33%)\n",
            "  adding: 62_64_unmasked.jpg (deflated 32%)\n",
            "  adding: 62_65_unmasked.jpg (deflated 32%)\n",
            "  adding: 62_66_unmasked.jpg (deflated 31%)\n",
            "  adding: 62_67_unmasked.jpg (deflated 31%)\n",
            "  adding: 62_68_unmasked.jpg (deflated 30%)\n",
            "  adding: 62_69_unmasked.jpg (deflated 30%)\n",
            "  adding: 62_70_unmasked.jpg (deflated 30%)\n",
            "  adding: 63_53_unmasked.jpg (deflated 39%)\n",
            "  adding: 63_54_unmasked.jpg (deflated 38%)\n",
            "  adding: 63_55_unmasked.jpg (deflated 38%)\n",
            "  adding: 63_56_unmasked.jpg (deflated 37%)\n",
            "  adding: 63_57_unmasked.jpg (deflated 36%)\n",
            "  adding: 63_58_unmasked.jpg (deflated 36%)\n",
            "  adding: 63_59_unmasked.jpg (deflated 35%)\n",
            "  adding: 63_60_unmasked.jpg (deflated 34%)\n",
            "  adding: 63_61_unmasked.jpg (deflated 33%)\n",
            "  adding: 63_62_unmasked.jpg (deflated 33%)\n",
            "  adding: 63_63_unmasked.jpg (deflated 32%)\n",
            "  adding: 63_64_unmasked.jpg (deflated 32%)\n",
            "  adding: 63_65_unmasked.jpg (deflated 32%)\n",
            "  adding: 63_66_unmasked.jpg (deflated 32%)\n",
            "  adding: 63_67_unmasked.jpg (deflated 31%)\n",
            "  adding: 63_68_unmasked.jpg (deflated 30%)\n",
            "  adding: 63_69_unmasked.jpg (deflated 30%)\n",
            "  adding: 63_70_unmasked.jpg (deflated 29%)\n",
            "  adding: 63_71_unmasked.jpg (deflated 29%)\n",
            "  adding: 64_54_unmasked.jpg (deflated 38%)\n",
            "  adding: 64_55_unmasked.jpg (deflated 38%)\n",
            "  adding: 64_56_unmasked.jpg (deflated 37%)\n",
            "  adding: 64_57_unmasked.jpg (deflated 36%)\n",
            "  adding: 64_58_unmasked.jpg (deflated 35%)\n",
            "  adding: 64_59_unmasked.jpg (deflated 35%)\n",
            "  adding: 64_60_unmasked.jpg (deflated 34%)\n",
            "  adding: 64_61_unmasked.jpg (deflated 33%)\n",
            "  adding: 64_62_unmasked.jpg (deflated 33%)\n",
            "  adding: 64_63_unmasked.jpg (deflated 32%)\n",
            "  adding: 64_64_unmasked.jpg (deflated 32%)\n",
            "  adding: 64_65_unmasked.jpg (deflated 31%)\n",
            "  adding: 64_66_unmasked.jpg (deflated 32%)\n",
            "  adding: 64_67_unmasked.jpg (deflated 31%)\n",
            "  adding: 64_68_unmasked.jpg (deflated 30%)\n",
            "  adding: 64_69_unmasked.jpg (deflated 30%)\n",
            "  adding: 64_70_unmasked.jpg (deflated 30%)\n",
            "  adding: 64_71_unmasked.jpg (deflated 29%)\n",
            "  adding: 64_72_unmasked.jpg (deflated 28%)\n",
            "  adding: 65_55_unmasked.jpg (deflated 38%)\n",
            "  adding: 65_56_unmasked.jpg (deflated 37%)\n",
            "  adding: 65_57_unmasked.jpg (deflated 36%)\n",
            "  adding: 65_58_unmasked.jpg (deflated 35%)\n",
            "  adding: 65_59_unmasked.jpg (deflated 35%)\n",
            "  adding: 65_60_unmasked.jpg (deflated 34%)\n",
            "  adding: 65_61_unmasked.jpg (deflated 33%)\n",
            "  adding: 65_62_unmasked.jpg (deflated 33%)\n",
            "  adding: 65_63_unmasked.jpg (deflated 32%)\n",
            "  adding: 65_64_unmasked.jpg (deflated 32%)\n",
            "  adding: 65_65_unmasked.jpg (deflated 32%)\n",
            "  adding: 65_66_unmasked.jpg (deflated 31%)\n",
            "  adding: 65_67_unmasked.jpg (deflated 31%)\n",
            "  adding: 65_68_unmasked.jpg (deflated 30%)\n",
            "  adding: 65_69_unmasked.jpg (deflated 30%)\n",
            "  adding: 65_70_unmasked.jpg (deflated 30%)\n",
            "  adding: 65_71_unmasked.jpg (deflated 29%)\n",
            "  adding: 65_72_unmasked.jpg (deflated 29%)\n",
            "  adding: 65_73_unmasked.jpg (deflated 29%)\n",
            "  adding: 66_56_unmasked.jpg (deflated 37%)\n",
            "  adding: 66_57_unmasked.jpg (deflated 36%)\n",
            "  adding: 66_58_unmasked.jpg (deflated 35%)\n",
            "  adding: 66_59_unmasked.jpg (deflated 35%)\n",
            "  adding: 66_60_unmasked.jpg (deflated 34%)\n",
            "  adding: 66_61_unmasked.jpg (deflated 33%)\n",
            "  adding: 66_62_unmasked.jpg (deflated 33%)\n",
            "  adding: 66_63_unmasked.jpg (deflated 32%)\n",
            "  adding: 66_64_unmasked.jpg (deflated 32%)\n",
            "  adding: 66_65_unmasked.jpg (deflated 31%)\n",
            "  adding: 66_66_unmasked.jpg (deflated 31%)\n",
            "  adding: 66_67_unmasked.jpg (deflated 31%)\n",
            "  adding: 66_68_unmasked.jpg (deflated 30%)\n",
            "  adding: 66_69_unmasked.jpg (deflated 29%)\n",
            "  adding: 66_70_unmasked.jpg (deflated 30%)\n",
            "  adding: 66_71_unmasked.jpg (deflated 29%)\n",
            "  adding: 66_72_unmasked.jpg (deflated 28%)\n",
            "  adding: 66_73_unmasked.jpg (deflated 28%)\n",
            "  adding: 66_74_unmasked.jpg (deflated 28%)\n",
            "  adding: 67_57_unmasked.jpg (deflated 36%)\n",
            "  adding: 67_58_unmasked.jpg (deflated 36%)\n",
            "  adding: 67_59_unmasked.jpg (deflated 35%)\n",
            "  adding: 67_60_unmasked.jpg (deflated 34%)\n",
            "  adding: 67_61_unmasked.jpg (deflated 33%)\n",
            "  adding: 67_62_unmasked.jpg (deflated 33%)\n",
            "  adding: 67_63_unmasked.jpg (deflated 32%)\n",
            "  adding: 67_64_unmasked.jpg (deflated 32%)\n",
            "  adding: 67_65_unmasked.jpg (deflated 31%)\n",
            "  adding: 67_66_unmasked.jpg (deflated 31%)\n",
            "  adding: 67_67_unmasked.jpg (deflated 30%)\n",
            "  adding: 67_68_unmasked.jpg (deflated 30%)\n",
            "  adding: 67_69_unmasked.jpg (deflated 30%)\n",
            "  adding: 67_70_unmasked.jpg (deflated 30%)\n",
            "  adding: 67_71_unmasked.jpg (deflated 29%)\n",
            "  adding: 67_72_unmasked.jpg (deflated 28%)\n",
            "  adding: 67_73_unmasked.jpg (deflated 28%)\n",
            "  adding: 67_74_unmasked.jpg (deflated 28%)\n",
            "  adding: 67_75_unmasked.jpg (deflated 27%)\n",
            "  adding: 68_58_unmasked.jpg (deflated 35%)\n",
            "  adding: 68_59_unmasked.jpg (deflated 35%)\n",
            "  adding: 68_60_unmasked.jpg (deflated 34%)\n",
            "  adding: 68_61_unmasked.jpg (deflated 33%)\n",
            "  adding: 68_62_unmasked.jpg (deflated 33%)\n",
            "  adding: 68_63_unmasked.jpg (deflated 33%)\n",
            "  adding: 68_64_unmasked.jpg (deflated 32%)\n",
            "  adding: 68_65_unmasked.jpg (deflated 31%)\n",
            "  adding: 68_66_unmasked.jpg (deflated 31%)\n",
            "  adding: 68_67_unmasked.jpg (deflated 30%)\n",
            "  adding: 68_68_unmasked.jpg (deflated 30%)\n",
            "  adding: 68_69_unmasked.jpg (deflated 30%)\n",
            "  adding: 68_70_unmasked.jpg (deflated 30%)\n",
            "  adding: 68_71_unmasked.jpg (deflated 29%)\n",
            "  adding: 68_72_unmasked.jpg (deflated 29%)\n",
            "  adding: 68_73_unmasked.jpg (deflated 29%)\n",
            "  adding: 68_74_unmasked.jpg (deflated 29%)\n",
            "  adding: 68_75_unmasked.jpg (deflated 27%)\n",
            "  adding: 68_76_unmasked.jpg (deflated 27%)\n",
            "  adding: 69_59_unmasked.jpg (deflated 35%)\n",
            "  adding: 69_60_unmasked.jpg (deflated 34%)\n",
            "  adding: 69_61_unmasked.jpg (deflated 33%)\n",
            "  adding: 69_62_unmasked.jpg (deflated 33%)\n",
            "  adding: 69_63_unmasked.jpg (deflated 33%)\n",
            "  adding: 69_64_unmasked.jpg (deflated 32%)\n",
            "  adding: 69_65_unmasked.jpg (deflated 31%)\n",
            "  adding: 69_66_unmasked.jpg (deflated 31%)\n",
            "  adding: 69_67_unmasked.jpg (deflated 30%)\n",
            "  adding: 69_68_unmasked.jpg (deflated 30%)\n",
            "  adding: 69_69_unmasked.jpg (deflated 30%)\n",
            "  adding: 69_70_unmasked.jpg (deflated 30%)\n",
            "  adding: 69_71_unmasked.jpg (deflated 29%)\n",
            "  adding: 69_72_unmasked.jpg (deflated 28%)\n",
            "  adding: 69_73_unmasked.jpg (deflated 29%)\n",
            "  adding: 69_74_unmasked.jpg (deflated 28%)\n",
            "  adding: 69_75_unmasked.jpg (deflated 27%)\n",
            "  adding: 69_76_unmasked.jpg (deflated 27%)\n",
            "  adding: 69_77_unmasked.jpg (deflated 27%)\n",
            "  adding: 70_60_unmasked.jpg (deflated 34%)\n",
            "  adding: 70_61_unmasked.jpg (deflated 33%)\n",
            "  adding: 70_62_unmasked.jpg (deflated 33%)\n",
            "  adding: 70_63_unmasked.jpg (deflated 32%)\n",
            "  adding: 70_64_unmasked.jpg (deflated 32%)\n",
            "  adding: 70_65_unmasked.jpg (deflated 31%)\n",
            "  adding: 70_66_unmasked.jpg (deflated 31%)\n",
            "  adding: 70_67_unmasked.jpg (deflated 31%)\n",
            "  adding: 70_68_unmasked.jpg (deflated 30%)\n",
            "  adding: 70_69_unmasked.jpg (deflated 30%)\n",
            "  adding: 70_70_unmasked.jpg (deflated 29%)\n",
            "  adding: 70_71_unmasked.jpg (deflated 29%)\n",
            "  adding: 70_72_unmasked.jpg (deflated 29%)\n",
            "  adding: 70_73_unmasked.jpg (deflated 29%)\n",
            "  adding: 70_74_unmasked.jpg (deflated 29%)\n",
            "  adding: 70_75_unmasked.jpg (deflated 28%)\n",
            "  adding: 70_76_unmasked.jpg (deflated 27%)\n",
            "  adding: 70_77_unmasked.jpg (deflated 27%)\n",
            "  adding: 70_78_unmasked.jpg (deflated 27%)\n",
            "  adding: 71_61_unmasked.jpg (deflated 33%)\n",
            "  adding: 71_62_unmasked.jpg (deflated 33%)\n",
            "  adding: 71_63_unmasked.jpg (deflated 32%)\n",
            "  adding: 71_64_unmasked.jpg (deflated 32%)\n",
            "  adding: 71_65_unmasked.jpg (deflated 32%)\n",
            "  adding: 71_66_unmasked.jpg (deflated 32%)\n",
            "  adding: 71_67_unmasked.jpg (deflated 31%)\n",
            "  adding: 71_68_unmasked.jpg (deflated 30%)\n",
            "  adding: 71_69_unmasked.jpg (deflated 30%)\n",
            "  adding: 71_70_unmasked.jpg (deflated 30%)\n",
            "  adding: 71_71_unmasked.jpg (deflated 29%)\n",
            "  adding: 71_72_unmasked.jpg (deflated 29%)\n",
            "  adding: 71_73_unmasked.jpg (deflated 28%)\n",
            "  adding: 71_74_unmasked.jpg (deflated 28%)\n",
            "  adding: 71_75_unmasked.jpg (deflated 27%)\n",
            "  adding: 71_76_unmasked.jpg (deflated 27%)\n",
            "  adding: 71_77_unmasked.jpg (deflated 27%)\n",
            "  adding: 71_78_unmasked.jpg (deflated 27%)\n",
            "  adding: 71_79_unmasked.jpg (deflated 26%)\n",
            "  adding: 72_62_unmasked.jpg (deflated 33%)\n",
            "  adding: 72_63_unmasked.jpg (deflated 32%)\n",
            "  adding: 72_64_unmasked.jpg (deflated 32%)\n",
            "  adding: 72_65_unmasked.jpg (deflated 32%)\n",
            "  adding: 72_66_unmasked.jpg (deflated 31%)\n",
            "  adding: 72_67_unmasked.jpg (deflated 30%)\n",
            "  adding: 72_68_unmasked.jpg (deflated 30%)\n",
            "  adding: 72_69_unmasked.jpg (deflated 30%)\n",
            "  adding: 72_70_unmasked.jpg (deflated 30%)\n",
            "  adding: 72_71_unmasked.jpg (deflated 29%)\n",
            "  adding: 72_72_unmasked.jpg (deflated 29%)\n",
            "  adding: 72_73_unmasked.jpg (deflated 28%)\n",
            "  adding: 72_74_unmasked.jpg (deflated 28%)\n",
            "  adding: 72_75_unmasked.jpg (deflated 28%)\n",
            "  adding: 72_76_unmasked.jpg (deflated 27%)\n",
            "  adding: 72_77_unmasked.jpg (deflated 27%)\n",
            "  adding: 72_78_unmasked.jpg (deflated 26%)\n",
            "  adding: 72_79_unmasked.jpg (deflated 27%)\n",
            "  adding: 72_80_unmasked.jpg (deflated 26%)\n",
            "  adding: 73_63_unmasked.jpg (deflated 33%)\n",
            "  adding: 73_64_unmasked.jpg (deflated 32%)\n",
            "  adding: 73_65_unmasked.jpg (deflated 32%)\n",
            "  adding: 73_66_unmasked.jpg (deflated 31%)\n",
            "  adding: 73_67_unmasked.jpg (deflated 31%)\n",
            "  adding: 73_68_unmasked.jpg (deflated 30%)\n",
            "  adding: 73_69_unmasked.jpg (deflated 30%)\n",
            "  adding: 73_70_unmasked.jpg (deflated 29%)\n",
            "  adding: 73_71_unmasked.jpg (deflated 30%)\n",
            "  adding: 73_72_unmasked.jpg (deflated 28%)\n",
            "  adding: 73_73_unmasked.jpg (deflated 28%)\n",
            "  adding: 73_74_unmasked.jpg (deflated 28%)\n",
            "  adding: 73_75_unmasked.jpg (deflated 28%)\n",
            "  adding: 73_76_unmasked.jpg (deflated 27%)\n",
            "  adding: 73_77_unmasked.jpg (deflated 27%)\n",
            "  adding: 73_78_unmasked.jpg (deflated 26%)\n",
            "  adding: 73_79_unmasked.jpg (deflated 27%)\n",
            "  adding: 73_80_unmasked.jpg (deflated 26%)\n",
            "  adding: 73_81_unmasked.jpg (deflated 26%)\n",
            "  adding: 74_64_unmasked.jpg (deflated 32%)\n",
            "  adding: 74_65_unmasked.jpg (deflated 31%)\n",
            "  adding: 74_66_unmasked.jpg (deflated 31%)\n",
            "  adding: 74_67_unmasked.jpg (deflated 30%)\n",
            "  adding: 74_68_unmasked.jpg (deflated 30%)\n",
            "  adding: 74_69_unmasked.jpg (deflated 30%)\n",
            "  adding: 74_70_unmasked.jpg (deflated 29%)\n",
            "  adding: 74_71_unmasked.jpg (deflated 29%)\n",
            "  adding: 74_72_unmasked.jpg (deflated 29%)\n",
            "  adding: 74_73_unmasked.jpg (deflated 28%)\n",
            "  adding: 74_74_unmasked.jpg (deflated 28%)\n",
            "  adding: 74_75_unmasked.jpg (deflated 28%)\n",
            "  adding: 74_76_unmasked.jpg (deflated 27%)\n",
            "  adding: 74_77_unmasked.jpg (deflated 27%)\n",
            "  adding: 74_78_unmasked.jpg (deflated 26%)\n",
            "  adding: 74_79_unmasked.jpg (deflated 26%)\n",
            "  adding: 74_80_unmasked.jpg (deflated 26%)\n",
            "  adding: 74_81_unmasked.jpg (deflated 26%)\n",
            "  adding: 74_82_unmasked.jpg (deflated 26%)\n",
            "  adding: 75_65_unmasked.jpg (deflated 32%)\n",
            "  adding: 75_66_unmasked.jpg (deflated 31%)\n",
            "  adding: 75_67_unmasked.jpg (deflated 30%)\n",
            "  adding: 75_68_unmasked.jpg (deflated 30%)\n",
            "  adding: 75_69_unmasked.jpg (deflated 30%)\n",
            "  adding: 75_70_unmasked.jpg (deflated 30%)\n",
            "  adding: 75_71_unmasked.jpg (deflated 29%)\n",
            "  adding: 75_72_unmasked.jpg (deflated 29%)\n",
            "  adding: 75_73_unmasked.jpg (deflated 28%)\n",
            "  adding: 75_74_unmasked.jpg (deflated 28%)\n",
            "  adding: 75_75_unmasked.jpg (deflated 28%)\n",
            "  adding: 75_76_unmasked.jpg (deflated 27%)\n",
            "  adding: 75_77_unmasked.jpg (deflated 27%)\n",
            "  adding: 75_78_unmasked.jpg (deflated 27%)\n",
            "  adding: 75_79_unmasked.jpg (deflated 26%)\n",
            "  adding: 75_80_unmasked.jpg (deflated 26%)\n",
            "  adding: 75_81_unmasked.jpg (deflated 26%)\n",
            "  adding: 75_82_unmasked.jpg (deflated 26%)\n",
            "  adding: 75_83_unmasked.jpg (deflated 26%)\n",
            "  adding: 76_66_unmasked.jpg (deflated 31%)\n",
            "  adding: 76_67_unmasked.jpg (deflated 30%)\n",
            "  adding: 76_68_unmasked.jpg (deflated 30%)\n",
            "  adding: 76_69_unmasked.jpg (deflated 30%)\n",
            "  adding: 76_70_unmasked.jpg (deflated 30%)\n",
            "  adding: 76_71_unmasked.jpg (deflated 29%)\n",
            "  adding: 76_72_unmasked.jpg (deflated 29%)\n",
            "  adding: 76_73_unmasked.jpg (deflated 28%)\n",
            "  adding: 76_74_unmasked.jpg (deflated 28%)\n",
            "  adding: 76_75_unmasked.jpg (deflated 28%)\n",
            "  adding: 76_76_unmasked.jpg (deflated 27%)\n",
            "  adding: 76_77_unmasked.jpg (deflated 27%)\n",
            "  adding: 76_78_unmasked.jpg (deflated 26%)\n",
            "  adding: 76_79_unmasked.jpg (deflated 26%)\n",
            "  adding: 76_80_unmasked.jpg (deflated 26%)\n",
            "  adding: 76_81_unmasked.jpg (deflated 25%)\n",
            "  adding: 76_82_unmasked.jpg (deflated 26%)\n",
            "  adding: 76_83_unmasked.jpg (deflated 25%)\n",
            "  adding: 76_84_unmasked.jpg (deflated 25%)\n",
            "  adding: 77_67_unmasked.jpg (deflated 30%)\n",
            "  adding: 77_68_unmasked.jpg (deflated 30%)\n",
            "  adding: 77_69_unmasked.jpg (deflated 30%)\n",
            "  adding: 77_70_unmasked.jpg (deflated 30%)\n",
            "  adding: 77_71_unmasked.jpg (deflated 29%)\n",
            "  adding: 77_72_unmasked.jpg (deflated 29%)\n",
            "  adding: 77_73_unmasked.jpg (deflated 28%)\n",
            "  adding: 77_74_unmasked.jpg (deflated 28%)\n",
            "  adding: 77_75_unmasked.jpg (deflated 27%)\n",
            "  adding: 77_76_unmasked.jpg (deflated 27%)\n",
            "  adding: 77_77_unmasked.jpg (deflated 26%)\n",
            "  adding: 77_78_unmasked.jpg (deflated 26%)\n",
            "  adding: 77_79_unmasked.jpg (deflated 26%)\n",
            "  adding: 77_80_unmasked.jpg (deflated 26%)\n",
            "  adding: 77_81_unmasked.jpg (deflated 26%)\n",
            "  adding: 77_82_unmasked.jpg (deflated 25%)\n",
            "  adding: 77_83_unmasked.jpg (deflated 26%)\n",
            "  adding: 77_84_unmasked.jpg (deflated 25%)\n",
            "  adding: 77_85_unmasked.jpg (deflated 25%)\n",
            "  adding: 78_68_unmasked.jpg (deflated 30%)\n",
            "  adding: 78_69_unmasked.jpg (deflated 30%)\n",
            "  adding: 78_70_unmasked.jpg (deflated 30%)\n",
            "  adding: 78_71_unmasked.jpg (deflated 29%)\n",
            "  adding: 78_72_unmasked.jpg (deflated 29%)\n",
            "  adding: 78_73_unmasked.jpg (deflated 28%)\n",
            "  adding: 78_74_unmasked.jpg (deflated 28%)\n",
            "  adding: 78_75_unmasked.jpg (deflated 28%)\n",
            "  adding: 78_76_unmasked.jpg (deflated 27%)\n",
            "  adding: 78_77_unmasked.jpg (deflated 27%)\n",
            "  adding: 78_78_unmasked.jpg (deflated 26%)\n",
            "  adding: 78_79_unmasked.jpg (deflated 26%)\n",
            "  adding: 78_80_unmasked.jpg (deflated 26%)\n",
            "  adding: 78_81_unmasked.jpg (deflated 26%)\n",
            "  adding: 78_82_unmasked.jpg (deflated 26%)\n",
            "  adding: 78_83_unmasked.jpg (deflated 25%)\n",
            "  adding: 78_84_unmasked.jpg (deflated 26%)\n",
            "  adding: 78_85_unmasked.jpg (deflated 25%)\n",
            "  adding: 78_86_unmasked.jpg (deflated 25%)\n",
            "  adding: 79_69_unmasked.jpg (deflated 30%)\n",
            "  adding: 79_70_unmasked.jpg (deflated 30%)\n",
            "  adding: 79_71_unmasked.jpg (deflated 29%)\n",
            "  adding: 79_72_unmasked.jpg (deflated 28%)\n",
            "  adding: 79_73_unmasked.jpg (deflated 28%)\n",
            "  adding: 79_74_unmasked.jpg (deflated 28%)\n",
            "  adding: 79_75_unmasked.jpg (deflated 27%)\n",
            "  adding: 79_76_unmasked.jpg (deflated 27%)\n",
            "  adding: 79_77_unmasked.jpg (deflated 27%)\n",
            "  adding: 79_78_unmasked.jpg (deflated 26%)\n",
            "  adding: 79_79_unmasked.jpg (deflated 26%)\n",
            "  adding: 79_80_unmasked.jpg (deflated 26%)\n",
            "  adding: 79_81_unmasked.jpg (deflated 26%)\n",
            "  adding: 79_82_unmasked.jpg (deflated 26%)\n",
            "  adding: 79_83_unmasked.jpg (deflated 25%)\n",
            "  adding: 79_84_unmasked.jpg (deflated 26%)\n",
            "  adding: 79_85_unmasked.jpg (deflated 25%)\n",
            "  adding: 79_86_unmasked.jpg (deflated 25%)\n",
            "  adding: 79_87_unmasked.jpg (deflated 24%)\n",
            "  adding: 80_70_unmasked.jpg (deflated 30%)\n",
            "  adding: 80_71_unmasked.jpg (deflated 30%)\n",
            "  adding: 80_72_unmasked.jpg (deflated 29%)\n",
            "  adding: 80_73_unmasked.jpg (deflated 28%)\n",
            "  adding: 80_74_unmasked.jpg (deflated 28%)\n",
            "  adding: 80_75_unmasked.jpg (deflated 28%)\n",
            "  adding: 80_76_unmasked.jpg (deflated 27%)\n",
            "  adding: 80_77_unmasked.jpg (deflated 27%)\n",
            "  adding: 80_78_unmasked.jpg (deflated 26%)\n",
            "  adding: 80_79_unmasked.jpg (deflated 26%)\n",
            "  adding: 80_80_unmasked.jpg (deflated 26%)\n",
            "  adding: 80_81_unmasked.jpg (deflated 25%)\n",
            "  adding: 80_82_unmasked.jpg (deflated 26%)\n",
            "  adding: 80_83_unmasked.jpg (deflated 25%)\n",
            "  adding: 80_84_unmasked.jpg (deflated 26%)\n",
            "  adding: 80_85_unmasked.jpg (deflated 25%)\n",
            "  adding: 80_86_unmasked.jpg (deflated 25%)\n",
            "  adding: 80_87_unmasked.jpg (deflated 24%)\n",
            "  adding: 80_88_unmasked.jpg (deflated 24%)\n",
            "  adding: circle.jpg (deflated 34%)\n",
            "  adding: mask.jpg (deflated 20%)\n"
          ]
        }
      ],
      "source": [
        "!zip data.zip *.jpg"
      ]
    },
    {
      "cell_type": "markdown",
      "metadata": {
        "id": "svDodwHvfVwR"
      },
      "source": [
        "# CNN 모델 구성하기"
      ]
    },
    {
      "cell_type": "code",
      "execution_count": null,
      "metadata": {
        "id": "eGiU0iWS_C_4"
      },
      "outputs": [],
      "source": [
        "import os\n",
        "import cv2\n",
        "X = []\n",
        "y = []\n",
        "for item in os.listdir():\n",
        "    if 'unmasked' not in item: continue\n",
        "    fig = cv2.imread(item)\n",
        "    fig = fig[174:174+250, 174:174+250]\n",
        "    X.append(fig/255)\n",
        "    y.append(item.split('.')[0].split('_')[0])"
      ]
    },
    {
      "cell_type": "code",
      "execution_count": null,
      "metadata": {
        "colab": {
          "base_uri": "https://localhost:8080/"
        },
        "id": "7B50_ncW_IZb",
        "outputId": "96e2c5a5-fd59-4548-9f11-c202e6eb81e0"
      },
      "outputs": [
        {
          "name": "stdout",
          "output_type": "stream",
          "text": [
            "(684, 250, 250, 3) (684,)\n"
          ]
        }
      ],
      "source": [
        "import numpy as np\n",
        "\n",
        "X = np.array(X)\n",
        "y = np.array(y, dtype='uint8')\n",
        "print(X.shape, y.shape)"
      ]
    },
    {
      "cell_type": "code",
      "execution_count": 1,
      "metadata": {
        "id": "5s4KvBtM_S58"
      },
      "outputs": [
        {
          "name": "stderr",
          "output_type": "stream",
          "text": [
            "/Users/cubem10/venv-metal/lib/python3.9/site-packages/urllib3/__init__.py:35: NotOpenSSLWarning: urllib3 v2 only supports OpenSSL 1.1.1+, currently the 'ssl' module is compiled with 'LibreSSL 2.8.3'. See: https://github.com/urllib3/urllib3/issues/3020\n",
            "  warnings.warn(\n"
          ]
        }
      ],
      "source": [
        "import tensorflow as tf\n",
        "from tensorflow import keras\n",
        "from tensorflow.keras import layers"
      ]
    },
    {
      "cell_type": "code",
      "execution_count": 7,
      "metadata": {
        "colab": {
          "base_uri": "https://localhost:8080/"
        },
        "id": "1PNx3QGA_Jke",
        "outputId": "87583591-8635-490f-9d2d-6e50d13d3a66"
      },
      "outputs": [
        {
          "data": {
            "text/html": [
              "<pre style=\"white-space:pre;overflow-x:auto;line-height:normal;font-family:Menlo,'DejaVu Sans Mono',consolas,'Courier New',monospace\"><span style=\"font-weight: bold\">Model: \"sequential_2\"</span>\n",
              "</pre>\n"
            ],
            "text/plain": [
              "\u001b[1mModel: \"sequential_2\"\u001b[0m\n"
            ]
          },
          "metadata": {},
          "output_type": "display_data"
        },
        {
          "data": {
            "text/html": [
              "<pre style=\"white-space:pre;overflow-x:auto;line-height:normal;font-family:Menlo,'DejaVu Sans Mono',consolas,'Courier New',monospace\">┏━━━━━━━━━━━━━━━━━━━━━━━━━━━━━━━━━┳━━━━━━━━━━━━━━━━━━━━━━━━┳━━━━━━━━━━━━━━━┓\n",
              "┃<span style=\"font-weight: bold\"> Layer (type)                    </span>┃<span style=\"font-weight: bold\"> Output Shape           </span>┃<span style=\"font-weight: bold\">       Param # </span>┃\n",
              "┡━━━━━━━━━━━━━━━━━━━━━━━━━━━━━━━━━╇━━━━━━━━━━━━━━━━━━━━━━━━╇━━━━━━━━━━━━━━━┩\n",
              "│ conv2d_6 (<span style=\"color: #0087ff; text-decoration-color: #0087ff\">Conv2D</span>)               │ (<span style=\"color: #00d7ff; text-decoration-color: #00d7ff\">None</span>, <span style=\"color: #00af00; text-decoration-color: #00af00\">248</span>, <span style=\"color: #00af00; text-decoration-color: #00af00\">248</span>, <span style=\"color: #00af00; text-decoration-color: #00af00\">32</span>)   │           <span style=\"color: #00af00; text-decoration-color: #00af00\">896</span> │\n",
              "├─────────────────────────────────┼────────────────────────┼───────────────┤\n",
              "│ max_pooling2d_4 (<span style=\"color: #0087ff; text-decoration-color: #0087ff\">MaxPooling2D</span>)  │ (<span style=\"color: #00d7ff; text-decoration-color: #00d7ff\">None</span>, <span style=\"color: #00af00; text-decoration-color: #00af00\">124</span>, <span style=\"color: #00af00; text-decoration-color: #00af00\">124</span>, <span style=\"color: #00af00; text-decoration-color: #00af00\">32</span>)   │             <span style=\"color: #00af00; text-decoration-color: #00af00\">0</span> │\n",
              "├─────────────────────────────────┼────────────────────────┼───────────────┤\n",
              "│ conv2d_7 (<span style=\"color: #0087ff; text-decoration-color: #0087ff\">Conv2D</span>)               │ (<span style=\"color: #00d7ff; text-decoration-color: #00d7ff\">None</span>, <span style=\"color: #00af00; text-decoration-color: #00af00\">122</span>, <span style=\"color: #00af00; text-decoration-color: #00af00\">122</span>, <span style=\"color: #00af00; text-decoration-color: #00af00\">64</span>)   │        <span style=\"color: #00af00; text-decoration-color: #00af00\">18,496</span> │\n",
              "├─────────────────────────────────┼────────────────────────┼───────────────┤\n",
              "│ max_pooling2d_5 (<span style=\"color: #0087ff; text-decoration-color: #0087ff\">MaxPooling2D</span>)  │ (<span style=\"color: #00d7ff; text-decoration-color: #00d7ff\">None</span>, <span style=\"color: #00af00; text-decoration-color: #00af00\">61</span>, <span style=\"color: #00af00; text-decoration-color: #00af00\">61</span>, <span style=\"color: #00af00; text-decoration-color: #00af00\">64</span>)     │             <span style=\"color: #00af00; text-decoration-color: #00af00\">0</span> │\n",
              "├─────────────────────────────────┼────────────────────────┼───────────────┤\n",
              "│ conv2d_8 (<span style=\"color: #0087ff; text-decoration-color: #0087ff\">Conv2D</span>)               │ (<span style=\"color: #00d7ff; text-decoration-color: #00d7ff\">None</span>, <span style=\"color: #00af00; text-decoration-color: #00af00\">59</span>, <span style=\"color: #00af00; text-decoration-color: #00af00\">59</span>, <span style=\"color: #00af00; text-decoration-color: #00af00\">64</span>)     │        <span style=\"color: #00af00; text-decoration-color: #00af00\">36,928</span> │\n",
              "├─────────────────────────────────┼────────────────────────┼───────────────┤\n",
              "│ flatten_2 (<span style=\"color: #0087ff; text-decoration-color: #0087ff\">Flatten</span>)             │ (<span style=\"color: #00d7ff; text-decoration-color: #00d7ff\">None</span>, <span style=\"color: #00af00; text-decoration-color: #00af00\">222784</span>)         │             <span style=\"color: #00af00; text-decoration-color: #00af00\">0</span> │\n",
              "├─────────────────────────────────┼────────────────────────┼───────────────┤\n",
              "│ dense_6 (<span style=\"color: #0087ff; text-decoration-color: #0087ff\">Dense</span>)                 │ (<span style=\"color: #00d7ff; text-decoration-color: #00d7ff\">None</span>, <span style=\"color: #00af00; text-decoration-color: #00af00\">32</span>)             │     <span style=\"color: #00af00; text-decoration-color: #00af00\">7,129,120</span> │\n",
              "├─────────────────────────────────┼────────────────────────┼───────────────┤\n",
              "│ dense_7 (<span style=\"color: #0087ff; text-decoration-color: #0087ff\">Dense</span>)                 │ (<span style=\"color: #00d7ff; text-decoration-color: #00d7ff\">None</span>, <span style=\"color: #00af00; text-decoration-color: #00af00\">32</span>)             │         <span style=\"color: #00af00; text-decoration-color: #00af00\">1,056</span> │\n",
              "├─────────────────────────────────┼────────────────────────┼───────────────┤\n",
              "│ dense_8 (<span style=\"color: #0087ff; text-decoration-color: #0087ff\">Dense</span>)                 │ (<span style=\"color: #00d7ff; text-decoration-color: #00d7ff\">None</span>, <span style=\"color: #00af00; text-decoration-color: #00af00\">2</span>)              │            <span style=\"color: #00af00; text-decoration-color: #00af00\">66</span> │\n",
              "└─────────────────────────────────┴────────────────────────┴───────────────┘\n",
              "</pre>\n"
            ],
            "text/plain": [
              "┏━━━━━━━━━━━━━━━━━━━━━━━━━━━━━━━━━┳━━━━━━━━━━━━━━━━━━━━━━━━┳━━━━━━━━━━━━━━━┓\n",
              "┃\u001b[1m \u001b[0m\u001b[1mLayer (type)                   \u001b[0m\u001b[1m \u001b[0m┃\u001b[1m \u001b[0m\u001b[1mOutput Shape          \u001b[0m\u001b[1m \u001b[0m┃\u001b[1m \u001b[0m\u001b[1m      Param #\u001b[0m\u001b[1m \u001b[0m┃\n",
              "┡━━━━━━━━━━━━━━━━━━━━━━━━━━━━━━━━━╇━━━━━━━━━━━━━━━━━━━━━━━━╇━━━━━━━━━━━━━━━┩\n",
              "│ conv2d_6 (\u001b[38;5;33mConv2D\u001b[0m)               │ (\u001b[38;5;45mNone\u001b[0m, \u001b[38;5;34m248\u001b[0m, \u001b[38;5;34m248\u001b[0m, \u001b[38;5;34m32\u001b[0m)   │           \u001b[38;5;34m896\u001b[0m │\n",
              "├─────────────────────────────────┼────────────────────────┼───────────────┤\n",
              "│ max_pooling2d_4 (\u001b[38;5;33mMaxPooling2D\u001b[0m)  │ (\u001b[38;5;45mNone\u001b[0m, \u001b[38;5;34m124\u001b[0m, \u001b[38;5;34m124\u001b[0m, \u001b[38;5;34m32\u001b[0m)   │             \u001b[38;5;34m0\u001b[0m │\n",
              "├─────────────────────────────────┼────────────────────────┼───────────────┤\n",
              "│ conv2d_7 (\u001b[38;5;33mConv2D\u001b[0m)               │ (\u001b[38;5;45mNone\u001b[0m, \u001b[38;5;34m122\u001b[0m, \u001b[38;5;34m122\u001b[0m, \u001b[38;5;34m64\u001b[0m)   │        \u001b[38;5;34m18,496\u001b[0m │\n",
              "├─────────────────────────────────┼────────────────────────┼───────────────┤\n",
              "│ max_pooling2d_5 (\u001b[38;5;33mMaxPooling2D\u001b[0m)  │ (\u001b[38;5;45mNone\u001b[0m, \u001b[38;5;34m61\u001b[0m, \u001b[38;5;34m61\u001b[0m, \u001b[38;5;34m64\u001b[0m)     │             \u001b[38;5;34m0\u001b[0m │\n",
              "├─────────────────────────────────┼────────────────────────┼───────────────┤\n",
              "│ conv2d_8 (\u001b[38;5;33mConv2D\u001b[0m)               │ (\u001b[38;5;45mNone\u001b[0m, \u001b[38;5;34m59\u001b[0m, \u001b[38;5;34m59\u001b[0m, \u001b[38;5;34m64\u001b[0m)     │        \u001b[38;5;34m36,928\u001b[0m │\n",
              "├─────────────────────────────────┼────────────────────────┼───────────────┤\n",
              "│ flatten_2 (\u001b[38;5;33mFlatten\u001b[0m)             │ (\u001b[38;5;45mNone\u001b[0m, \u001b[38;5;34m222784\u001b[0m)         │             \u001b[38;5;34m0\u001b[0m │\n",
              "├─────────────────────────────────┼────────────────────────┼───────────────┤\n",
              "│ dense_6 (\u001b[38;5;33mDense\u001b[0m)                 │ (\u001b[38;5;45mNone\u001b[0m, \u001b[38;5;34m32\u001b[0m)             │     \u001b[38;5;34m7,129,120\u001b[0m │\n",
              "├─────────────────────────────────┼────────────────────────┼───────────────┤\n",
              "│ dense_7 (\u001b[38;5;33mDense\u001b[0m)                 │ (\u001b[38;5;45mNone\u001b[0m, \u001b[38;5;34m32\u001b[0m)             │         \u001b[38;5;34m1,056\u001b[0m │\n",
              "├─────────────────────────────────┼────────────────────────┼───────────────┤\n",
              "│ dense_8 (\u001b[38;5;33mDense\u001b[0m)                 │ (\u001b[38;5;45mNone\u001b[0m, \u001b[38;5;34m2\u001b[0m)              │            \u001b[38;5;34m66\u001b[0m │\n",
              "└─────────────────────────────────┴────────────────────────┴───────────────┘\n"
            ]
          },
          "metadata": {},
          "output_type": "display_data"
        },
        {
          "data": {
            "text/html": [
              "<pre style=\"white-space:pre;overflow-x:auto;line-height:normal;font-family:Menlo,'DejaVu Sans Mono',consolas,'Courier New',monospace\"><span style=\"font-weight: bold\"> Total params: </span><span style=\"color: #00af00; text-decoration-color: #00af00\">7,186,562</span> (27.41 MB)\n",
              "</pre>\n"
            ],
            "text/plain": [
              "\u001b[1m Total params: \u001b[0m\u001b[38;5;34m7,186,562\u001b[0m (27.41 MB)\n"
            ]
          },
          "metadata": {},
          "output_type": "display_data"
        },
        {
          "data": {
            "text/html": [
              "<pre style=\"white-space:pre;overflow-x:auto;line-height:normal;font-family:Menlo,'DejaVu Sans Mono',consolas,'Courier New',monospace\"><span style=\"font-weight: bold\"> Trainable params: </span><span style=\"color: #00af00; text-decoration-color: #00af00\">7,186,562</span> (27.41 MB)\n",
              "</pre>\n"
            ],
            "text/plain": [
              "\u001b[1m Trainable params: \u001b[0m\u001b[38;5;34m7,186,562\u001b[0m (27.41 MB)\n"
            ]
          },
          "metadata": {},
          "output_type": "display_data"
        },
        {
          "data": {
            "text/html": [
              "<pre style=\"white-space:pre;overflow-x:auto;line-height:normal;font-family:Menlo,'DejaVu Sans Mono',consolas,'Courier New',monospace\"><span style=\"font-weight: bold\"> Non-trainable params: </span><span style=\"color: #00af00; text-decoration-color: #00af00\">0</span> (0.00 B)\n",
              "</pre>\n"
            ],
            "text/plain": [
              "\u001b[1m Non-trainable params: \u001b[0m\u001b[38;5;34m0\u001b[0m (0.00 B)\n"
            ]
          },
          "metadata": {},
          "output_type": "display_data"
        }
      ],
      "source": [
        "model = keras.Sequential([\n",
        "    layers.Conv2D(32, (3, 3), activation='relu', input_shape=(250, 250, 3)),\n",
        "    layers.MaxPooling2D((2, 2)),\n",
        "    layers.Conv2D(64, (3, 3), activation='relu'),\n",
        "    layers.MaxPooling2D((2, 2)),\n",
        "    layers.Conv2D(64, (3, 3), activation='relu'),\n",
        "    layers.Flatten(),\n",
        "    layers.Dense(32, activation='relu'),\n",
        "    layers.Dense(32, activation='relu'),\n",
        "    layers.Dense(2)\n",
        "])\n",
        "\n",
        "model.summary()"
      ]
    },
    {
      "cell_type": "code",
      "execution_count": 8,
      "metadata": {},
      "outputs": [
        {
          "data": {
            "image/png": "[encoded data removed]",
            "text/plain": [
              "<IPython.core.display.Image object>"
            ]
          },
          "execution_count": 8,
          "metadata": {},
          "output_type": "execute_result"
        }
      ],
      "source": [
        "from keras.utils import plot_model\n",
        "plot_model(model, to_file='model.png', show_shapes=True)"
      ]
    },
    {
      "cell_type": "code",
      "execution_count": null,
      "metadata": {
        "id": "qSEHizLa_4wT"
      },
      "outputs": [],
      "source": [
        "from keras.callbacks import EarlyStopping, ReduceLROnPlateau\n",
        "early_stopping = EarlyStopping(monitor='val_loss', patience=5)\n",
        "reduce_lr = ReduceLROnPlateau(monitor='val_loss', patience=3, factor=0.5, verbose=1)"
      ]
    },
    {
      "cell_type": "code",
      "execution_count": null,
      "metadata": {
        "id": "v9N3hbiJ_Z9L"
      },
      "outputs": [],
      "source": [
        "model.compile(optimizer=tf.keras.optimizers.RMSprop(learning_rate=1e-5), loss='mse', metrics=['mae', 'mse'])"
      ]
    },
    {
      "cell_type": "code",
      "execution_count": null,
      "metadata": {
        "id": "65g5BaGg_cr7"
      },
      "outputs": [],
      "source": [
        "from sklearn.model_selection import train_test_split\n",
        "X_train, X_test, y_train, y_test = train_test_split(X, y, test_size=0.2, random_state=42)"
      ]
    },
    {
      "cell_type": "code",
      "execution_count": null,
      "metadata": {
        "colab": {
          "base_uri": "https://localhost:8080/"
        },
        "id": "mdjv_ltX_eYP",
        "outputId": "1aa98250-ff00-4735-e876-73d76c78c088"
      },
      "outputs": [
        {
          "name": "stdout",
          "output_type": "stream",
          "text": [
            "Epoch 1/128\n",
            "28/28 [==============================] - 3s 55ms/step - loss: 3961.5996 - mae: 62.1144 - mse: 3961.5996 - val_loss: 3896.3518 - val_mae: 61.4408 - val_mse: 3896.3518 - lr: 1.0000e-05\n",
            "Epoch 2/128\n",
            "28/28 [==============================] - 1s 37ms/step - loss: 3840.3054 - mae: 61.1397 - mse: 3840.3054 - val_loss: 3756.4082 - val_mae: 60.3056 - val_mse: 3756.4082 - lr: 1.0000e-05\n",
            "Epoch 3/128\n",
            "28/28 [==============================] - 1s 36ms/step - loss: 3678.2407 - mae: 59.8141 - mse: 3678.2407 - val_loss: 3572.3020 - val_mae: 58.7785 - val_mse: 3572.3020 - lr: 1.0000e-05\n",
            "Epoch 4/128\n",
            "28/28 [==============================] - 1s 37ms/step - loss: 3469.3105 - mae: 58.0655 - mse: 3469.3105 - val_loss: 3337.2681 - val_mae: 56.7692 - val_mse: 3337.2681 - lr: 1.0000e-05\n",
            "Epoch 5/128\n",
            "28/28 [==============================] - 1s 37ms/step - loss: 3210.0042 - mae: 55.8037 - mse: 3210.0042 - val_loss: 3053.8640 - val_mae: 54.2478 - val_mse: 3053.8640 - lr: 1.0000e-05\n",
            "Epoch 6/128\n",
            "28/28 [==============================] - 1s 37ms/step - loss: 2896.2754 - mae: 52.9557 - mse: 2896.2754 - val_loss: 2709.7810 - val_mae: 51.0201 - val_mse: 2709.7810 - lr: 1.0000e-05\n",
            "Epoch 7/128\n",
            "28/28 [==============================] - 1s 37ms/step - loss: 2526.3152 - mae: 49.3805 - mse: 2526.3152 - val_loss: 2313.9963 - val_mae: 47.0361 - val_mse: 2313.9963 - lr: 1.0000e-05\n",
            "Epoch 8/128\n",
            "28/28 [==============================] - 1s 37ms/step - loss: 2106.6875 - mae: 44.9812 - mse: 2106.6875 - val_loss: 1874.8906 - val_mae: 42.1811 - val_mse: 1874.8906 - lr: 1.0000e-05\n",
            "Epoch 9/128\n",
            "28/28 [==============================] - 1s 37ms/step - loss: 1654.4399 - mae: 39.6679 - mse: 1654.4399 - val_loss: 1418.0317 - val_mae: 36.4560 - val_mse: 1418.0317 - lr: 1.0000e-05\n",
            "Epoch 10/128\n",
            "28/28 [==============================] - 1s 37ms/step - loss: 1189.3790 - mae: 33.3951 - mse: 1189.3790 - val_loss: 952.8280 - val_mae: 29.5203 - val_mse: 952.8280 - lr: 1.0000e-05\n",
            "Epoch 11/128\n",
            "28/28 [==============================] - 1s 37ms/step - loss: 747.5671 - mae: 25.9879 - mse: 747.5671 - val_loss: 547.3204 - val_mae: 21.7683 - val_mse: 547.3204 - lr: 1.0000e-05\n",
            "Epoch 12/128\n",
            "28/28 [==============================] - 1s 38ms/step - loss: 377.4727 - mae: 17.7318 - mse: 377.4727 - val_loss: 235.3123 - val_mae: 13.1298 - val_mse: 235.3123 - lr: 1.0000e-05\n",
            "Epoch 13/128\n",
            "28/28 [==============================] - 1s 38ms/step - loss: 137.1530 - mae: 9.6722 - mse: 137.1530 - val_loss: 78.4793 - val_mae: 7.3370 - val_mse: 78.4793 - lr: 1.0000e-05\n",
            "Epoch 14/128\n",
            "28/28 [==============================] - 1s 37ms/step - loss: 52.1756 - mae: 5.9426 - mse: 52.1756 - val_loss: 54.1726 - val_mae: 6.4706 - val_mse: 54.1726 - lr: 1.0000e-05\n",
            "Epoch 15/128\n",
            "28/28 [==============================] - 1s 37ms/step - loss: 44.6824 - mae: 5.5792 - mse: 44.6824 - val_loss: 54.4227 - val_mae: 6.4184 - val_mse: 54.4227 - lr: 1.0000e-05\n",
            "Epoch 16/128\n",
            "28/28 [==============================] - 1s 37ms/step - loss: 44.3552 - mae: 5.5591 - mse: 44.3552 - val_loss: 53.3823 - val_mae: 6.3976 - val_mse: 53.3823 - lr: 1.0000e-05\n",
            "Epoch 17/128\n",
            "28/28 [==============================] - 1s 37ms/step - loss: 44.2536 - mae: 5.5501 - mse: 44.2536 - val_loss: 52.9039 - val_mae: 6.3892 - val_mse: 52.9039 - lr: 1.0000e-05\n",
            "Epoch 18/128\n",
            "28/28 [==============================] - 1s 37ms/step - loss: 43.8420 - mae: 5.5241 - mse: 43.8420 - val_loss: 53.0586 - val_mae: 6.3314 - val_mse: 53.0586 - lr: 1.0000e-05\n",
            "Epoch 19/128\n",
            "28/28 [==============================] - 1s 37ms/step - loss: 44.0021 - mae: 5.5222 - mse: 44.0021 - val_loss: 52.6635 - val_mae: 6.3085 - val_mse: 52.6635 - lr: 1.0000e-05\n",
            "Epoch 20/128\n",
            "28/28 [==============================] - 1s 37ms/step - loss: 43.5191 - mae: 5.5067 - mse: 43.5191 - val_loss: 51.7994 - val_mae: 6.3167 - val_mse: 51.7994 - lr: 1.0000e-05\n",
            "Epoch 21/128\n",
            "28/28 [==============================] - 1s 37ms/step - loss: 42.8136 - mae: 5.4705 - mse: 42.8136 - val_loss: 51.8883 - val_mae: 6.3195 - val_mse: 51.8883 - lr: 1.0000e-05\n",
            "Epoch 22/128\n",
            "28/28 [==============================] - 1s 37ms/step - loss: 42.6938 - mae: 5.4392 - mse: 42.6939 - val_loss: 51.2929 - val_mae: 6.2289 - val_mse: 51.2929 - lr: 1.0000e-05\n",
            "Epoch 23/128\n",
            "28/28 [==============================] - 1s 38ms/step - loss: 42.4829 - mae: 5.4309 - mse: 42.4829 - val_loss: 51.2486 - val_mae: 6.2731 - val_mse: 51.2487 - lr: 1.0000e-05\n",
            "Epoch 24/128\n",
            "28/28 [==============================] - 1s 37ms/step - loss: 42.0477 - mae: 5.3936 - mse: 42.0477 - val_loss: 50.4720 - val_mae: 6.1798 - val_mse: 50.4720 - lr: 1.0000e-05\n",
            "Epoch 25/128\n",
            "28/28 [==============================] - 1s 38ms/step - loss: 41.6194 - mae: 5.3631 - mse: 41.6194 - val_loss: 50.1729 - val_mae: 6.1521 - val_mse: 50.1729 - lr: 1.0000e-05\n",
            "Epoch 26/128\n",
            "28/28 [==============================] - 1s 37ms/step - loss: 41.4978 - mae: 5.3519 - mse: 41.4978 - val_loss: 49.9437 - val_mae: 6.1873 - val_mse: 49.9437 - lr: 1.0000e-05\n",
            "Epoch 27/128\n",
            "28/28 [==============================] - 1s 37ms/step - loss: 41.1482 - mae: 5.3261 - mse: 41.1482 - val_loss: 48.9372 - val_mae: 6.1206 - val_mse: 48.9372 - lr: 1.0000e-05\n",
            "Epoch 28/128\n",
            "28/28 [==============================] - 1s 37ms/step - loss: 40.6863 - mae: 5.2983 - mse: 40.6863 - val_loss: 49.6951 - val_mae: 6.1491 - val_mse: 49.6951 - lr: 1.0000e-05\n",
            "Epoch 29/128\n",
            "28/28 [==============================] - 1s 37ms/step - loss: 40.2864 - mae: 5.2381 - mse: 40.2864 - val_loss: 48.0500 - val_mae: 6.0584 - val_mse: 48.0500 - lr: 1.0000e-05\n",
            "Epoch 30/128\n",
            "28/28 [==============================] - 1s 37ms/step - loss: 40.1956 - mae: 5.2265 - mse: 40.1956 - val_loss: 47.6946 - val_mae: 6.0275 - val_mse: 47.6946 - lr: 1.0000e-05\n",
            "Epoch 31/128\n",
            "28/28 [==============================] - 1s 37ms/step - loss: 39.6536 - mae: 5.1866 - mse: 39.6536 - val_loss: 48.5830 - val_mae: 6.0708 - val_mse: 48.5830 - lr: 1.0000e-05\n",
            "Epoch 32/128\n",
            "28/28 [==============================] - 1s 37ms/step - loss: 39.5011 - mae: 5.1992 - mse: 39.5011 - val_loss: 47.6769 - val_mae: 6.0229 - val_mse: 47.6769 - lr: 1.0000e-05\n",
            "Epoch 33/128\n",
            "28/28 [==============================] - 1s 37ms/step - loss: 39.2365 - mae: 5.1758 - mse: 39.2365 - val_loss: 47.6125 - val_mae: 5.9273 - val_mse: 47.6125 - lr: 1.0000e-05\n",
            "Epoch 34/128\n",
            "28/28 [==============================] - 1s 38ms/step - loss: 38.9249 - mae: 5.1491 - mse: 38.9249 - val_loss: 46.3833 - val_mae: 5.9059 - val_mse: 46.3833 - lr: 1.0000e-05\n",
            "Epoch 35/128\n",
            "28/28 [==============================] - 1s 37ms/step - loss: 38.8249 - mae: 5.1414 - mse: 38.8249 - val_loss: 46.7868 - val_mae: 5.8732 - val_mse: 46.7868 - lr: 1.0000e-05\n",
            "Epoch 36/128\n",
            "28/28 [==============================] - 1s 37ms/step - loss: 38.5740 - mae: 5.1063 - mse: 38.5740 - val_loss: 45.5960 - val_mae: 5.8696 - val_mse: 45.5960 - lr: 1.0000e-05\n",
            "Epoch 37/128\n",
            "28/28 [==============================] - 1s 37ms/step - loss: 38.0243 - mae: 5.0889 - mse: 38.0243 - val_loss: 45.3050 - val_mae: 5.8590 - val_mse: 45.3050 - lr: 1.0000e-05\n",
            "Epoch 38/128\n",
            "28/28 [==============================] - 1s 37ms/step - loss: 37.9768 - mae: 5.0616 - mse: 37.9768 - val_loss: 45.1070 - val_mae: 5.8423 - val_mse: 45.1070 - lr: 1.0000e-05\n",
            "Epoch 39/128\n",
            "28/28 [==============================] - 1s 37ms/step - loss: 37.3062 - mae: 5.0400 - mse: 37.3062 - val_loss: 45.1944 - val_mae: 5.8344 - val_mse: 45.1944 - lr: 1.0000e-05\n",
            "Epoch 40/128\n",
            "28/28 [==============================] - 1s 37ms/step - loss: 36.9423 - mae: 4.9798 - mse: 36.9423 - val_loss: 44.1361 - val_mae: 5.7377 - val_mse: 44.1361 - lr: 1.0000e-05\n",
            "Epoch 41/128\n",
            "28/28 [==============================] - 1s 37ms/step - loss: 36.8622 - mae: 4.9792 - mse: 36.8622 - val_loss: 44.3221 - val_mae: 5.7076 - val_mse: 44.3221 - lr: 1.0000e-05\n",
            "Epoch 42/128\n",
            "28/28 [==============================] - 1s 37ms/step - loss: 36.6026 - mae: 4.9405 - mse: 36.6026 - val_loss: 44.4017 - val_mae: 5.7612 - val_mse: 44.4017 - lr: 1.0000e-05\n",
            "Epoch 43/128\n",
            "28/28 [==============================] - 1s 37ms/step - loss: 36.2460 - mae: 4.9401 - mse: 36.2460 - val_loss: 43.1075 - val_mae: 5.6878 - val_mse: 43.1075 - lr: 1.0000e-05\n",
            "Epoch 44/128\n",
            "28/28 [==============================] - 1s 37ms/step - loss: 35.9033 - mae: 4.8920 - mse: 35.9033 - val_loss: 42.7049 - val_mae: 5.6175 - val_mse: 42.7049 - lr: 1.0000e-05\n",
            "Epoch 45/128\n",
            "28/28 [==============================] - 1s 37ms/step - loss: 35.8219 - mae: 4.8908 - mse: 35.8219 - val_loss: 42.7863 - val_mae: 5.6494 - val_mse: 42.7863 - lr: 1.0000e-05\n",
            "Epoch 46/128\n",
            "28/28 [==============================] - 1s 37ms/step - loss: 35.5690 - mae: 4.8400 - mse: 35.5690 - val_loss: 41.8635 - val_mae: 5.5733 - val_mse: 41.8635 - lr: 1.0000e-05\n",
            "Epoch 47/128\n",
            "28/28 [==============================] - 1s 37ms/step - loss: 35.1882 - mae: 4.8205 - mse: 35.1882 - val_loss: 42.2218 - val_mae: 5.5427 - val_mse: 42.2218 - lr: 1.0000e-05\n",
            "Epoch 48/128\n",
            "28/28 [==============================] - 1s 37ms/step - loss: 35.0109 - mae: 4.8247 - mse: 35.0109 - val_loss: 41.7116 - val_mae: 5.5667 - val_mse: 41.7116 - lr: 1.0000e-05\n",
            "Epoch 49/128\n",
            "28/28 [==============================] - 1s 37ms/step - loss: 34.5412 - mae: 4.7761 - mse: 34.5412 - val_loss: 40.8534 - val_mae: 5.5033 - val_mse: 40.8534 - lr: 1.0000e-05\n",
            "Epoch 50/128\n",
            "28/28 [==============================] - 1s 37ms/step - loss: 34.5263 - mae: 4.7578 - mse: 34.5263 - val_loss: 40.6123 - val_mae: 5.4823 - val_mse: 40.6123 - lr: 1.0000e-05\n",
            "Epoch 51/128\n",
            "28/28 [==============================] - 1s 37ms/step - loss: 33.8283 - mae: 4.7206 - mse: 33.8283 - val_loss: 41.8410 - val_mae: 5.5198 - val_mse: 41.8410 - lr: 1.0000e-05\n",
            "Epoch 52/128\n",
            "28/28 [==============================] - 1s 37ms/step - loss: 33.6996 - mae: 4.6909 - mse: 33.6996 - val_loss: 39.9839 - val_mae: 5.4268 - val_mse: 39.9839 - lr: 1.0000e-05\n",
            "Epoch 53/128\n",
            "28/28 [==============================] - 1s 37ms/step - loss: 33.3054 - mae: 4.6454 - mse: 33.3054 - val_loss: 39.4421 - val_mae: 5.3825 - val_mse: 39.4421 - lr: 1.0000e-05\n",
            "Epoch 54/128\n",
            "28/28 [==============================] - 1s 37ms/step - loss: 32.8963 - mae: 4.6420 - mse: 32.8963 - val_loss: 38.8936 - val_mae: 5.3361 - val_mse: 38.8936 - lr: 1.0000e-05\n",
            "Epoch 55/128\n",
            "28/28 [==============================] - 1s 37ms/step - loss: 32.8046 - mae: 4.6265 - mse: 32.8046 - val_loss: 38.3854 - val_mae: 5.2935 - val_mse: 38.3854 - lr: 1.0000e-05\n",
            "Epoch 56/128\n",
            "28/28 [==============================] - 1s 37ms/step - loss: 32.1727 - mae: 4.5597 - mse: 32.1727 - val_loss: 37.8475 - val_mae: 5.2458 - val_mse: 37.8475 - lr: 1.0000e-05\n",
            "Epoch 57/128\n",
            "28/28 [==============================] - 1s 37ms/step - loss: 31.8657 - mae: 4.5140 - mse: 31.8657 - val_loss: 37.9022 - val_mae: 5.2412 - val_mse: 37.9022 - lr: 1.0000e-05\n",
            "Epoch 58/128\n",
            "28/28 [==============================] - 1s 37ms/step - loss: 31.3903 - mae: 4.4880 - mse: 31.3903 - val_loss: 37.0244 - val_mae: 5.1497 - val_mse: 37.0244 - lr: 1.0000e-05\n",
            "Epoch 59/128\n",
            "28/28 [==============================] - 1s 37ms/step - loss: 31.1177 - mae: 4.4665 - mse: 31.1177 - val_loss: 38.0924 - val_mae: 5.2163 - val_mse: 38.0924 - lr: 1.0000e-05\n",
            "Epoch 60/128\n",
            "28/28 [==============================] - 1s 37ms/step - loss: 31.0313 - mae: 4.4479 - mse: 31.0313 - val_loss: 35.9686 - val_mae: 5.0866 - val_mse: 35.9686 - lr: 1.0000e-05\n",
            "Epoch 61/128\n",
            "28/28 [==============================] - 1s 37ms/step - loss: 30.4854 - mae: 4.3961 - mse: 30.4854 - val_loss: 36.9615 - val_mae: 5.1273 - val_mse: 36.9615 - lr: 1.0000e-05\n",
            "Epoch 62/128\n",
            "28/28 [==============================] - 1s 37ms/step - loss: 30.3086 - mae: 4.3727 - mse: 30.3086 - val_loss: 35.1660 - val_mae: 5.0104 - val_mse: 35.1660 - lr: 1.0000e-05\n",
            "Epoch 63/128\n",
            "28/28 [==============================] - 1s 37ms/step - loss: 29.9675 - mae: 4.3507 - mse: 29.9675 - val_loss: 34.6127 - val_mae: 4.9634 - val_mse: 34.6127 - lr: 1.0000e-05\n",
            "Epoch 64/128\n",
            "28/28 [==============================] - 1s 37ms/step - loss: 29.4357 - mae: 4.2940 - mse: 29.4357 - val_loss: 34.2259 - val_mae: 4.9209 - val_mse: 34.2259 - lr: 1.0000e-05\n",
            "Epoch 65/128\n",
            "28/28 [==============================] - 1s 37ms/step - loss: 28.8936 - mae: 4.2911 - mse: 28.8936 - val_loss: 33.5657 - val_mae: 4.8621 - val_mse: 33.5657 - lr: 1.0000e-05\n",
            "Epoch 66/128\n",
            "28/28 [==============================] - 1s 37ms/step - loss: 28.6310 - mae: 4.2223 - mse: 28.6310 - val_loss: 32.9186 - val_mae: 4.7994 - val_mse: 32.9186 - lr: 1.0000e-05\n",
            "Epoch 67/128\n",
            "28/28 [==============================] - 1s 37ms/step - loss: 28.6136 - mae: 4.2221 - mse: 28.6136 - val_loss: 32.6197 - val_mae: 4.7713 - val_mse: 32.6197 - lr: 1.0000e-05\n",
            "Epoch 68/128\n",
            "28/28 [==============================] - 1s 37ms/step - loss: 28.1115 - mae: 4.1789 - mse: 28.1115 - val_loss: 32.0246 - val_mae: 4.7089 - val_mse: 32.0246 - lr: 1.0000e-05\n",
            "Epoch 69/128\n",
            "28/28 [==============================] - 1s 36ms/step - loss: 27.8854 - mae: 4.1439 - mse: 27.8854 - val_loss: 31.5765 - val_mae: 4.6592 - val_mse: 31.5765 - lr: 1.0000e-05\n",
            "Epoch 70/128\n",
            "28/28 [==============================] - 1s 37ms/step - loss: 27.4809 - mae: 4.1041 - mse: 27.4809 - val_loss: 31.3287 - val_mae: 4.6517 - val_mse: 31.3287 - lr: 1.0000e-05\n",
            "Epoch 71/128\n",
            "28/28 [==============================] - 1s 37ms/step - loss: 26.9893 - mae: 4.0763 - mse: 26.9893 - val_loss: 30.6641 - val_mae: 4.5595 - val_mse: 30.6641 - lr: 1.0000e-05\n",
            "Epoch 72/128\n",
            "28/28 [==============================] - 1s 37ms/step - loss: 26.8002 - mae: 4.0556 - mse: 26.8002 - val_loss: 30.2218 - val_mae: 4.5364 - val_mse: 30.2218 - lr: 1.0000e-05\n",
            "Epoch 73/128\n",
            "28/28 [==============================] - 1s 37ms/step - loss: 26.4683 - mae: 3.9913 - mse: 26.4683 - val_loss: 29.7967 - val_mae: 4.4909 - val_mse: 29.7967 - lr: 1.0000e-05\n",
            "Epoch 74/128\n",
            "28/28 [==============================] - 1s 37ms/step - loss: 26.4735 - mae: 4.0096 - mse: 26.4735 - val_loss: 30.0061 - val_mae: 4.5406 - val_mse: 30.0061 - lr: 1.0000e-05\n",
            "Epoch 75/128\n",
            "28/28 [==============================] - 1s 37ms/step - loss: 26.2075 - mae: 3.9678 - mse: 26.2075 - val_loss: 29.9717 - val_mae: 4.5469 - val_mse: 29.9717 - lr: 1.0000e-05\n",
            "Epoch 76/128\n",
            "28/28 [==============================] - 1s 37ms/step - loss: 26.0467 - mae: 3.9482 - mse: 26.0467 - val_loss: 29.1287 - val_mae: 4.4555 - val_mse: 29.1287 - lr: 1.0000e-05\n",
            "Epoch 77/128\n",
            "28/28 [==============================] - 1s 37ms/step - loss: 25.8483 - mae: 3.9469 - mse: 25.8483 - val_loss: 28.6264 - val_mae: 4.3353 - val_mse: 28.6264 - lr: 1.0000e-05\n",
            "Epoch 78/128\n",
            "28/28 [==============================] - 1s 37ms/step - loss: 25.5078 - mae: 3.9082 - mse: 25.5078 - val_loss: 28.3091 - val_mae: 4.3647 - val_mse: 28.3091 - lr: 1.0000e-05\n",
            "Epoch 79/128\n",
            "28/28 [==============================] - 1s 37ms/step - loss: 25.4622 - mae: 3.9136 - mse: 25.4622 - val_loss: 27.8526 - val_mae: 4.2955 - val_mse: 27.8526 - lr: 1.0000e-05\n",
            "Epoch 80/128\n",
            "28/28 [==============================] - 1s 37ms/step - loss: 24.9420 - mae: 3.8385 - mse: 24.9420 - val_loss: 28.1270 - val_mae: 4.3833 - val_mse: 28.1270 - lr: 1.0000e-05\n",
            "Epoch 81/128\n",
            "28/28 [==============================] - 1s 37ms/step - loss: 25.1704 - mae: 3.8850 - mse: 25.1704 - val_loss: 27.3157 - val_mae: 4.2466 - val_mse: 27.3157 - lr: 1.0000e-05\n",
            "Epoch 82/128\n",
            "28/28 [==============================] - 1s 37ms/step - loss: 24.6676 - mae: 3.8446 - mse: 24.6676 - val_loss: 28.4535 - val_mae: 4.2723 - val_mse: 28.4535 - lr: 1.0000e-05\n",
            "Epoch 83/128\n",
            "28/28 [==============================] - 1s 37ms/step - loss: 24.9185 - mae: 3.8441 - mse: 24.9185 - val_loss: 27.3312 - val_mae: 4.3116 - val_mse: 27.3312 - lr: 1.0000e-05\n",
            "Epoch 84/128\n",
            "28/28 [==============================] - 1s 37ms/step - loss: 24.7418 - mae: 3.8419 - mse: 24.7418 - val_loss: 27.0915 - val_mae: 4.2892 - val_mse: 27.0915 - lr: 1.0000e-05\n",
            "Epoch 85/128\n",
            "28/28 [==============================] - 1s 37ms/step - loss: 24.5529 - mae: 3.8325 - mse: 24.5529 - val_loss: 26.9023 - val_mae: 4.1630 - val_mse: 26.9023 - lr: 1.0000e-05\n",
            "Epoch 86/128\n",
            "28/28 [==============================] - 1s 37ms/step - loss: 24.3332 - mae: 3.7886 - mse: 24.3332 - val_loss: 27.0830 - val_mae: 4.3062 - val_mse: 27.0830 - lr: 1.0000e-05\n",
            "Epoch 87/128\n",
            "28/28 [==============================] - 1s 37ms/step - loss: 24.3733 - mae: 3.8281 - mse: 24.3733 - val_loss: 26.0281 - val_mae: 4.1282 - val_mse: 26.0281 - lr: 1.0000e-05\n",
            "Epoch 88/128\n",
            "28/28 [==============================] - 1s 37ms/step - loss: 24.2996 - mae: 3.8051 - mse: 24.2996 - val_loss: 26.0544 - val_mae: 4.1941 - val_mse: 26.0544 - lr: 1.0000e-05\n",
            "Epoch 89/128\n",
            "28/28 [==============================] - 1s 37ms/step - loss: 24.1020 - mae: 3.7913 - mse: 24.1020 - val_loss: 25.6596 - val_mae: 4.1404 - val_mse: 25.6596 - lr: 1.0000e-05\n",
            "Epoch 90/128\n",
            "28/28 [==============================] - 1s 37ms/step - loss: 24.0730 - mae: 3.7814 - mse: 24.0730 - val_loss: 26.0693 - val_mae: 4.2144 - val_mse: 26.0693 - lr: 1.0000e-05\n",
            "Epoch 91/128\n",
            "28/28 [==============================] - 1s 38ms/step - loss: 23.9214 - mae: 3.8112 - mse: 23.9214 - val_loss: 25.2634 - val_mae: 4.0983 - val_mse: 25.2634 - lr: 1.0000e-05\n",
            "Epoch 92/128\n",
            "28/28 [==============================] - 1s 37ms/step - loss: 23.8803 - mae: 3.7597 - mse: 23.8803 - val_loss: 25.1561 - val_mae: 4.1074 - val_mse: 25.1561 - lr: 1.0000e-05\n",
            "Epoch 93/128\n",
            "28/28 [==============================] - 1s 37ms/step - loss: 23.6742 - mae: 3.7652 - mse: 23.6742 - val_loss: 26.4115 - val_mae: 4.2827 - val_mse: 26.4115 - lr: 1.0000e-05\n",
            "Epoch 94/128\n",
            "28/28 [==============================] - 1s 37ms/step - loss: 23.9200 - mae: 3.7888 - mse: 23.9200 - val_loss: 25.2588 - val_mae: 4.1531 - val_mse: 25.2588 - lr: 1.0000e-05\n",
            "Epoch 95/128\n",
            "27/28 [===========================>..] - ETA: 0s - loss: 23.5664 - mae: 3.7556 - mse: 23.5664\n",
            "Epoch 95: ReduceLROnPlateau reducing learning rate to 4.999999873689376e-06.\n",
            "28/28 [==============================] - 1s 37ms/step - loss: 23.5320 - mae: 3.7599 - mse: 23.5320 - val_loss: 26.1663 - val_mae: 4.0457 - val_mse: 26.1663 - lr: 1.0000e-05\n",
            "Epoch 96/128\n",
            "28/28 [==============================] - 1s 37ms/step - loss: 23.4399 - mae: 3.7506 - mse: 23.4399 - val_loss: 24.6665 - val_mae: 4.0644 - val_mse: 24.6665 - lr: 5.0000e-06\n",
            "Epoch 97/128\n",
            "28/28 [==============================] - 1s 37ms/step - loss: 23.4423 - mae: 3.7393 - mse: 23.4423 - val_loss: 24.7970 - val_mae: 4.1043 - val_mse: 24.7970 - lr: 5.0000e-06\n",
            "Epoch 98/128\n",
            "28/28 [==============================] - 1s 37ms/step - loss: 23.3170 - mae: 3.7462 - mse: 23.3170 - val_loss: 24.7579 - val_mae: 4.1058 - val_mse: 24.7579 - lr: 5.0000e-06\n",
            "Epoch 99/128\n",
            "27/28 [===========================>..] - ETA: 0s - loss: 23.4467 - mae: 3.7656 - mse: 23.4467\n",
            "Epoch 99: ReduceLROnPlateau reducing learning rate to 2.499999936844688e-06.\n",
            "28/28 [==============================] - 1s 37ms/step - loss: 23.3839 - mae: 3.7616 - mse: 23.3839 - val_loss: 24.6821 - val_mae: 4.1005 - val_mse: 24.6821 - lr: 5.0000e-06\n",
            "Epoch 100/128\n",
            "28/28 [==============================] - 1s 37ms/step - loss: 23.2185 - mae: 3.7376 - mse: 23.2185 - val_loss: 24.4873 - val_mae: 4.0642 - val_mse: 24.4873 - lr: 2.5000e-06\n",
            "Epoch 101/128\n",
            "28/28 [==============================] - 1s 37ms/step - loss: 23.1916 - mae: 3.7396 - mse: 23.1916 - val_loss: 24.4111 - val_mae: 4.0437 - val_mse: 24.4111 - lr: 2.5000e-06\n",
            "Epoch 102/128\n",
            "28/28 [==============================] - 1s 37ms/step - loss: 23.2662 - mae: 3.7156 - mse: 23.2662 - val_loss: 24.4960 - val_mae: 4.0774 - val_mse: 24.4960 - lr: 2.5000e-06\n",
            "Epoch 103/128\n",
            "28/28 [==============================] - 1s 37ms/step - loss: 23.1641 - mae: 3.7479 - mse: 23.1641 - val_loss: 24.3940 - val_mae: 4.0575 - val_mse: 24.3940 - lr: 2.5000e-06\n",
            "Epoch 104/128\n",
            "28/28 [==============================] - 1s 37ms/step - loss: 23.1741 - mae: 3.7188 - mse: 23.1741 - val_loss: 24.5149 - val_mae: 4.0916 - val_mse: 24.5149 - lr: 2.5000e-06\n",
            "Epoch 105/128\n",
            "28/28 [==============================] - 1s 37ms/step - loss: 23.1131 - mae: 3.7264 - mse: 23.1131 - val_loss: 24.5576 - val_mae: 4.1029 - val_mse: 24.5576 - lr: 2.5000e-06\n",
            "Epoch 106/128\n",
            "28/28 [==============================] - 1s 37ms/step - loss: 23.1115 - mae: 3.7573 - mse: 23.1115 - val_loss: 24.2784 - val_mae: 4.0333 - val_mse: 24.2784 - lr: 2.5000e-06\n",
            "Epoch 107/128\n",
            "28/28 [==============================] - 1s 37ms/step - loss: 23.1645 - mae: 3.7306 - mse: 23.1645 - val_loss: 24.3058 - val_mae: 4.0581 - val_mse: 24.3058 - lr: 2.5000e-06\n",
            "Epoch 108/128\n",
            "28/28 [==============================] - 1s 37ms/step - loss: 23.1709 - mae: 3.7373 - mse: 23.1709 - val_loss: 24.3462 - val_mae: 4.0738 - val_mse: 24.3462 - lr: 2.5000e-06\n",
            "Epoch 109/128\n",
            "27/28 [===========================>..] - ETA: 0s - loss: 23.2025 - mae: 3.7479 - mse: 23.2025\n",
            "Epoch 109: ReduceLROnPlateau reducing learning rate to 1.249999968422344e-06.\n",
            "28/28 [==============================] - 1s 37ms/step - loss: 23.1127 - mae: 3.7437 - mse: 23.1127 - val_loss: 24.4058 - val_mae: 4.0898 - val_mse: 24.4058 - lr: 2.5000e-06\n",
            "Epoch 110/128\n",
            "28/28 [==============================] - 1s 37ms/step - loss: 23.0753 - mae: 3.7397 - mse: 23.0753 - val_loss: 24.3293 - val_mae: 4.0772 - val_mse: 24.3293 - lr: 1.2500e-06\n",
            "Epoch 111/128\n",
            "28/28 [==============================] - 1s 37ms/step - loss: 23.0497 - mae: 3.7438 - mse: 23.0497 - val_loss: 24.2132 - val_mae: 4.0515 - val_mse: 24.2132 - lr: 1.2500e-06\n",
            "Epoch 112/128\n",
            "28/28 [==============================] - 1s 38ms/step - loss: 23.0502 - mae: 3.7137 - mse: 23.0502 - val_loss: 24.2356 - val_mae: 4.0620 - val_mse: 24.2356 - lr: 1.2500e-06\n",
            "Epoch 113/128\n",
            "28/28 [==============================] - 1s 38ms/step - loss: 23.0763 - mae: 3.7362 - mse: 23.0763 - val_loss: 24.1783 - val_mae: 4.0473 - val_mse: 24.1783 - lr: 1.2500e-06\n",
            "Epoch 114/128\n",
            "28/28 [==============================] - 1s 38ms/step - loss: 23.0333 - mae: 3.7290 - mse: 23.0333 - val_loss: 24.2157 - val_mae: 4.0623 - val_mse: 24.2157 - lr: 1.2500e-06\n",
            "Epoch 115/128\n",
            "28/28 [==============================] - 1s 37ms/step - loss: 23.0485 - mae: 3.7484 - mse: 23.0485 - val_loss: 24.2084 - val_mae: 4.0631 - val_mse: 24.2084 - lr: 1.2500e-06\n",
            "Epoch 116/128\n",
            "27/28 [===========================>..] - ETA: 0s - loss: 23.2388 - mae: 3.7511 - mse: 23.2388\n",
            "Epoch 116: ReduceLROnPlateau reducing learning rate to 6.24999984211172e-07.\n",
            "28/28 [==============================] - 1s 37ms/step - loss: 23.0316 - mae: 3.7285 - mse: 23.0316 - val_loss: 24.1921 - val_mae: 4.0615 - val_mse: 24.1921 - lr: 1.2500e-06\n",
            "Epoch 117/128\n",
            "28/28 [==============================] - 1s 37ms/step - loss: 23.0103 - mae: 3.7233 - mse: 23.0103 - val_loss: 24.2221 - val_mae: 4.0696 - val_mse: 24.2221 - lr: 6.2500e-07\n",
            "Epoch 118/128\n",
            "28/28 [==============================] - 1s 37ms/step - loss: 22.9957 - mae: 3.7348 - mse: 22.9957 - val_loss: 24.1763 - val_mae: 4.0602 - val_mse: 24.1763 - lr: 6.2500e-07\n",
            "Epoch 119/128\n",
            "28/28 [==============================] - 1s 37ms/step - loss: 22.9949 - mae: 3.7317 - mse: 22.9949 - val_loss: 24.1803 - val_mae: 4.0628 - val_mse: 24.1803 - lr: 6.2500e-07\n",
            "Epoch 120/128\n",
            "28/28 [==============================] - 1s 37ms/step - loss: 23.0098 - mae: 3.7266 - mse: 23.0098 - val_loss: 24.1402 - val_mae: 4.0536 - val_mse: 24.1402 - lr: 6.2500e-07\n",
            "Epoch 121/128\n",
            "28/28 [==============================] - 1s 37ms/step - loss: 23.0017 - mae: 3.7212 - mse: 23.0017 - val_loss: 24.1693 - val_mae: 4.0625 - val_mse: 24.1693 - lr: 6.2500e-07\n",
            "Epoch 122/128\n",
            "28/28 [==============================] - 1s 37ms/step - loss: 22.9635 - mae: 3.7370 - mse: 22.9635 - val_loss: 24.1011 - val_mae: 4.0433 - val_mse: 24.1011 - lr: 6.2500e-07\n",
            "Epoch 123/128\n",
            "28/28 [==============================] - 1s 37ms/step - loss: 23.0052 - mae: 3.7252 - mse: 23.0052 - val_loss: 24.1072 - val_mae: 4.0479 - val_mse: 24.1072 - lr: 6.2500e-07\n",
            "Epoch 124/128\n",
            "28/28 [==============================] - 1s 37ms/step - loss: 22.9896 - mae: 3.7181 - mse: 22.9896 - val_loss: 24.1049 - val_mae: 4.0493 - val_mse: 24.1049 - lr: 6.2500e-07\n",
            "Epoch 125/128\n",
            "27/28 [===========================>..] - ETA: 0s - loss: 22.9560 - mae: 3.7233 - mse: 22.9560\n",
            "Epoch 125: ReduceLROnPlateau reducing learning rate to 3.12499992105586e-07.\n",
            "28/28 [==============================] - 1s 38ms/step - loss: 22.9825 - mae: 3.7226 - mse: 22.9825 - val_loss: 24.1258 - val_mae: 4.0569 - val_mse: 24.1258 - lr: 6.2500e-07\n",
            "Epoch 126/128\n",
            "28/28 [==============================] - 1s 37ms/step - loss: 22.9724 - mae: 3.7227 - mse: 22.9724 - val_loss: 24.1382 - val_mae: 4.0607 - val_mse: 24.1382 - lr: 3.1250e-07\n",
            "Epoch 127/128\n",
            "28/28 [==============================] - 1s 37ms/step - loss: 22.9745 - mae: 3.7322 - mse: 22.9745 - val_loss: 24.1253 - val_mae: 4.0580 - val_mse: 24.1253 - lr: 3.1250e-07\n"
          ]
        }
      ],
      "source": [
        "history = model.fit(X_train, y_train, epochs=128, batch_size=20, validation_data=[X_test, y_test], callbacks=[early_stopping, reduce_lr])"
      ]
    },
    {
      "cell_type": "code",
      "execution_count": null,
      "metadata": {
        "colab": {
          "base_uri": "https://localhost:8080/",
          "height": 455
        },
        "id": "mqtHlztX_p3u",
        "outputId": "a89f38ce-1186-40a5-def8-86e47b098f63"
      },
      "outputs": [
        {
          "data": {
            "image/png": "[encoded data removed]",
            "text/plain": [
              "<Figure size 640x480 with 1 Axes>"
            ]
          },
          "metadata": {},
          "output_type": "display_data"
        }
      ],
      "source": [
        "import matplotlib.pyplot as plt\n",
        "plt.plot(history.history['loss'], label='loss')\n",
        "plt.plot(history.history['val_loss'], label='val_loss')\n",
        "plt.ylim([0, 50])\n",
        "plt.xlabel('Epoch')\n",
        "plt.ylabel('Loss')\n",
        "plt.legend()\n",
        "plt.grid(True)\n",
        "plt.show()"
      ]
    },
    {
      "cell_type": "code",
      "execution_count": null,
      "metadata": {
        "colab": {
          "base_uri": "https://localhost:8080/"
        },
        "id": "sGukTJinajME",
        "outputId": "ef7a3e76-5e2e-4fce-a23e-cbf4807a0299"
      },
      "outputs": [
        {
          "name": "stdout",
          "output_type": "stream",
          "text": [
            "1/1 [==============================] - 0s 74ms/step\n"
          ]
        },
        {
          "data": {
            "text/plain": [
              "array([[57.62058]], dtype=float32)"
            ]
          },
          "execution_count": 162,
          "metadata": {},
          "output_type": "execute_result"
        }
      ],
      "source": [
        "fig = cv2.imread('45_52_unmasked.jpg')\n",
        "fig = np.array(fig[174:174+250, 174:174+250])\n",
        "fig = fig / 255\n",
        "test = np.array([fig])\n",
        "model.predict(test)"
      ]
    }
  ],
  "metadata": {
    "accelerator": "GPU",
    "colab": {
      "gpuType": "T4",
      "machine_shape": "hm",
      "provenance": [],
      "toc_visible": true
    },
    "kernelspec": {
      "display_name": "Python 3",
      "name": "python3"
    },
    "language_info": {
      "codemirror_mode": {
        "name": "ipython",
        "version": 3
      },
      "file_extension": ".py",
      "mimetype": "text/x-python",
      "name": "python",
      "nbconvert_exporter": "python",
      "pygments_lexer": "ipython3",
      "version": "3.9.6"
    }
  },
  "nbformat": 4,
  "nbformat_minor": 0
}
