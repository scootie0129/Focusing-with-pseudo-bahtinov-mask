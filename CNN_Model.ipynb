{
  "cells": [
    {
      "cell_type": "markdown",
      "metadata": {
        "id": "TgLQoozZozm5"
      },
      "source": [
        "# 데이터 증강"
      ]
    },
    {
      "cell_type": "code",
      "source": [
        "from google.colab import drive\n",
        "drive.mount('/content/drive')"
      ],
      "metadata": {
        "colab": {
          "base_uri": "https://localhost:8080/"
        },
        "id": "Rfa6DACIQ877",
        "outputId": "c64df655-cf02-4150-9a50-c7e3691f1b4f"
      },
      "execution_count": null,
      "outputs": [
        {
          "output_type": "stream",
          "name": "stdout",
          "text": [
            "Mounted at /content/drive\n"
          ]
        }
      ]
    },
    {
      "cell_type": "code",
      "execution_count": null,
      "metadata": {
        "colab": {
          "base_uri": "https://localhost:8080/"
        },
        "collapsed": true,
        "id": "3BEkL_W_-cMw",
        "outputId": "d6ceb7e7-c6a2-455f-d16c-649d64d28972"
      },
      "outputs": [
        {
          "output_type": "stream",
          "name": "stdout",
          "text": [
            "Archive:  /content/drive/MyDrive/real_data.zip\n",
            "   creating: content/data/\n",
            "   creating: content/data/3/\n",
            "  inflating: content/data/3/3_1_masked.JPG  \n",
            "  inflating: content/data/3/3_3_masked.JPG  \n",
            "  inflating: content/data/3/3_2_masked.JPG  \n",
            "   creating: content/data/.ipynb_checkpoints/\n",
            "   creating: content/data/2/\n",
            "  inflating: content/data/2/2_2_masked.JPG  \n",
            "  inflating: content/data/2/2_3_masked.JPG  \n",
            "  inflating: content/data/2/2_1_masked.JPG  \n",
            "   creating: content/data/1/\n",
            "  inflating: content/data/1/1_1_masked.JPG  \n",
            "   creating: content/data/1/.ipynb_checkpoints/\n",
            "  inflating: content/data/1/1_3_masked.JPG  \n",
            "  inflating: content/data/1/1_2_masked.JPG  \n",
            "   creating: content/data/4/\n",
            "  inflating: content/data/4/4_2_masked.JPG  \n",
            "   creating: content/data/4/.ipynb_checkpoints/\n",
            "  inflating: content/data/4/4_3_masked.JPG  \n",
            "  inflating: content/data/4/4_1_masked.JPG  \n",
            "   creating: content/data/0/\n",
            "  inflating: content/data/0/0_1_masked.JPG  \n",
            "  inflating: content/data/0/0_3_masked.JPG  \n",
            "  inflating: content/data/0/0_2_masked.JPG  \n",
            "   creating: content/data/-1/\n",
            "  inflating: content/data/-1/-1_2_masked.JPG  \n",
            "  inflating: content/data/-1/-1_3_masked.JPG  \n",
            "  inflating: content/data/-1/-1_1_masked.JPG  \n",
            "   creating: content/data/5/\n",
            "  inflating: content/data/5/5_2_masked.JPG  \n",
            "  inflating: content/data/5/5_3_masked.JPG  \n",
            "  inflating: content/data/5/5_1_masked.JPG  \n",
            "   creating: content/data/-2/\n",
            "  inflating: content/data/-2/-2_3_masked.JPG  \n",
            "  inflating: content/data/-2/-2_2_masked.JPG  \n"
          ]
        }
      ],
      "source": [
        "!unzip /content/drive/MyDrive/real_data.zip"
      ]
    },
    {
      "cell_type": "code",
      "execution_count": null,
      "metadata": {
        "id": "de7oCzqJ2BN2"
      },
      "outputs": [],
      "source": [
        "import os\n",
        "os.chdir('/content/content/data')"
      ]
    },
    {
      "cell_type": "code",
      "execution_count": null,
      "metadata": {
        "id": "iZH-ZwTC6TRp"
      },
      "outputs": [],
      "source": [
        "import os\n",
        "import cv2\n",
        "import numpy as np\n",
        "from tensorflow.keras.preprocessing.image import ImageDataGenerator\n",
        "\n",
        "n_images = 15"
      ]
    },
    {
      "cell_type": "code",
      "execution_count": null,
      "metadata": {
        "colab": {
          "base_uri": "https://localhost:8080/"
        },
        "id": "oeNAsKWU-bEG",
        "outputId": "0ca0d6fd-7e3c-4c07-96c9-de4aff84f936"
      },
      "outputs": [
        {
          "output_type": "stream",
          "name": "stdout",
          "text": [
            "5_1_masked.JPG (600, 600, 3)\n",
            "5_3_masked.JPG (600, 600, 3)\n",
            "5_2_masked.JPG (600, 600, 3)\n",
            "3_3_masked.JPG (600, 600, 3)\n",
            "3_2_masked.JPG (600, 600, 3)\n",
            "3_1_masked.JPG (600, 600, 3)\n",
            "-2_3_masked.JPG (600, 600, 3)\n",
            "-2_2_masked.JPG (600, 600, 3)\n",
            "0_1_masked.JPG (600, 600, 3)\n",
            "0_2_masked.JPG (600, 600, 3)\n",
            "0_3_masked.JPG (600, 600, 3)\n",
            "4_1_masked.JPG (600, 600, 3)\n",
            "4_3_masked.JPG (600, 600, 3)\n",
            "4_2_masked.JPG (600, 600, 3)\n",
            "2_1_masked.JPG (600, 600, 3)\n",
            "2_2_masked.JPG (600, 600, 3)\n",
            "2_3_masked.JPG (600, 600, 3)\n",
            "-1_3_masked.JPG (600, 600, 3)\n",
            "-1_2_masked.JPG (600, 600, 3)\n",
            "-1_1_masked.JPG (600, 600, 3)\n",
            "1_2_masked.JPG (600, 600, 3)\n",
            "1_3_masked.JPG (600, 600, 3)\n",
            "1_1_masked.JPG (600, 600, 3)\n"
          ]
        }
      ],
      "source": [
        "X = []\n",
        "y = []\n",
        "\n",
        "for label in os.listdir():\n",
        "  if '.' in label: continue\n",
        "  image_batch = []\n",
        "  for item in os.listdir(label):\n",
        "    if 'JPG' not in item.upper(): continue\n",
        "    fig = cv2.imread(label + '/' + item)\n",
        "    #fig = cv2.cvtColor(fig, cv2.COLOR_BGR2GRAY)\n",
        "    image_batch.append(fig.reshape(600, 600, 3))\n",
        "    print(item, fig.shape)\n",
        "  image_batch = np.array(image_batch)\n",
        "  data_generator = ImageDataGenerator(\n",
        "    horizontal_flip=False, vertical_flip=False, rotation_range=180,\n",
        "    fill_mode='constant', zoom_range=[0.75,1.25], brightness_range=(0.8,1.2),\n",
        "    channel_shift_range=125\n",
        "  )\n",
        "  data_generator.fit(image_batch)\n",
        "\n",
        "  data_gen_iter = data_generator.flow(image_batch)\n",
        "  X.append(image_batch)\n",
        "  y += [int(label)] * image_batch.shape[0]\n",
        "\n",
        "  for i in range(n_images):\n",
        "    aug_image_batch = next(data_gen_iter)\n",
        "    aug_image = aug_image_batch.reshape(-1, 600, 600, 3)\n",
        "    aug_image = aug_image.astype('int')\n",
        "    X.append(aug_image)\n",
        "    y += [int(label)] * aug_image.shape[0]"
      ]
    },
    {
      "cell_type": "code",
      "execution_count": null,
      "metadata": {
        "colab": {
          "base_uri": "https://localhost:8080/"
        },
        "id": "12MEisE4KRA0",
        "outputId": "c7bf31aa-2865-4ef7-a364-8e4691181565"
      },
      "outputs": [
        {
          "output_type": "execute_result",
          "data": {
            "text/plain": [
              "368"
            ]
          },
          "metadata": {},
          "execution_count": 6
        }
      ],
      "source": [
        "total = sum(item.shape[0] for item in X)\n",
        "total"
      ]
    },
    {
      "cell_type": "code",
      "execution_count": null,
      "metadata": {
        "id": "GWcHDOhwxK4u"
      },
      "outputs": [],
      "source": [
        "images = np.empty((total, 600, 600, 3))\n",
        "curr_idx = 0\n",
        "\n",
        "for i in range(len(X)):\n",
        "  images[curr_idx:curr_idx+X[i].shape[0]] = X[i]\n",
        "  curr_idx += X[i].shape[0]"
      ]
    },
    {
      "cell_type": "code",
      "execution_count": null,
      "metadata": {
        "colab": {
          "base_uri": "https://localhost:8080/"
        },
        "id": "M0pc4yVgQrnL",
        "outputId": "2f3852de-4ed8-4a18-c3dc-29ec2b56f188"
      },
      "outputs": [
        {
          "output_type": "execute_result",
          "data": {
            "text/plain": [
              "(368, 600, 600, 3)"
            ]
          },
          "metadata": {},
          "execution_count": 8
        }
      ],
      "source": [
        "X = images\n",
        "del images\n",
        "X.shape"
      ]
    },
    {
      "cell_type": "code",
      "execution_count": null,
      "metadata": {
        "colab": {
          "base_uri": "https://localhost:8080/"
        },
        "id": "fi6746O-V-_c",
        "outputId": "d281cd4c-86c2-49f9-eba1-44b65b3927a5"
      },
      "outputs": [
        {
          "output_type": "execute_result",
          "data": {
            "text/plain": [
              "0"
            ]
          },
          "metadata": {},
          "execution_count": 9
        }
      ],
      "source": [
        "import gc\n",
        "gc.collect()"
      ]
    },
    {
      "cell_type": "markdown",
      "metadata": {
        "id": "DiPVdMZG-bEE"
      },
      "source": [
        "# CNN 모델 구성"
      ]
    },
    {
      "cell_type": "code",
      "execution_count": null,
      "metadata": {
        "colab": {
          "base_uri": "https://localhost:8080/"
        },
        "id": "WPnosTA_-bEG",
        "outputId": "7a956695-fe8d-42b9-ac0e-62899c3402a8"
      },
      "outputs": [
        {
          "output_type": "stream",
          "name": "stdout",
          "text": [
            "(368, 600, 600, 3) (368,)\n"
          ]
        }
      ],
      "source": [
        "import numpy as np\n",
        "\n",
        "X = X/255\n",
        "y = np.array(y)\n",
        "print(X.shape, y.shape)"
      ]
    },
    {
      "cell_type": "code",
      "execution_count": null,
      "metadata": {
        "id": "x5mJZxyM-bEH"
      },
      "outputs": [],
      "source": [
        "import tensorflow as tf\n",
        "from tensorflow import keras\n",
        "from tensorflow.keras import layers"
      ]
    },
    {
      "cell_type": "code",
      "execution_count": null,
      "metadata": {
        "colab": {
          "base_uri": "https://localhost:8080/"
        },
        "id": "dDjOJsva-bEH",
        "outputId": "a4f4fd83-89f8-4c8f-a0f6-3a01aa6c6965"
      },
      "outputs": [
        {
          "output_type": "stream",
          "name": "stdout",
          "text": [
            "Model: \"sequential\"\n",
            "_________________________________________________________________\n",
            " Layer (type)                Output Shape              Param #   \n",
            "=================================================================\n",
            " conv2d (Conv2D)             (None, 598, 598, 32)      896       \n",
            "                                                                 \n",
            " batch_normalization (Batch  (None, 598, 598, 32)      128       \n",
            " Normalization)                                                  \n",
            "                                                                 \n",
            " activation (Activation)     (None, 598, 598, 32)      0         \n",
            "                                                                 \n",
            " max_pooling2d (MaxPooling2  (None, 299, 299, 32)      0         \n",
            " D)                                                              \n",
            "                                                                 \n",
            " conv2d_1 (Conv2D)           (None, 297, 297, 64)      18496     \n",
            "                                                                 \n",
            " batch_normalization_1 (Bat  (None, 297, 297, 64)      256       \n",
            " chNormalization)                                                \n",
            "                                                                 \n",
            " activation_1 (Activation)   (None, 297, 297, 64)      0         \n",
            "                                                                 \n",
            " max_pooling2d_1 (MaxPoolin  (None, 148, 148, 64)      0         \n",
            " g2D)                                                            \n",
            "                                                                 \n",
            " conv2d_2 (Conv2D)           (None, 146, 146, 128)     73856     \n",
            "                                                                 \n",
            " batch_normalization_2 (Bat  (None, 146, 146, 128)     512       \n",
            " chNormalization)                                                \n",
            "                                                                 \n",
            " activation_2 (Activation)   (None, 146, 146, 128)     0         \n",
            "                                                                 \n",
            " flatten (Flatten)           (None, 2728448)           0         \n",
            "                                                                 \n",
            " dense (Dense)               (None, 32)                87310368  \n",
            "                                                                 \n",
            " dense_1 (Dense)             (None, 8)                 264       \n",
            "                                                                 \n",
            " dense_2 (Dense)             (None, 1)                 9         \n",
            "                                                                 \n",
            "=================================================================\n",
            "Total params: 87404785 (333.42 MB)\n",
            "Trainable params: 87404337 (333.42 MB)\n",
            "Non-trainable params: 448 (1.75 KB)\n",
            "_________________________________________________________________\n"
          ]
        }
      ],
      "source": [
        "model = keras.Sequential([\n",
        "    layers.Conv2D(32, (3, 3), input_shape=X.shape[1:]),\n",
        "    layers.BatchNormalization(),\n",
        "    layers.Activation('relu'),\n",
        "    layers.MaxPooling2D((2, 2)),\n",
        "    # layers.Dropout(0.2),\n",
        "    layers.Conv2D(64, (3, 3)),\n",
        "    layers.BatchNormalization(),\n",
        "    layers.Activation('relu'),\n",
        "    layers.MaxPooling2D((2, 2)),\n",
        "    # layers.Dropout(0.2),\n",
        "    layers.Conv2D(128, (3, 3)),\n",
        "    layers.BatchNormalization(),\n",
        "    layers.Activation('relu'),\n",
        "    layers.Flatten(),\n",
        "    layers.Dense(32, activation='relu'),\n",
        "    layers.Dense(8, activation='relu'),\n",
        "    layers.Dense(1)\n",
        "])\n",
        "\n",
        "model.summary()"
      ]
    },
    {
      "cell_type": "code",
      "execution_count": null,
      "metadata": {
        "colab": {
          "base_uri": "https://localhost:8080/"
        },
        "id": "IIqmO2n_369h",
        "outputId": "90bb8d9a-3381-4df0-d7e1-b1552bf5b590"
      },
      "outputs": [
        {
          "output_type": "execute_result",
          "data": {
            "text/plain": [
              "20"
            ]
          },
          "metadata": {},
          "execution_count": 13
        }
      ],
      "source": [
        "import gc\n",
        "gc.collect()"
      ]
    },
    {
      "cell_type": "code",
      "execution_count": null,
      "metadata": {
        "id": "DLYgw0Fi3u0a"
      },
      "outputs": [],
      "source": [
        "np.save('X.npy', X)\n",
        "np.save('y.npy', y)"
      ]
    },
    {
      "cell_type": "code",
      "execution_count": null,
      "metadata": {
        "id": "RZ2MuoN1-bEH"
      },
      "outputs": [],
      "source": [
        "from keras.callbacks import EarlyStopping, ReduceLROnPlateau, ModelCheckpoint\n",
        "model_checkpoint = ModelCheckpoint('model.keras', monitor='val_loss', save_best_only=True)\n",
        "early_stopping = EarlyStopping(monitor='val_loss', patience=5, verbose=1)\n",
        "reduce_lr = ReduceLROnPlateau(monitor='val_loss', patience=3, factor=0.8, verbose=1)"
      ]
    },
    {
      "cell_type": "code",
      "execution_count": null,
      "metadata": {
        "id": "Nhx1oOgH-bEH"
      },
      "outputs": [],
      "source": [
        "model.compile(optimizer=tf.keras.optimizers.Adam(learning_rate=1e-6), loss='mse', metrics=['mae', 'mse'])"
      ]
    },
    {
      "cell_type": "code",
      "execution_count": null,
      "metadata": {
        "id": "rH-ToBkX-bEH"
      },
      "outputs": [],
      "source": [
        "from sklearn.model_selection import train_test_split\n",
        "X_train, X_test, y_train, y_test = train_test_split(X, y, test_size=0.2, random_state=42)"
      ]
    },
    {
      "cell_type": "code",
      "execution_count": null,
      "metadata": {
        "colab": {
          "base_uri": "https://localhost:8080/"
        },
        "id": "lab0-xvx-bEH",
        "outputId": "a2791f5b-e8b8-4909-f3d5-a0bfad99a400"
      },
      "outputs": [
        {
          "output_type": "stream",
          "name": "stdout",
          "text": [
            "Epoch 1/128\n",
            "15/15 [==============================] - 28s 1s/step - loss: 4.4655 - mae: 1.7045 - mse: 4.4655 - val_loss: 8.5565 - val_mae: 2.5008 - val_mse: 8.5565 - lr: 1.0000e-06\n",
            "Epoch 2/128\n",
            "15/15 [==============================] - 10s 667ms/step - loss: 2.7031 - mae: 1.3257 - mse: 2.7031 - val_loss: 8.0525 - val_mae: 2.4370 - val_mse: 8.0525 - lr: 1.0000e-06\n",
            "Epoch 3/128\n",
            "15/15 [==============================] - 10s 667ms/step - loss: 2.5739 - mae: 1.2542 - mse: 2.5739 - val_loss: 7.6190 - val_mae: 2.3786 - val_mse: 7.6190 - lr: 1.0000e-06\n",
            "Epoch 4/128\n",
            "15/15 [==============================] - 9s 648ms/step - loss: 2.0130 - mae: 1.0836 - mse: 2.0130 - val_loss: 6.8655 - val_mae: 2.2662 - val_mse: 6.8655 - lr: 1.0000e-06\n",
            "Epoch 5/128\n",
            "15/15 [==============================] - 10s 662ms/step - loss: 1.7160 - mae: 1.0019 - mse: 1.7160 - val_loss: 6.5282 - val_mae: 2.2092 - val_mse: 6.5282 - lr: 1.0000e-06\n",
            "Epoch 6/128\n",
            "15/15 [==============================] - 10s 672ms/step - loss: 1.6619 - mae: 1.0014 - mse: 1.6619 - val_loss: 6.0928 - val_mae: 2.1278 - val_mse: 6.0928 - lr: 1.0000e-06\n",
            "Epoch 7/128\n",
            "15/15 [==============================] - 10s 668ms/step - loss: 1.5831 - mae: 0.9298 - mse: 1.5831 - val_loss: 5.7782 - val_mae: 2.0588 - val_mse: 5.7782 - lr: 1.0000e-06\n",
            "Epoch 8/128\n",
            "15/15 [==============================] - 10s 654ms/step - loss: 1.3369 - mae: 0.8570 - mse: 1.3369 - val_loss: 5.3959 - val_mae: 1.9895 - val_mse: 5.3959 - lr: 1.0000e-06\n",
            "Epoch 9/128\n",
            "15/15 [==============================] - 5s 365ms/step - loss: 1.3292 - mae: 0.8669 - mse: 1.3292 - val_loss: 5.4635 - val_mae: 2.0009 - val_mse: 5.4635 - lr: 1.0000e-06\n",
            "Epoch 10/128\n",
            "15/15 [==============================] - 10s 667ms/step - loss: 1.3887 - mae: 0.8779 - mse: 1.3887 - val_loss: 4.9583 - val_mae: 1.9054 - val_mse: 4.9583 - lr: 1.0000e-06\n",
            "Epoch 11/128\n",
            "15/15 [==============================] - 10s 666ms/step - loss: 1.1606 - mae: 0.8259 - mse: 1.1606 - val_loss: 4.7534 - val_mae: 1.8540 - val_mse: 4.7534 - lr: 1.0000e-06\n",
            "Epoch 12/128\n",
            "15/15 [==============================] - 6s 368ms/step - loss: 0.9656 - mae: 0.7253 - mse: 0.9656 - val_loss: 4.9235 - val_mae: 1.9026 - val_mse: 4.9235 - lr: 1.0000e-06\n",
            "Epoch 13/128\n",
            "15/15 [==============================] - 10s 667ms/step - loss: 0.8563 - mae: 0.6607 - mse: 0.8563 - val_loss: 4.5550 - val_mae: 1.7879 - val_mse: 4.5550 - lr: 1.0000e-06\n",
            "Epoch 14/128\n",
            "15/15 [==============================] - 6s 369ms/step - loss: 0.9336 - mae: 0.7241 - mse: 0.9336 - val_loss: 4.8239 - val_mae: 1.7646 - val_mse: 4.8239 - lr: 1.0000e-06\n",
            "Epoch 15/128\n",
            "15/15 [==============================] - 10s 670ms/step - loss: 0.8237 - mae: 0.6528 - mse: 0.8237 - val_loss: 4.4611 - val_mae: 1.7220 - val_mse: 4.4611 - lr: 1.0000e-06\n",
            "Epoch 16/128\n",
            "15/15 [==============================] - 10s 667ms/step - loss: 0.6499 - mae: 0.5671 - mse: 0.6499 - val_loss: 4.3752 - val_mae: 1.6895 - val_mse: 4.3752 - lr: 1.0000e-06\n",
            "Epoch 17/128\n",
            "15/15 [==============================] - 6s 368ms/step - loss: 0.6501 - mae: 0.5730 - mse: 0.6501 - val_loss: 4.3760 - val_mae: 1.6829 - val_mse: 4.3760 - lr: 1.0000e-06\n",
            "Epoch 18/128\n",
            "15/15 [==============================] - 6s 369ms/step - loss: 0.6242 - mae: 0.5397 - mse: 0.6242 - val_loss: 4.6139 - val_mae: 1.6891 - val_mse: 4.6139 - lr: 1.0000e-06\n",
            "Epoch 19/128\n",
            "15/15 [==============================] - ETA: 0s - loss: 0.6085 - mae: 0.5662 - mse: 0.6085\n",
            "Epoch 19: ReduceLROnPlateau reducing learning rate to 7.999999979801942e-07.\n",
            "15/15 [==============================] - 5s 368ms/step - loss: 0.6085 - mae: 0.5662 - mse: 0.6085 - val_loss: 4.7156 - val_mae: 1.7075 - val_mse: 4.7156 - lr: 1.0000e-06\n",
            "Epoch 20/128\n",
            "15/15 [==============================] - 6s 371ms/step - loss: 0.6514 - mae: 0.5808 - mse: 0.6514 - val_loss: 4.4803 - val_mae: 1.6456 - val_mse: 4.4803 - lr: 8.0000e-07\n",
            "Epoch 21/128\n",
            "15/15 [==============================] - 10s 673ms/step - loss: 0.5055 - mae: 0.5143 - mse: 0.5055 - val_loss: 4.3658 - val_mae: 1.6290 - val_mse: 4.3658 - lr: 8.0000e-07\n",
            "Epoch 22/128\n",
            "15/15 [==============================] - 6s 370ms/step - loss: 0.4710 - mae: 0.4919 - mse: 0.4710 - val_loss: 4.4714 - val_mae: 1.6407 - val_mse: 4.4714 - lr: 8.0000e-07\n",
            "Epoch 23/128\n",
            "15/15 [==============================] - 10s 668ms/step - loss: 0.5348 - mae: 0.5303 - mse: 0.5348 - val_loss: 3.9213 - val_mae: 1.5258 - val_mse: 3.9213 - lr: 8.0000e-07\n",
            "Epoch 24/128\n",
            "15/15 [==============================] - 12s 807ms/step - loss: 0.5977 - mae: 0.5423 - mse: 0.5977 - val_loss: 3.7205 - val_mae: 1.4748 - val_mse: 3.7205 - lr: 8.0000e-07\n",
            "Epoch 25/128\n",
            "15/15 [==============================] - 6s 368ms/step - loss: 0.5064 - mae: 0.5086 - mse: 0.5064 - val_loss: 4.0721 - val_mae: 1.5454 - val_mse: 4.0721 - lr: 8.0000e-07\n",
            "Epoch 26/128\n",
            "15/15 [==============================] - 10s 689ms/step - loss: 0.5476 - mae: 0.5365 - mse: 0.5476 - val_loss: 3.1434 - val_mae: 1.3460 - val_mse: 3.1434 - lr: 8.0000e-07\n",
            "Epoch 27/128\n",
            "15/15 [==============================] - 12s 809ms/step - loss: 0.4708 - mae: 0.4955 - mse: 0.4708 - val_loss: 2.8423 - val_mae: 1.2766 - val_mse: 2.8423 - lr: 8.0000e-07\n",
            "Epoch 28/128\n",
            "15/15 [==============================] - 6s 369ms/step - loss: 0.4555 - mae: 0.4897 - mse: 0.4555 - val_loss: 2.9187 - val_mae: 1.2696 - val_mse: 2.9187 - lr: 8.0000e-07\n",
            "Epoch 29/128\n",
            "15/15 [==============================] - 10s 675ms/step - loss: 0.4345 - mae: 0.4574 - mse: 0.4345 - val_loss: 2.7154 - val_mae: 1.2496 - val_mse: 2.7154 - lr: 8.0000e-07\n",
            "Epoch 30/128\n",
            "15/15 [==============================] - 10s 673ms/step - loss: 0.4572 - mae: 0.4915 - mse: 0.4572 - val_loss: 2.5073 - val_mae: 1.2915 - val_mse: 2.5073 - lr: 8.0000e-07\n",
            "Epoch 31/128\n",
            "15/15 [==============================] - 10s 674ms/step - loss: 0.3660 - mae: 0.4450 - mse: 0.3660 - val_loss: 2.3841 - val_mae: 1.1975 - val_mse: 2.3841 - lr: 8.0000e-07\n",
            "Epoch 32/128\n",
            "15/15 [==============================] - 10s 671ms/step - loss: 0.3584 - mae: 0.4499 - mse: 0.3584 - val_loss: 2.2488 - val_mae: 1.1238 - val_mse: 2.2488 - lr: 8.0000e-07\n",
            "Epoch 33/128\n",
            "15/15 [==============================] - 10s 663ms/step - loss: 0.3794 - mae: 0.4332 - mse: 0.3794 - val_loss: 2.1380 - val_mae: 1.0510 - val_mse: 2.1380 - lr: 8.0000e-07\n",
            "Epoch 34/128\n",
            "15/15 [==============================] - 10s 671ms/step - loss: 0.3380 - mae: 0.4047 - mse: 0.3380 - val_loss: 1.9180 - val_mae: 1.1059 - val_mse: 1.9180 - lr: 8.0000e-07\n",
            "Epoch 35/128\n",
            "15/15 [==============================] - 10s 678ms/step - loss: 0.3460 - mae: 0.4195 - mse: 0.3460 - val_loss: 1.7725 - val_mae: 1.0125 - val_mse: 1.7725 - lr: 8.0000e-07\n",
            "Epoch 36/128\n",
            "15/15 [==============================] - 10s 677ms/step - loss: 0.2949 - mae: 0.3786 - mse: 0.2949 - val_loss: 1.7222 - val_mae: 1.0380 - val_mse: 1.7222 - lr: 8.0000e-07\n",
            "Epoch 37/128\n",
            "15/15 [==============================] - 6s 371ms/step - loss: 0.3182 - mae: 0.3901 - mse: 0.3182 - val_loss: 1.9197 - val_mae: 1.1474 - val_mse: 1.9197 - lr: 8.0000e-07\n",
            "Epoch 38/128\n",
            "15/15 [==============================] - 10s 675ms/step - loss: 0.2964 - mae: 0.3825 - mse: 0.2964 - val_loss: 1.5887 - val_mae: 1.0241 - val_mse: 1.5887 - lr: 8.0000e-07\n",
            "Epoch 39/128\n",
            "15/15 [==============================] - 10s 680ms/step - loss: 0.2817 - mae: 0.3876 - mse: 0.2817 - val_loss: 1.4469 - val_mae: 0.9790 - val_mse: 1.4469 - lr: 8.0000e-07\n",
            "Epoch 40/128\n",
            "15/15 [==============================] - 6s 368ms/step - loss: 0.2750 - mae: 0.3843 - mse: 0.2750 - val_loss: 1.4700 - val_mae: 0.9788 - val_mse: 1.4700 - lr: 8.0000e-07\n",
            "Epoch 41/128\n",
            "15/15 [==============================] - 12s 820ms/step - loss: 0.3164 - mae: 0.4139 - mse: 0.3164 - val_loss: 1.3481 - val_mae: 0.9497 - val_mse: 1.3481 - lr: 8.0000e-07\n",
            "Epoch 42/128\n",
            "15/15 [==============================] - 6s 368ms/step - loss: 0.2984 - mae: 0.4040 - mse: 0.2984 - val_loss: 1.3718 - val_mae: 0.9036 - val_mse: 1.3718 - lr: 8.0000e-07\n",
            "Epoch 43/128\n",
            "15/15 [==============================] - 10s 684ms/step - loss: 0.2894 - mae: 0.3814 - mse: 0.2894 - val_loss: 1.1572 - val_mae: 0.8357 - val_mse: 1.1572 - lr: 8.0000e-07\n",
            "Epoch 44/128\n",
            "15/15 [==============================] - 6s 369ms/step - loss: 0.2472 - mae: 0.3505 - mse: 0.2472 - val_loss: 1.1927 - val_mae: 0.8411 - val_mse: 1.1927 - lr: 8.0000e-07\n",
            "Epoch 45/128\n",
            "15/15 [==============================] - 10s 685ms/step - loss: 0.2358 - mae: 0.3423 - mse: 0.2358 - val_loss: 1.1419 - val_mae: 0.8222 - val_mse: 1.1419 - lr: 8.0000e-07\n",
            "Epoch 46/128\n",
            "15/15 [==============================] - 6s 371ms/step - loss: 0.2602 - mae: 0.3582 - mse: 0.2602 - val_loss: 1.2288 - val_mae: 0.8118 - val_mse: 1.2288 - lr: 8.0000e-07\n",
            "Epoch 47/128\n",
            "15/15 [==============================] - 10s 684ms/step - loss: 0.2920 - mae: 0.3850 - mse: 0.2920 - val_loss: 1.1129 - val_mae: 0.8376 - val_mse: 1.1129 - lr: 8.0000e-07\n",
            "Epoch 48/128\n",
            "15/15 [==============================] - 6s 368ms/step - loss: 0.3050 - mae: 0.4138 - mse: 0.3050 - val_loss: 1.1139 - val_mae: 0.8444 - val_mse: 1.1139 - lr: 8.0000e-07\n",
            "Epoch 49/128\n",
            "15/15 [==============================] - 10s 686ms/step - loss: 0.2257 - mae: 0.3458 - mse: 0.2257 - val_loss: 1.0665 - val_mae: 0.7906 - val_mse: 1.0665 - lr: 8.0000e-07\n",
            "Epoch 50/128\n",
            "15/15 [==============================] - 6s 370ms/step - loss: 0.2167 - mae: 0.3180 - mse: 0.2167 - val_loss: 1.1235 - val_mae: 0.8648 - val_mse: 1.1235 - lr: 8.0000e-07\n",
            "Epoch 51/128\n",
            "15/15 [==============================] - 6s 371ms/step - loss: 0.2732 - mae: 0.3822 - mse: 0.2732 - val_loss: 1.1068 - val_mae: 0.7906 - val_mse: 1.1068 - lr: 8.0000e-07\n",
            "Epoch 52/128\n",
            "15/15 [==============================] - ETA: 0s - loss: 0.2332 - mae: 0.3509 - mse: 0.2332\n",
            "Epoch 52: ReduceLROnPlateau reducing learning rate to 6.400000074791024e-07.\n",
            "15/15 [==============================] - 6s 371ms/step - loss: 0.2332 - mae: 0.3509 - mse: 0.2332 - val_loss: 1.1394 - val_mae: 0.7846 - val_mse: 1.1394 - lr: 8.0000e-07\n",
            "Epoch 53/128\n",
            "15/15 [==============================] - 6s 371ms/step - loss: 0.2484 - mae: 0.3531 - mse: 0.2484 - val_loss: 1.1264 - val_mae: 0.7960 - val_mse: 1.1264 - lr: 6.4000e-07\n",
            "Epoch 54/128\n",
            "15/15 [==============================] - 6s 371ms/step - loss: 0.1900 - mae: 0.3173 - mse: 0.1900 - val_loss: 1.1147 - val_mae: 0.7857 - val_mse: 1.1147 - lr: 6.4000e-07\n",
            "Epoch 54: early stopping\n"
          ]
        }
      ],
      "source": [
        "history = model.fit(X_train, y_train, epochs=128, batch_size=20, validation_data=[X_test, y_test], callbacks=[early_stopping, reduce_lr, model_checkpoint])"
      ]
    },
    {
      "cell_type": "code",
      "execution_count": null,
      "metadata": {
        "id": "DhnV5IQ9-bEH",
        "colab": {
          "base_uri": "https://localhost:8080/",
          "height": 263
        },
        "outputId": "fb739880-0418-4815-d08f-4932b60a23f3"
      },
      "outputs": [
        {
          "output_type": "display_data",
          "data": {
            "text/plain": [
              "<Figure size 640x480 with 1 Axes>"
            ],
            "image/png": "[encoded data removed]"
          },
          "metadata": {}
        }
      ],
      "source": [
        "import matplotlib.pyplot as plt\n",
        "plt.plot(history.history['loss'], label='loss')\n",
        "plt.plot(history.history['val_loss'], label='val_loss')\n",
        "plt.ylim([0, 10])\n",
        "plt.xlabel('Epoch')\n",
        "plt.ylabel('Loss')\n",
        "plt.legend()\n",
        "plt.grid(True)\n",
        "plt.show()"
      ]
    },
    {
      "cell_type": "code",
      "execution_count": null,
      "metadata": {
        "id": "chKZr6uBDb0j",
        "colab": {
          "base_uri": "https://localhost:8080/"
        },
        "outputId": "59821715-6f98-404d-b674-3bfa3caf33d0"
      },
      "outputs": [
        {
          "output_type": "stream",
          "name": "stdout",
          "text": [
            "1/1 [==============================] - 2s 2s/step\n",
            "Predicted value: [ 1.8  4.2  4.1 -0.7  2.8  4.   2.9  0.8  0.5  1.7]\n",
            "Actual value: [ 0  5  5 -1  3  4  3 -2  0 -2]\n"
          ]
        }
      ],
      "source": [
        "print(f'Predicted value: {np.round(model.predict(X_test[:10]).reshape(-1), 1)}')\n",
        "print(f'Actual value: {y_test[:10]}')"
      ]
    },
    {
      "cell_type": "code",
      "execution_count": null,
      "metadata": {
        "id": "_4ZMXKGt-iaD",
        "colab": {
          "base_uri": "https://localhost:8080/",
          "height": 364
        },
        "outputId": "b5be8320-c841-44d6-e6d7-ec9ce3ea8696"
      },
      "outputs": [
        {
          "output_type": "execute_result",
          "data": {
            "text/plain": [
              "<matplotlib.image.AxesImage at 0x790d017db490>"
            ]
          },
          "metadata": {},
          "execution_count": 21
        },
        {
          "output_type": "display_data",
          "data": {
            "text/plain": [
              "<Figure size 640x480 with 1 Axes>"
            ],
            "image/png": "[encoded data removed]"
          },
          "metadata": {}
        }
      ],
      "source": [
        "plt.imshow(X[6])"
      ]
    },
    {
      "cell_type": "code",
      "execution_count": null,
      "metadata": {
        "id": "e4eWJ1_VUifa",
        "colab": {
          "base_uri": "https://localhost:8080/"
        },
        "outputId": "20cd5181-9bac-4095-e2d5-9f8f28a93c0e"
      },
      "outputs": [
        {
          "output_type": "stream",
          "name": "stdout",
          "text": [
            "1/1 [==============================] - 1s 590ms/step\n"
          ]
        },
        {
          "output_type": "execute_result",
          "data": {
            "text/plain": [
              "array([[1.6721928]], dtype=float32)"
            ]
          },
          "metadata": {},
          "execution_count": 24
        }
      ],
      "source": [
        "import tensorflow as tf\n",
        "import cv2\n",
        "import numpy as np\n",
        "\n",
        "model = tf.keras.models.load_model('/content/content/data/model.keras')\n",
        "\n",
        "fig = cv2.imread('/content/content/data/2/2_3_masked.JPG')\n",
        "fig = fig/255\n",
        "model.predict(np.array([fig]))"
      ]
    },
    {
      "cell_type": "code",
      "source": [
        "!cp /content/content/data/model.keras /content/drive/MyDrive"
      ],
      "metadata": {
        "id": "i_QT9vWJVtDt"
      },
      "execution_count": null,
      "outputs": []
    }
  ],
  "metadata": {
    "accelerator": "GPU",
    "colab": {
      "gpuType": "T4",
      "provenance": [],
      "collapsed_sections": [
        "TgLQoozZozm5"
      ],
      "machine_shape": "hm"
    },
    "kernelspec": {
      "display_name": "Python 3",
      "name": "python3"
    },
    "language_info": {
      "name": "python"
    }
  },
  "nbformat": 4,
  "nbformat_minor": 0
}