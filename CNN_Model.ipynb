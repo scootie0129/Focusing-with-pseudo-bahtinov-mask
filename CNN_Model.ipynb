{
  "cells": [
    {
      "cell_type": "markdown",
      "metadata": {
        "id": "TgLQoozZozm5"
      },
      "source": [
        "# 데이터 증강"
      ]
    },
    {
      "cell_type": "code",
      "execution_count": 3,
      "metadata": {
        "colab": {
          "base_uri": "https://localhost:8080/"
        },
        "collapsed": true,
        "id": "3BEkL_W_-cMw",
        "outputId": "6078eac5-7f92-4e69-d171-9dbb1e0241a6"
      },
      "outputs": [
        {
          "output_type": "stream",
          "name": "stdout",
          "text": [
            "Archive:  real_data.zip\n",
            "   creating: content/data/\n",
            "   creating: content/data/3/\n",
            "  inflating: content/data/3/3_1_masked.JPG  \n",
            "  inflating: content/data/3/3_3_masked.JPG  \n",
            "  inflating: content/data/3/3_2_masked.JPG  \n",
            "   creating: content/data/.ipynb_checkpoints/\n",
            "   creating: content/data/2/\n",
            "  inflating: content/data/2/2_2_masked.JPG  \n",
            "  inflating: content/data/2/2_3_masked.JPG  \n",
            "  inflating: content/data/2/2_1_masked.JPG  \n",
            "   creating: content/data/1/\n",
            "  inflating: content/data/1/1_1_masked.JPG  \n",
            "   creating: content/data/1/.ipynb_checkpoints/\n",
            "  inflating: content/data/1/1_3_masked.JPG  \n",
            "  inflating: content/data/1/1_2_masked.JPG  \n",
            "   creating: content/data/4/\n",
            "  inflating: content/data/4/4_2_masked.JPG  \n",
            "   creating: content/data/4/.ipynb_checkpoints/\n",
            "  inflating: content/data/4/4_3_masked.JPG  \n",
            "  inflating: content/data/4/4_1_masked.JPG  \n",
            "   creating: content/data/0/\n",
            "  inflating: content/data/0/0_1_masked.JPG  \n",
            "  inflating: content/data/0/0_3_masked.JPG  \n",
            "  inflating: content/data/0/0_2_masked.JPG  \n",
            "   creating: content/data/-1/\n",
            "  inflating: content/data/-1/-1_2_masked.JPG  \n",
            "  inflating: content/data/-1/-1_3_masked.JPG  \n",
            "  inflating: content/data/-1/-1_1_masked.JPG  \n",
            "   creating: content/data/5/\n",
            "  inflating: content/data/5/5_2_masked.JPG  \n",
            "  inflating: content/data/5/5_3_masked.JPG  \n",
            "  inflating: content/data/5/5_1_masked.JPG  \n",
            "   creating: content/data/-2/\n",
            "  inflating: content/data/-2/-2_3_masked.JPG  \n",
            "  inflating: content/data/-2/-2_2_masked.JPG  \n"
          ]
        }
      ],
      "source": [
        "!unzip real_data.zip"
      ]
    },
    {
      "cell_type": "code",
      "execution_count": 4,
      "metadata": {
        "id": "de7oCzqJ2BN2"
      },
      "outputs": [],
      "source": [
        "import os\n",
        "os.chdir('content/data')"
      ]
    },
    {
      "cell_type": "code",
      "execution_count": 5,
      "metadata": {
        "id": "iZH-ZwTC6TRp"
      },
      "outputs": [],
      "source": [
        "import os\n",
        "import cv2\n",
        "import numpy as np\n",
        "from tensorflow.keras.preprocessing.image import ImageDataGenerator\n",
        "\n",
        "n_images = 15"
      ]
    },
    {
      "cell_type": "code",
      "execution_count": 6,
      "metadata": {
        "colab": {
          "base_uri": "https://localhost:8080/"
        },
        "id": "oeNAsKWU-bEG",
        "outputId": "dded0e6a-faaa-4d75-d4ab-9097fe264f65"
      },
      "outputs": [
        {
          "output_type": "stream",
          "name": "stdout",
          "text": [
            "4_1_masked.JPG (600, 600, 3)\n",
            "4_3_masked.JPG (600, 600, 3)\n",
            "4_2_masked.JPG (600, 600, 3)\n",
            "5_3_masked.JPG (600, 600, 3)\n",
            "5_2_masked.JPG (600, 600, 3)\n",
            "5_1_masked.JPG (600, 600, 3)\n",
            "2_3_masked.JPG (600, 600, 3)\n",
            "2_2_masked.JPG (600, 600, 3)\n",
            "2_1_masked.JPG (600, 600, 3)\n",
            "-2_3_masked.JPG (600, 600, 3)\n",
            "-2_2_masked.JPG (600, 600, 3)\n",
            "1_1_masked.JPG (600, 600, 3)\n",
            "1_2_masked.JPG (600, 600, 3)\n",
            "1_3_masked.JPG (600, 600, 3)\n",
            "0_3_masked.JPG (600, 600, 3)\n",
            "0_1_masked.JPG (600, 600, 3)\n",
            "0_2_masked.JPG (600, 600, 3)\n",
            "-1_3_masked.JPG (600, 600, 3)\n",
            "-1_1_masked.JPG (600, 600, 3)\n",
            "-1_2_masked.JPG (600, 600, 3)\n",
            "3_2_masked.JPG (600, 600, 3)\n",
            "3_1_masked.JPG (600, 600, 3)\n",
            "3_3_masked.JPG (600, 600, 3)\n"
          ]
        }
      ],
      "source": [
        "X = []\n",
        "y = []\n",
        "\n",
        "for label in os.listdir():\n",
        "  if '.' in label: continue\n",
        "  image_batch = []\n",
        "  for item in os.listdir(label):\n",
        "    if 'JPG' not in item.upper(): continue\n",
        "    fig = cv2.imread(label + '/' + item)\n",
        "    image_batch.append(fig)\n",
        "    print(item, fig.shape)\n",
        "  image_batch = np.array(image_batch)\n",
        "  data_generator = ImageDataGenerator(\n",
        "    horizontal_flip=False, vertical_flip=False, rotation_range=180,\n",
        "    fill_mode='constant', zoom_range=[0.5,1.5], brightness_range=(0.8,1.2),\n",
        "    channel_shift_range=125\n",
        "  )\n",
        "  data_generator.fit(image_batch)\n",
        "\n",
        "  data_gen_iter = data_generator.flow(image_batch)\n",
        "  X.append(image_batch)\n",
        "  y += [int(label)] * image_batch.shape[0]\n",
        "\n",
        "  for i in range(n_images):\n",
        "    aug_image_batch = next(data_gen_iter)\n",
        "    aug_image = aug_image_batch.reshape(-1, 600, 600, 3)\n",
        "    aug_image = aug_image.astype('int')\n",
        "    X.append(aug_image)\n",
        "    y += [int(label)] * aug_image.shape[0]"
      ]
    },
    {
      "cell_type": "code",
      "execution_count": 7,
      "metadata": {
        "colab": {
          "base_uri": "https://localhost:8080/"
        },
        "id": "12MEisE4KRA0",
        "outputId": "7b7fc4b2-137b-4705-8454-9c6876f9c6c2"
      },
      "outputs": [
        {
          "output_type": "execute_result",
          "data": {
            "text/plain": [
              "368"
            ]
          },
          "metadata": {},
          "execution_count": 7
        }
      ],
      "source": [
        "total = sum(item.shape[0] for item in X)\n",
        "total"
      ]
    },
    {
      "cell_type": "code",
      "execution_count": 8,
      "metadata": {
        "id": "GWcHDOhwxK4u"
      },
      "outputs": [],
      "source": [
        "images = np.empty((total, 600, 600, 3))\n",
        "curr_idx = 0\n",
        "\n",
        "for i in range(len(X)):\n",
        "  images[curr_idx:curr_idx+X[i].shape[0]] = X[i]\n",
        "  curr_idx += X[i].shape[0]"
      ]
    },
    {
      "cell_type": "code",
      "execution_count": 9,
      "metadata": {
        "colab": {
          "base_uri": "https://localhost:8080/"
        },
        "id": "M0pc4yVgQrnL",
        "outputId": "b6c81e6d-c0a2-415e-8281-8ca28fb99efe"
      },
      "outputs": [
        {
          "output_type": "execute_result",
          "data": {
            "text/plain": [
              "(368, 600, 600, 3)"
            ]
          },
          "metadata": {},
          "execution_count": 9
        }
      ],
      "source": [
        "X = images\n",
        "del images\n",
        "X.shape"
      ]
    },
    {
      "cell_type": "code",
      "execution_count": 10,
      "metadata": {
        "colab": {
          "base_uri": "https://localhost:8080/"
        },
        "id": "fi6746O-V-_c",
        "outputId": "2e3df164-fa66-47a6-fa4a-387410c8356d"
      },
      "outputs": [
        {
          "output_type": "execute_result",
          "data": {
            "text/plain": [
              "0"
            ]
          },
          "metadata": {},
          "execution_count": 10
        }
      ],
      "source": [
        "import gc\n",
        "gc.collect()"
      ]
    },
    {
      "cell_type": "markdown",
      "metadata": {
        "id": "DiPVdMZG-bEE"
      },
      "source": [
        "# CNN 모델 구성"
      ]
    },
    {
      "cell_type": "markdown",
      "metadata": {
        "id": "RA4tHfMA-bEF"
      },
      "source": [
        "## 시뮬레이션 데이터에 대한 CNN 모델 구성"
      ]
    },
    {
      "cell_type": "markdown",
      "metadata": {
        "id": "5MEqY5Lm-bEF"
      },
      "source": [
        "시뮬레이션 데이터 불러오기"
      ]
    },
    {
      "cell_type": "code",
      "execution_count": 11,
      "metadata": {
        "colab": {
          "base_uri": "https://localhost:8080/"
        },
        "id": "WPnosTA_-bEG",
        "outputId": "2a34ce54-0d31-4056-c8f1-d9694ed209b9"
      },
      "outputs": [
        {
          "output_type": "stream",
          "name": "stdout",
          "text": [
            "(368, 600, 600, 3) (368,)\n"
          ]
        }
      ],
      "source": [
        "import numpy as np\n",
        "\n",
        "X = X/255\n",
        "y = np.array(y)\n",
        "print(X.shape, y.shape)"
      ]
    },
    {
      "cell_type": "code",
      "execution_count": 1,
      "metadata": {
        "id": "x5mJZxyM-bEH"
      },
      "outputs": [],
      "source": [
        "import tensorflow as tf\n",
        "from tensorflow import keras\n",
        "from tensorflow.keras import layers"
      ]
    },
    {
      "cell_type": "code",
      "execution_count": 18,
      "metadata": {
        "colab": {
          "base_uri": "https://localhost:8080/"
        },
        "id": "dDjOJsva-bEH",
        "outputId": "4bd16161-c526-4fda-d039-0a5c8cd2d83e"
      },
      "outputs": [
        {
          "output_type": "stream",
          "name": "stdout",
          "text": [
            "Model: \"sequential_1\"\n",
            "_________________________________________________________________\n",
            " Layer (type)                Output Shape              Param #   \n",
            "=================================================================\n",
            " conv2d_3 (Conv2D)           (None, 598, 598, 32)      896       \n",
            "                                                                 \n",
            " batch_normalization_3 (Bat  (None, 598, 598, 32)      128       \n",
            " chNormalization)                                                \n",
            "                                                                 \n",
            " activation_3 (Activation)   (None, 598, 598, 32)      0         \n",
            "                                                                 \n",
            " max_pooling2d_2 (MaxPoolin  (None, 299, 299, 32)      0         \n",
            " g2D)                                                            \n",
            "                                                                 \n",
            " conv2d_4 (Conv2D)           (None, 297, 297, 64)      18496     \n",
            "                                                                 \n",
            " batch_normalization_4 (Bat  (None, 297, 297, 64)      256       \n",
            " chNormalization)                                                \n",
            "                                                                 \n",
            " activation_4 (Activation)   (None, 297, 297, 64)      0         \n",
            "                                                                 \n",
            " max_pooling2d_3 (MaxPoolin  (None, 148, 148, 64)      0         \n",
            " g2D)                                                            \n",
            "                                                                 \n",
            " conv2d_5 (Conv2D)           (None, 146, 146, 64)      36928     \n",
            "                                                                 \n",
            " batch_normalization_5 (Bat  (None, 146, 146, 64)      256       \n",
            " chNormalization)                                                \n",
            "                                                                 \n",
            " activation_5 (Activation)   (None, 146, 146, 64)      0         \n",
            "                                                                 \n",
            " flatten_1 (Flatten)         (None, 1364224)           0         \n",
            "                                                                 \n",
            " dense_3 (Dense)             (None, 32)                43655200  \n",
            "                                                                 \n",
            " dense_4 (Dense)             (None, 8)                 264       \n",
            "                                                                 \n",
            " dense_5 (Dense)             (None, 1)                 9         \n",
            "                                                                 \n",
            "=================================================================\n",
            "Total params: 43712433 (166.75 MB)\n",
            "Trainable params: 43712113 (166.75 MB)\n",
            "Non-trainable params: 320 (1.25 KB)\n",
            "_________________________________________________________________\n"
          ]
        }
      ],
      "source": [
        "model = keras.Sequential([\n",
        "    layers.Conv2D(32, (3, 3), input_shape=X.shape[1:]),\n",
        "    layers.BatchNormalization(),\n",
        "    layers.Activation('relu'),\n",
        "    layers.MaxPooling2D((2, 2)),\n",
        "    # layers.Dropout(0.2),\n",
        "    layers.Conv2D(64, (3, 3)),\n",
        "    layers.BatchNormalization(),\n",
        "    layers.Activation('relu'),\n",
        "    layers.MaxPooling2D((2, 2)),\n",
        "    # layers.Dropout(0.2),\n",
        "    layers.Conv2D(64, (3, 3)),\n",
        "    layers.BatchNormalization(),\n",
        "    layers.Activation('relu'),\n",
        "    layers.Flatten(),\n",
        "    layers.Dense(32, activation='relu'),\n",
        "    layers.Dense(8, activation='relu'),\n",
        "    layers.Dense(1)\n",
        "])\n",
        "\n",
        "model.summary()"
      ]
    },
    {
      "cell_type": "code",
      "execution_count": 19,
      "metadata": {
        "colab": {
          "base_uri": "https://localhost:8080/"
        },
        "id": "IIqmO2n_369h",
        "outputId": "2f745443-7b1e-4b5d-b996-dafb37937836"
      },
      "outputs": [
        {
          "output_type": "execute_result",
          "data": {
            "text/plain": [
              "1816"
            ]
          },
          "metadata": {},
          "execution_count": 19
        }
      ],
      "source": [
        "import gc\n",
        "gc.collect()"
      ]
    },
    {
      "cell_type": "code",
      "execution_count": 34,
      "metadata": {
        "id": "DLYgw0Fi3u0a"
      },
      "outputs": [],
      "source": [
        "np.save('X.npy', X)\n",
        "np.save('y.npy', y)"
      ]
    },
    {
      "cell_type": "code",
      "execution_count": 20,
      "metadata": {
        "id": "RZ2MuoN1-bEH"
      },
      "outputs": [],
      "source": [
        "from keras.callbacks import EarlyStopping, ReduceLROnPlateau, ModelCheckpoint\n",
        "model_checkpoint = ModelCheckpoint('model.h5', monitor='val_loss', save_best_only=True)\n",
        "early_stopping = EarlyStopping(monitor='val_loss', patience=5, verbose=1)\n",
        "reduce_lr = ReduceLROnPlateau(monitor='val_loss', patience=3, factor=0.8, verbose=1)"
      ]
    },
    {
      "cell_type": "code",
      "execution_count": 21,
      "metadata": {
        "id": "Nhx1oOgH-bEH"
      },
      "outputs": [],
      "source": [
        "model.compile(optimizer=tf.keras.optimizers.RMSprop(learning_rate=1e-6), loss='mse', metrics=['mae', 'mse'])"
      ]
    },
    {
      "cell_type": "code",
      "execution_count": 22,
      "metadata": {
        "id": "rH-ToBkX-bEH"
      },
      "outputs": [],
      "source": [
        "from sklearn.model_selection import train_test_split\n",
        "X_train, X_test, y_train, y_test = train_test_split(X, y, test_size=0.2, random_state=42)"
      ]
    },
    {
      "cell_type": "code",
      "execution_count": 23,
      "metadata": {
        "colab": {
          "base_uri": "https://localhost:8080/"
        },
        "id": "lab0-xvx-bEH",
        "outputId": "af2e4aa2-9b33-4773-cb55-82745e196ad6"
      },
      "outputs": [
        {
          "output_type": "stream",
          "name": "stdout",
          "text": [
            "Epoch 1/128\n",
            "15/15 [==============================] - 8s 460ms/step - loss: 5.3483 - mae: 1.9244 - mse: 5.3483 - val_loss: 8.9589 - val_mae: 2.4342 - val_mse: 8.9589 - lr: 1.0000e-06\n",
            "Epoch 2/128\n",
            "15/15 [==============================] - 6s 393ms/step - loss: 4.0694 - mae: 1.6849 - mse: 4.0694 - val_loss: 8.4011 - val_mae: 2.3861 - val_mse: 8.4011 - lr: 1.0000e-06\n",
            "Epoch 3/128\n",
            "15/15 [==============================] - 5s 315ms/step - loss: 3.0050 - mae: 1.3960 - mse: 3.0050 - val_loss: 8.4040 - val_mae: 2.3836 - val_mse: 8.4040 - lr: 1.0000e-06\n",
            "Epoch 4/128\n",
            "15/15 [==============================] - 6s 389ms/step - loss: 2.6175 - mae: 1.3024 - mse: 2.6175 - val_loss: 7.2667 - val_mae: 2.2732 - val_mse: 7.2667 - lr: 1.0000e-06\n",
            "Epoch 5/128\n",
            "15/15 [==============================] - 6s 389ms/step - loss: 2.3761 - mae: 1.1994 - mse: 2.3761 - val_loss: 6.3289 - val_mae: 2.1600 - val_mse: 6.3289 - lr: 1.0000e-06\n",
            "Epoch 6/128\n",
            "15/15 [==============================] - 5s 318ms/step - loss: 2.4605 - mae: 1.2291 - mse: 2.4605 - val_loss: 6.8136 - val_mae: 2.2191 - val_mse: 6.8136 - lr: 1.0000e-06\n",
            "Epoch 7/128\n",
            "15/15 [==============================] - 5s 320ms/step - loss: 1.9496 - mae: 1.0810 - mse: 1.9496 - val_loss: 6.4408 - val_mae: 2.1732 - val_mse: 6.4408 - lr: 1.0000e-06\n",
            "Epoch 8/128\n",
            "15/15 [==============================] - 6s 388ms/step - loss: 1.6724 - mae: 0.9973 - mse: 1.6724 - val_loss: 5.6811 - val_mae: 2.0595 - val_mse: 5.6811 - lr: 1.0000e-06\n",
            "Epoch 9/128\n",
            "15/15 [==============================] - 5s 318ms/step - loss: 1.7907 - mae: 1.0262 - mse: 1.7907 - val_loss: 5.8481 - val_mae: 2.0809 - val_mse: 5.8481 - lr: 1.0000e-06\n",
            "Epoch 10/128\n",
            "15/15 [==============================] - 6s 383ms/step - loss: 1.8642 - mae: 1.0740 - mse: 1.8642 - val_loss: 5.5803 - val_mae: 2.0419 - val_mse: 5.5803 - lr: 1.0000e-06\n",
            "Epoch 11/128\n",
            "15/15 [==============================] - 5s 317ms/step - loss: 1.6151 - mae: 0.9667 - mse: 1.6151 - val_loss: 5.8511 - val_mae: 2.0749 - val_mse: 5.8511 - lr: 1.0000e-06\n",
            "Epoch 12/128\n",
            "15/15 [==============================] - 6s 384ms/step - loss: 1.4588 - mae: 0.9395 - mse: 1.4588 - val_loss: 4.7390 - val_mae: 1.9044 - val_mse: 4.7390 - lr: 1.0000e-06\n",
            "Epoch 13/128\n",
            "15/15 [==============================] - 5s 316ms/step - loss: 1.4113 - mae: 0.9273 - mse: 1.4113 - val_loss: 5.0724 - val_mae: 1.9712 - val_mse: 5.0724 - lr: 1.0000e-06\n",
            "Epoch 14/128\n",
            "15/15 [==============================] - 6s 384ms/step - loss: 1.4502 - mae: 0.8874 - mse: 1.4502 - val_loss: 4.5636 - val_mae: 1.8794 - val_mse: 4.5636 - lr: 1.0000e-06\n",
            "Epoch 15/128\n",
            "15/15 [==============================] - 5s 316ms/step - loss: 1.1341 - mae: 0.8019 - mse: 1.1341 - val_loss: 4.6131 - val_mae: 1.8541 - val_mse: 4.6131 - lr: 1.0000e-06\n",
            "Epoch 16/128\n",
            "15/15 [==============================] - 6s 384ms/step - loss: 1.1411 - mae: 0.7989 - mse: 1.1411 - val_loss: 4.3448 - val_mae: 1.8048 - val_mse: 4.3448 - lr: 1.0000e-06\n",
            "Epoch 17/128\n",
            "15/15 [==============================] - 5s 316ms/step - loss: 1.1660 - mae: 0.8245 - mse: 1.1660 - val_loss: 4.9907 - val_mae: 1.8678 - val_mse: 4.9907 - lr: 1.0000e-06\n",
            "Epoch 18/128\n",
            "15/15 [==============================] - 5s 316ms/step - loss: 1.0913 - mae: 0.8013 - mse: 1.0913 - val_loss: 4.3622 - val_mae: 1.8037 - val_mse: 4.3622 - lr: 1.0000e-06\n",
            "Epoch 19/128\n",
            "15/15 [==============================] - 6s 382ms/step - loss: 0.9798 - mae: 0.7508 - mse: 0.9798 - val_loss: 4.2135 - val_mae: 1.7378 - val_mse: 4.2135 - lr: 1.0000e-06\n",
            "Epoch 20/128\n",
            "15/15 [==============================] - 6s 384ms/step - loss: 1.1222 - mae: 0.8144 - mse: 1.1222 - val_loss: 3.7892 - val_mae: 1.6319 - val_mse: 3.7892 - lr: 1.0000e-06\n",
            "Epoch 21/128\n",
            "15/15 [==============================] - 5s 317ms/step - loss: 0.8944 - mae: 0.7115 - mse: 0.8944 - val_loss: 3.7942 - val_mae: 1.6175 - val_mse: 3.7942 - lr: 1.0000e-06\n",
            "Epoch 22/128\n",
            "15/15 [==============================] - 5s 317ms/step - loss: 1.0116 - mae: 0.7635 - mse: 1.0116 - val_loss: 4.3321 - val_mae: 1.6694 - val_mse: 4.3321 - lr: 1.0000e-06\n",
            "Epoch 23/128\n",
            "15/15 [==============================] - 6s 386ms/step - loss: 0.8195 - mae: 0.6668 - mse: 0.8195 - val_loss: 3.2710 - val_mae: 1.5150 - val_mse: 3.2710 - lr: 1.0000e-06\n",
            "Epoch 24/128\n",
            "15/15 [==============================] - 5s 317ms/step - loss: 1.0220 - mae: 0.7747 - mse: 1.0220 - val_loss: 3.4823 - val_mae: 1.5040 - val_mse: 3.4823 - lr: 1.0000e-06\n",
            "Epoch 25/128\n",
            "15/15 [==============================] - 5s 320ms/step - loss: 0.7901 - mae: 0.6662 - mse: 0.7901 - val_loss: 3.9820 - val_mae: 1.5660 - val_mse: 3.9820 - lr: 1.0000e-06\n",
            "Epoch 26/128\n",
            "15/15 [==============================] - ETA: 0s - loss: 1.2441 - mae: 0.8287 - mse: 1.2441\n",
            "Epoch 26: ReduceLROnPlateau reducing learning rate to 7.999999979801942e-07.\n",
            "15/15 [==============================] - 5s 318ms/step - loss: 1.2441 - mae: 0.8287 - mse: 1.2441 - val_loss: 3.4569 - val_mae: 1.4733 - val_mse: 3.4569 - lr: 1.0000e-06\n",
            "Epoch 27/128\n",
            "15/15 [==============================] - 5s 318ms/step - loss: 0.6663 - mae: 0.6155 - mse: 0.6663 - val_loss: 3.5808 - val_mae: 1.4735 - val_mse: 3.5808 - lr: 8.0000e-07\n",
            "Epoch 28/128\n",
            "15/15 [==============================] - 6s 384ms/step - loss: 0.6984 - mae: 0.6326 - mse: 0.6984 - val_loss: 3.0568 - val_mae: 1.4057 - val_mse: 3.0568 - lr: 8.0000e-07\n",
            "Epoch 29/128\n",
            "15/15 [==============================] - 6s 384ms/step - loss: 0.6862 - mae: 0.6162 - mse: 0.6862 - val_loss: 2.9314 - val_mae: 1.3861 - val_mse: 2.9314 - lr: 8.0000e-07\n",
            "Epoch 30/128\n",
            "15/15 [==============================] - 5s 317ms/step - loss: 0.6215 - mae: 0.5794 - mse: 0.6215 - val_loss: 4.4153 - val_mae: 1.6116 - val_mse: 4.4153 - lr: 8.0000e-07\n",
            "Epoch 31/128\n",
            "15/15 [==============================] - 6s 383ms/step - loss: 0.6471 - mae: 0.6016 - mse: 0.6471 - val_loss: 2.7237 - val_mae: 1.2931 - val_mse: 2.7237 - lr: 8.0000e-07\n",
            "Epoch 32/128\n",
            "15/15 [==============================] - 5s 316ms/step - loss: 0.6823 - mae: 0.6267 - mse: 0.6823 - val_loss: 3.8309 - val_mae: 1.4599 - val_mse: 3.8309 - lr: 8.0000e-07\n",
            "Epoch 33/128\n",
            "15/15 [==============================] - 5s 316ms/step - loss: 0.5242 - mae: 0.5394 - mse: 0.5242 - val_loss: 4.6828 - val_mae: 1.6592 - val_mse: 4.6828 - lr: 8.0000e-07\n",
            "Epoch 34/128\n",
            "15/15 [==============================] - ETA: 0s - loss: 0.6729 - mae: 0.6065 - mse: 0.6729\n",
            "Epoch 34: ReduceLROnPlateau reducing learning rate to 6.400000074791024e-07.\n",
            "15/15 [==============================] - 5s 316ms/step - loss: 0.6729 - mae: 0.6065 - mse: 0.6729 - val_loss: 4.4921 - val_mae: 1.6104 - val_mse: 4.4921 - lr: 8.0000e-07\n",
            "Epoch 35/128\n",
            "15/15 [==============================] - 6s 383ms/step - loss: 0.5003 - mae: 0.5221 - mse: 0.5003 - val_loss: 2.4894 - val_mae: 1.2508 - val_mse: 2.4894 - lr: 6.4000e-07\n",
            "Epoch 36/128\n",
            "15/15 [==============================] - 5s 315ms/step - loss: 0.4091 - mae: 0.4692 - mse: 0.4091 - val_loss: 3.6164 - val_mae: 1.4173 - val_mse: 3.6164 - lr: 6.4000e-07\n",
            "Epoch 37/128\n",
            "15/15 [==============================] - 5s 317ms/step - loss: 0.4980 - mae: 0.5137 - mse: 0.4980 - val_loss: 2.8670 - val_mae: 1.2595 - val_mse: 2.8670 - lr: 6.4000e-07\n",
            "Epoch 38/128\n",
            "15/15 [==============================] - ETA: 0s - loss: 0.4362 - mae: 0.4704 - mse: 0.4362\n",
            "Epoch 38: ReduceLROnPlateau reducing learning rate to 5.119999968883349e-07.\n",
            "15/15 [==============================] - 5s 317ms/step - loss: 0.4362 - mae: 0.4704 - mse: 0.4362 - val_loss: 3.4084 - val_mae: 1.3708 - val_mse: 3.4084 - lr: 6.4000e-07\n",
            "Epoch 39/128\n",
            "15/15 [==============================] - 5s 318ms/step - loss: 0.4464 - mae: 0.4829 - mse: 0.4464 - val_loss: 3.2039 - val_mae: 1.2960 - val_mse: 3.2039 - lr: 5.1200e-07\n",
            "Epoch 40/128\n",
            "15/15 [==============================] - 6s 384ms/step - loss: 0.4123 - mae: 0.4781 - mse: 0.4123 - val_loss: 1.9542 - val_mae: 1.0829 - val_mse: 1.9542 - lr: 5.1200e-07\n",
            "Epoch 41/128\n",
            "15/15 [==============================] - 5s 317ms/step - loss: 0.4517 - mae: 0.4863 - mse: 0.4517 - val_loss: 2.4206 - val_mae: 1.1293 - val_mse: 2.4206 - lr: 5.1200e-07\n",
            "Epoch 42/128\n",
            "15/15 [==============================] - 6s 383ms/step - loss: 0.4159 - mae: 0.4784 - mse: 0.4159 - val_loss: 1.9140 - val_mae: 1.0690 - val_mse: 1.9140 - lr: 5.1200e-07\n",
            "Epoch 43/128\n",
            "15/15 [==============================] - 6s 394ms/step - loss: 0.3744 - mae: 0.4482 - mse: 0.3744 - val_loss: 1.8844 - val_mae: 1.0539 - val_mse: 1.8844 - lr: 5.1200e-07\n",
            "Epoch 44/128\n",
            "15/15 [==============================] - 5s 318ms/step - loss: 0.4059 - mae: 0.4700 - mse: 0.4059 - val_loss: 2.0682 - val_mae: 1.0490 - val_mse: 2.0682 - lr: 5.1200e-07\n",
            "Epoch 45/128\n",
            "15/15 [==============================] - 6s 384ms/step - loss: 0.3644 - mae: 0.4381 - mse: 0.3644 - val_loss: 1.7085 - val_mae: 1.0567 - val_mse: 1.7085 - lr: 5.1200e-07\n",
            "Epoch 46/128\n",
            "15/15 [==============================] - 6s 384ms/step - loss: 0.3240 - mae: 0.4169 - mse: 0.3240 - val_loss: 1.6795 - val_mae: 1.0561 - val_mse: 1.6795 - lr: 5.1200e-07\n",
            "Epoch 47/128\n",
            "15/15 [==============================] - 5s 317ms/step - loss: 0.3235 - mae: 0.4115 - mse: 0.3235 - val_loss: 1.7274 - val_mae: 0.9896 - val_mse: 1.7274 - lr: 5.1200e-07\n",
            "Epoch 48/128\n",
            "15/15 [==============================] - 6s 383ms/step - loss: 0.4082 - mae: 0.4610 - mse: 0.4082 - val_loss: 1.5779 - val_mae: 1.0105 - val_mse: 1.5779 - lr: 5.1200e-07\n",
            "Epoch 49/128\n",
            "15/15 [==============================] - 5s 315ms/step - loss: 0.3470 - mae: 0.4304 - mse: 0.3470 - val_loss: 1.6993 - val_mae: 1.0690 - val_mse: 1.6993 - lr: 5.1200e-07\n",
            "Epoch 50/128\n",
            "15/15 [==============================] - 5s 317ms/step - loss: 0.3974 - mae: 0.4697 - mse: 0.3974 - val_loss: 1.6200 - val_mae: 1.0278 - val_mse: 1.6200 - lr: 5.1200e-07\n",
            "Epoch 51/128\n",
            "15/15 [==============================] - ETA: 0s - loss: 0.3039 - mae: 0.3946 - mse: 0.3039\n",
            "Epoch 51: ReduceLROnPlateau reducing learning rate to 4.095999884157209e-07.\n",
            "15/15 [==============================] - 5s 317ms/step - loss: 0.3039 - mae: 0.3946 - mse: 0.3039 - val_loss: 1.6293 - val_mae: 1.0276 - val_mse: 1.6293 - lr: 5.1200e-07\n",
            "Epoch 52/128\n",
            "15/15 [==============================] - 5s 317ms/step - loss: 0.3264 - mae: 0.4130 - mse: 0.3264 - val_loss: 1.6049 - val_mae: 0.9928 - val_mse: 1.6049 - lr: 4.0960e-07\n",
            "Epoch 53/128\n",
            "15/15 [==============================] - 5s 317ms/step - loss: 0.2954 - mae: 0.3932 - mse: 0.2954 - val_loss: 1.6155 - val_mae: 1.0143 - val_mse: 1.6155 - lr: 4.0960e-07\n",
            "Epoch 53: early stopping\n"
          ]
        }
      ],
      "source": [
        "history = model.fit(X_train, y_train, epochs=128, batch_size=20, validation_data=[X_test, y_test], callbacks=[early_stopping, reduce_lr, model_checkpoint])"
      ]
    },
    {
      "cell_type": "code",
      "execution_count": 24,
      "metadata": {
        "colab": {
          "base_uri": "https://localhost:8080/",
          "height": 455
        },
        "id": "DhnV5IQ9-bEH",
        "outputId": "07f28a70-e35c-4b1e-e72e-2fb9b7758e06"
      },
      "outputs": [
        {
          "output_type": "display_data",
          "data": {
            "text/plain": [
              "<Figure size 640x480 with 1 Axes>"
            ],
            "image/png": "[encoded data removed]"
          },
          "metadata": {}
        }
      ],
      "source": [
        "import matplotlib.pyplot as plt\n",
        "plt.plot(history.history['loss'], label='loss')\n",
        "plt.plot(history.history['val_loss'], label='val_loss')\n",
        "plt.ylim([0, 10])\n",
        "plt.xlabel('Epoch')\n",
        "plt.ylabel('Loss')\n",
        "plt.legend()\n",
        "plt.grid(True)\n",
        "plt.show()"
      ]
    },
    {
      "cell_type": "code",
      "execution_count": 26,
      "metadata": {
        "colab": {
          "base_uri": "https://localhost:8080/"
        },
        "id": "chKZr6uBDb0j",
        "outputId": "df423281-d6e5-47a0-8ae0-5ebc2f23af15"
      },
      "outputs": [
        {
          "output_type": "stream",
          "name": "stdout",
          "text": [
            "1/1 [==============================] - 1s 1s/step\n",
            "[1.2400501  3.959695   2.4088356  0.01270965 4.0583863  1.9095626\n",
            " 5.3847895  0.25252202 0.15047577 1.0099423 ]\n",
            "[-2  4  4 -1  5  1  5  2 -2  2]\n"
          ]
        }
      ],
      "source": [
        "print(model.predict(X_test[:10]).reshape(-1), y_test[:10], sep='\\n')"
      ]
    },
    {
      "cell_type": "code",
      "source": [
        "model.save('model.h5')"
      ],
      "metadata": {
        "id": "K_pSbQun1pyJ"
      },
      "execution_count": 27,
      "outputs": []
    }
  ],
  "metadata": {
    "accelerator": "GPU",
    "colab": {
      "gpuType": "T4",
      "machine_shape": "hm",
      "provenance": []
    },
    "kernelspec": {
      "display_name": "Python 3",
      "name": "python3"
    },
    "language_info": {
      "name": "python"
    }
  },
  "nbformat": 4,
  "nbformat_minor": 0
}