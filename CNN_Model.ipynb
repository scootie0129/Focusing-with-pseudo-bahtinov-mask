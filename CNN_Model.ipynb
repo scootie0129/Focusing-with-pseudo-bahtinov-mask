{
  "cells": [
    {
      "cell_type": "markdown",
      "metadata": {
        "id": "TgLQoozZozm5"
      },
      "source": [
        "# 데이터 증강"
      ]
    },
    {
      "cell_type": "code",
      "source": [
        "from google.colab import drive\n",
        "drive.mount('/content/drive')"
      ],
      "metadata": {
        "colab": {
          "base_uri": "https://localhost:8080/"
        },
        "id": "Rfa6DACIQ877",
        "outputId": "67f7d416-3363-4c3d-8649-dd54a902fb91"
      },
      "execution_count": 30,
      "outputs": [
        {
          "output_type": "stream",
          "name": "stdout",
          "text": [
            "Drive already mounted at /content/drive; to attempt to forcibly remount, call drive.mount(\"/content/drive\", force_remount=True).\n"
          ]
        }
      ]
    },
    {
      "cell_type": "code",
      "execution_count": 31,
      "metadata": {
        "colab": {
          "base_uri": "https://localhost:8080/"
        },
        "collapsed": true,
        "id": "3BEkL_W_-cMw",
        "outputId": "28540070-a9bb-4e34-c588-b14b3c9c9e1b"
      },
      "outputs": [
        {
          "output_type": "stream",
          "name": "stdout",
          "text": [
            "Archive:  drive/MyDrive/Archive.zip\n",
            "replace __MACOSX/._-1? [y]es, [n]o, [A]ll, [N]one, [r]ename: A\n",
            "  inflating: __MACOSX/._-1           \n",
            "  inflating: -1/-1_2_masked.JPG      \n",
            "  inflating: __MACOSX/-1/._-1_2_masked.JPG  \n",
            "  inflating: -1/-1_1_masked.JPG      \n",
            "  inflating: __MACOSX/-1/._-1_1_masked.JPG  \n",
            "  inflating: -1/-1_3_masked.JPG      \n",
            "  inflating: __MACOSX/-1/._-1_3_masked.JPG  \n",
            "  inflating: __MACOSX/._-2           \n",
            "  inflating: -2/-2_3_masked.JPG      \n",
            "  inflating: __MACOSX/-2/._-2_3_masked.JPG  \n",
            "  inflating: -2/-2_2_masked.JPG      \n",
            "  inflating: __MACOSX/-2/._-2_2_masked.JPG  \n",
            "  inflating: __MACOSX/._0            \n",
            "  inflating: 0/0_1_masked.JPG        \n",
            "  inflating: __MACOSX/0/._0_1_masked.JPG  \n",
            "  inflating: 0/0_3_masked.JPG        \n",
            "  inflating: __MACOSX/0/._0_3_masked.JPG  \n",
            "  inflating: 0/0_2_masked.JPG        \n",
            "  inflating: __MACOSX/0/._0_2_masked.JPG  \n",
            "  inflating: __MACOSX/._1            \n",
            "  inflating: 1/1_1_masked.JPG        \n",
            "  inflating: __MACOSX/1/._1_1_masked.JPG  \n",
            "  inflating: 1/1_3_masked.JPG        \n",
            "  inflating: __MACOSX/1/._1_3_masked.JPG  \n",
            "  inflating: __MACOSX/1/._.ipynb_checkpoints  \n",
            "  inflating: 1/1_2_masked.JPG        \n",
            "  inflating: __MACOSX/1/._1_2_masked.JPG  \n",
            "  inflating: __MACOSX/._2            \n",
            "  inflating: 2/2_2_masked.JPG        \n",
            "  inflating: __MACOSX/2/._2_2_masked.JPG  \n",
            "  inflating: 2/2_3_masked.JPG        \n",
            "  inflating: __MACOSX/2/._2_3_masked.JPG  \n",
            "  inflating: 2/2_1_masked.JPG        \n",
            "  inflating: __MACOSX/2/._2_1_masked.JPG  \n",
            "  inflating: __MACOSX/._3            \n",
            "  inflating: 3/3_2_masked.JPG        \n",
            "  inflating: __MACOSX/3/._3_2_masked.JPG  \n",
            "  inflating: 3/3_3_masked.JPG        \n",
            "  inflating: __MACOSX/3/._3_3_masked.JPG  \n",
            "  inflating: 3/3_1_masked.JPG        \n",
            "  inflating: __MACOSX/3/._3_1_masked.JPG  \n",
            "  inflating: __MACOSX/._4            \n",
            "  inflating: 4/4_2_masked.JPG        \n",
            "  inflating: __MACOSX/4/._4_2_masked.JPG  \n",
            "  inflating: 4/4_3_masked.JPG        \n",
            "  inflating: __MACOSX/4/._4_3_masked.JPG  \n",
            "  inflating: __MACOSX/4/._.ipynb_checkpoints  \n",
            "  inflating: 4/4_1_masked.JPG        \n",
            "  inflating: __MACOSX/4/._4_1_masked.JPG  \n",
            "  inflating: __MACOSX/._5            \n",
            "  inflating: 5/5_2_masked.JPG        \n",
            "  inflating: __MACOSX/5/._5_2_masked.JPG  \n",
            "  inflating: 5/5_3_masked.JPG        \n",
            "  inflating: __MACOSX/5/._5_3_masked.JPG  \n",
            "  inflating: 5/5_1_masked.JPG        \n",
            "  inflating: __MACOSX/5/._5_1_masked.JPG  \n"
          ]
        }
      ],
      "source": [
        "!unzip drive/MyDrive/Archive.zip"
      ]
    },
    {
      "cell_type": "code",
      "execution_count": 32,
      "metadata": {
        "id": "de7oCzqJ2BN2"
      },
      "outputs": [],
      "source": [
        "import os"
      ]
    },
    {
      "cell_type": "code",
      "execution_count": 1,
      "metadata": {
        "id": "iZH-ZwTC6TRp"
      },
      "outputs": [],
      "source": [
        "import os\n",
        "import cv2\n",
        "import numpy as np\n",
        "from tensorflow.keras.preprocessing.image import ImageDataGenerator\n",
        "\n",
        "n_images = 75"
      ]
    },
    {
      "cell_type": "code",
      "source": [
        "def color_shift(image):\n",
        "  image[image > 25] *= np.random.uniform(0.8, 1.2)\n",
        "  image[image > 255] = 255\n",
        "  return image.astype('int')"
      ],
      "metadata": {
        "id": "qGnyNyUjY9hQ"
      },
      "execution_count": 2,
      "outputs": []
    },
    {
      "cell_type": "code",
      "execution_count": 26,
      "metadata": {
        "id": "oeNAsKWU-bEG"
      },
      "outputs": [],
      "source": [
        "X = []\n",
        "y = []\n",
        "\n",
        "for label in os.listdir():\n",
        "  if '.' in label: continue\n",
        "  image_batch = []\n",
        "  for item in os.listdir(label):\n",
        "    if 'JPG' not in item.upper() or '1_masked' in item:  continue\n",
        "    fig = cv2.imread(label + '/' + item)\n",
        "    fig = cv2.cvtColor(fig, cv2.COLOR_BGR2GRAY)\n",
        "    image_batch.append(fig.reshape(224, 224, 1))\n",
        "  if len(image_batch) == 0: continue\n",
        "  image_batch = np.array(image_batch)\n",
        "  data_generator = ImageDataGenerator(\n",
        "    horizontal_flip=True, vertical_flip=True, rotation_range=180,\n",
        "    fill_mode='nearest', zoom_range=[0.75,1.25], preprocessing_function=color_shift\n",
        "  )\n",
        "  data_generator.fit(image_batch)\n",
        "\n",
        "  data_gen_iter = data_generator.flow(image_batch)\n",
        "  X.append(image_batch)\n",
        "  y += [abs(int(label))] * image_batch.shape[0]\n",
        "\n",
        "  for i in range(n_images):\n",
        "    aug_image_batch = next(data_gen_iter)\n",
        "    aug_image = aug_image_batch.reshape(-1, 224, 224, 1)\n",
        "    aug_image = aug_image.astype('int')\n",
        "    X.append(aug_image)\n",
        "    y += [abs(int(label))] * aug_image.shape[0]"
      ]
    },
    {
      "cell_type": "code",
      "execution_count": 27,
      "metadata": {
        "colab": {
          "base_uri": "https://localhost:8080/"
        },
        "id": "12MEisE4KRA0",
        "outputId": "a4a1bff7-6db1-4493-96fe-e548928316b7"
      },
      "outputs": [
        {
          "output_type": "execute_result",
          "data": {
            "text/plain": [
              "1216"
            ]
          },
          "metadata": {},
          "execution_count": 27
        }
      ],
      "source": [
        "total = sum(item.shape[0] for item in X)\n",
        "total"
      ]
    },
    {
      "cell_type": "code",
      "source": [
        "for i in range(len(X)):\n",
        "  cv2.imwrite(f'{y[i]}_{i}_masked.png', X[i])"
      ],
      "metadata": {
        "id": "Bn_c7Z6o7JIv"
      },
      "execution_count": 28,
      "outputs": []
    },
    {
      "cell_type": "code",
      "execution_count": 29,
      "metadata": {
        "id": "GWcHDOhwxK4u"
      },
      "outputs": [],
      "source": [
        "images = np.empty((total, 224, 224, 1))\n",
        "curr_idx = 0\n",
        "\n",
        "for i in range(len(X)):\n",
        "  images[curr_idx:curr_idx+X[i].shape[0]] = X[i]\n",
        "  curr_idx += X[i].shape[0]"
      ]
    },
    {
      "cell_type": "code",
      "execution_count": 30,
      "metadata": {
        "colab": {
          "base_uri": "https://localhost:8080/"
        },
        "id": "M0pc4yVgQrnL",
        "outputId": "28e5c23b-26e8-4ffe-d0c9-58b6c6ed665f"
      },
      "outputs": [
        {
          "output_type": "execute_result",
          "data": {
            "text/plain": [
              "(1216, 224, 224, 1)"
            ]
          },
          "metadata": {},
          "execution_count": 30
        }
      ],
      "source": [
        "X = images\n",
        "del images\n",
        "X.shape"
      ]
    },
    {
      "cell_type": "code",
      "execution_count": 31,
      "metadata": {
        "colab": {
          "base_uri": "https://localhost:8080/"
        },
        "id": "fi6746O-V-_c",
        "outputId": "1b488126-131a-41c8-d5ab-787bee8c6389"
      },
      "outputs": [
        {
          "output_type": "execute_result",
          "data": {
            "text/plain": [
              "8695"
            ]
          },
          "metadata": {},
          "execution_count": 31
        }
      ],
      "source": [
        "import gc\n",
        "gc.collect()"
      ]
    },
    {
      "cell_type": "markdown",
      "metadata": {
        "id": "DiPVdMZG-bEE"
      },
      "source": [
        "# CNN 모델 구성"
      ]
    },
    {
      "cell_type": "code",
      "execution_count": 32,
      "metadata": {
        "colab": {
          "base_uri": "https://localhost:8080/"
        },
        "id": "WPnosTA_-bEG",
        "outputId": "45d26b66-ebbb-4667-c43a-a71535e4a15b"
      },
      "outputs": [
        {
          "output_type": "stream",
          "name": "stdout",
          "text": [
            "(1216, 224, 224, 1) (1216,)\n"
          ]
        }
      ],
      "source": [
        "import numpy as np\n",
        "\n",
        "X = X/255\n",
        "y = np.array(y)\n",
        "print(X.shape, y.shape)"
      ]
    },
    {
      "cell_type": "code",
      "execution_count": 33,
      "metadata": {
        "id": "x5mJZxyM-bEH"
      },
      "outputs": [],
      "source": [
        "import tensorflow as tf\n",
        "from tensorflow import keras\n",
        "from tensorflow.keras import layers"
      ]
    },
    {
      "cell_type": "code",
      "execution_count": 34,
      "metadata": {
        "colab": {
          "base_uri": "https://localhost:8080/"
        },
        "id": "dDjOJsva-bEH",
        "outputId": "0eb7e606-3f23-4563-8e85-5fd385c52117"
      },
      "outputs": [
        {
          "output_type": "stream",
          "name": "stdout",
          "text": [
            "Model: \"sequential_1\"\n",
            "_________________________________________________________________\n",
            " Layer (type)                Output Shape              Param #   \n",
            "=================================================================\n",
            " conv2d_3 (Conv2D)           (None, 222, 222, 32)      320       \n",
            "                                                                 \n",
            " batch_normalization_3 (Bat  (None, 222, 222, 32)      128       \n",
            " chNormalization)                                                \n",
            "                                                                 \n",
            " activation_3 (Activation)   (None, 222, 222, 32)      0         \n",
            "                                                                 \n",
            " max_pooling2d_2 (MaxPoolin  (None, 111, 111, 32)      0         \n",
            " g2D)                                                            \n",
            "                                                                 \n",
            " dropout_2 (Dropout)         (None, 111, 111, 32)      0         \n",
            "                                                                 \n",
            " conv2d_4 (Conv2D)           (None, 109, 109, 64)      18496     \n",
            "                                                                 \n",
            " batch_normalization_4 (Bat  (None, 109, 109, 64)      256       \n",
            " chNormalization)                                                \n",
            "                                                                 \n",
            " activation_4 (Activation)   (None, 109, 109, 64)      0         \n",
            "                                                                 \n",
            " max_pooling2d_3 (MaxPoolin  (None, 54, 54, 64)        0         \n",
            " g2D)                                                            \n",
            "                                                                 \n",
            " dropout_3 (Dropout)         (None, 54, 54, 64)        0         \n",
            "                                                                 \n",
            " conv2d_5 (Conv2D)           (None, 52, 52, 128)       73856     \n",
            "                                                                 \n",
            " batch_normalization_5 (Bat  (None, 52, 52, 128)       512       \n",
            " chNormalization)                                                \n",
            "                                                                 \n",
            " activation_5 (Activation)   (None, 52, 52, 128)       0         \n",
            "                                                                 \n",
            " flatten_1 (Flatten)         (None, 346112)            0         \n",
            "                                                                 \n",
            " dense_3 (Dense)             (None, 32)                11075616  \n",
            "                                                                 \n",
            " dense_4 (Dense)             (None, 8)                 264       \n",
            "                                                                 \n",
            " dense_5 (Dense)             (None, 1)                 9         \n",
            "                                                                 \n",
            "=================================================================\n",
            "Total params: 11169457 (42.61 MB)\n",
            "Trainable params: 11169009 (42.61 MB)\n",
            "Non-trainable params: 448 (1.75 KB)\n",
            "_________________________________________________________________\n"
          ]
        }
      ],
      "source": [
        "model = keras.Sequential([\n",
        "    layers.Conv2D(32, (3, 3), input_shape=X.shape[1:]),\n",
        "    layers.BatchNormalization(),\n",
        "    layers.Activation('relu'),\n",
        "    layers.MaxPooling2D((2, 2)),\n",
        "    layers.Dropout(0.2),\n",
        "    layers.Conv2D(64, (3, 3)),\n",
        "    layers.BatchNormalization(),\n",
        "    layers.Activation('relu'),\n",
        "    layers.MaxPooling2D((2, 2)),\n",
        "    layers.Dropout(0.2),\n",
        "    layers.Conv2D(128, (3, 3)),\n",
        "    layers.BatchNormalization(),\n",
        "    layers.Activation('relu'),\n",
        "    layers.Flatten(),\n",
        "    layers.Dense(32, activation='relu'),\n",
        "    layers.Dense(8, activation='relu'),\n",
        "    layers.Dense(1)\n",
        "])\n",
        "\n",
        "model.summary()"
      ]
    },
    {
      "cell_type": "code",
      "execution_count": 35,
      "metadata": {
        "colab": {
          "base_uri": "https://localhost:8080/"
        },
        "id": "IIqmO2n_369h",
        "outputId": "c12ae0ff-2ad6-4a58-942d-c703e68668d5"
      },
      "outputs": [
        {
          "output_type": "execute_result",
          "data": {
            "text/plain": [
              "601"
            ]
          },
          "metadata": {},
          "execution_count": 35
        }
      ],
      "source": [
        "import gc\n",
        "gc.collect()"
      ]
    },
    {
      "cell_type": "code",
      "execution_count": 36,
      "metadata": {
        "id": "DLYgw0Fi3u0a"
      },
      "outputs": [],
      "source": [
        "np.save('X.npy', X)\n",
        "np.save('y.npy', y)"
      ]
    },
    {
      "cell_type": "code",
      "execution_count": 37,
      "metadata": {
        "id": "RZ2MuoN1-bEH"
      },
      "outputs": [],
      "source": [
        "from keras.callbacks import EarlyStopping, ReduceLROnPlateau, ModelCheckpoint\n",
        "model_checkpoint = ModelCheckpoint('model.keras', monitor='val_loss', save_best_only=True)\n",
        "early_stopping = EarlyStopping(monitor='val_loss', patience=10, verbose=1)\n",
        "reduce_lr = ReduceLROnPlateau(monitor='val_loss', patience=5, factor=0.5, verbose=1)"
      ]
    },
    {
      "cell_type": "code",
      "execution_count": 38,
      "metadata": {
        "id": "Nhx1oOgH-bEH"
      },
      "outputs": [],
      "source": [
        "model.compile(optimizer=tf.keras.optimizers.Adam(learning_rate=1e-6), loss='mse', metrics=['mae', 'mse'])"
      ]
    },
    {
      "cell_type": "code",
      "execution_count": 39,
      "metadata": {
        "id": "rH-ToBkX-bEH"
      },
      "outputs": [],
      "source": [
        "from sklearn.model_selection import train_test_split\n",
        "X_train, X_test, y_train, y_test = train_test_split(X, y, test_size=0.2, random_state=42)"
      ]
    },
    {
      "cell_type": "code",
      "execution_count": 40,
      "metadata": {
        "colab": {
          "base_uri": "https://localhost:8080/"
        },
        "id": "lab0-xvx-bEH",
        "outputId": "81e7fa5d-1abe-4bba-f0ad-612b5f7ef131"
      },
      "outputs": [
        {
          "output_type": "stream",
          "name": "stdout",
          "text": [
            "49/49 [==============================] - ETA: 0s - loss: 0.4166 - mae: 0.5220 - mse: 0.4166\n",
            "Epoch 4: ReduceLROnPlateau reducing learning rate to 7.999999979801942e-07.\n",
            "49/49 [==============================] - 4s 80ms/step - loss: 0.4166 - mae: 0.5220 - mse: 0.4166 - val_loss: 11.7267 - val_mae: 2.8366 - val_mse: 11.7267 - lr: 1.0000e-06\n",
            "Epoch 5/128\n",
            "49/49 [==============================] - 4s 79ms/step - loss: 0.4197 - mae: 0.5239 - mse: 0.4197 - val_loss: 13.2402 - val_mae: 3.0440 - val_mse: 13.2402 - lr: 8.0000e-07\n",
            "Epoch 6/128\n",
            "49/49 [==============================] - 4s 80ms/step - loss: 0.3915 - mae: 0.5157 - mse: 0.3915 - val_loss: 13.8205 - val_mae: 3.1287 - val_mse: 13.8205 - lr: 8.0000e-07\n",
            "Epoch 6: early stopping\n",
            "Epoch 1/128\n",
            "61/61 [==============================] - 9s 98ms/step - loss: 3.6411 - mae: 1.4784 - mse: 3.6411 - val_loss: 4.3396 - val_mae: 1.5949 - val_mse: 4.3396 - lr: 1.0000e-06\n",
            "Epoch 2/128\n",
            "61/61 [==============================] - 5s 75ms/step - loss: 1.0278 - mae: 0.8172 - mse: 1.0278 - val_loss: 2.5656 - val_mae: 1.3742 - val_mse: 2.5656 - lr: 1.0000e-06\n",
            "Epoch 3/128\n",
            "61/61 [==============================] - 4s 68ms/step - loss: 0.5735 - mae: 0.6077 - mse: 0.5735 - val_loss: 3.9524 - val_mae: 1.7322 - val_mse: 3.9524 - lr: 1.0000e-06\n",
            "Epoch 4/128\n",
            "61/61 [==============================] - 4s 68ms/step - loss: 0.4487 - mae: 0.5307 - mse: 0.4487 - val_loss: 5.9447 - val_mae: 2.0931 - val_mse: 5.9447 - lr: 1.0000e-06\n",
            "Epoch 5/128\n",
            "61/61 [==============================] - 4s 68ms/step - loss: 0.4259 - mae: 0.5262 - mse: 0.4259 - val_loss: 7.0075 - val_mae: 2.2793 - val_mse: 7.0075 - lr: 1.0000e-06\n",
            "Epoch 6/128\n",
            "61/61 [==============================] - 4s 68ms/step - loss: 0.4027 - mae: 0.5125 - mse: 0.4027 - val_loss: 6.5699 - val_mae: 2.2040 - val_mse: 6.5699 - lr: 1.0000e-06\n",
            "Epoch 7/128\n",
            "61/61 [==============================] - ETA: 0s - loss: 0.4049 - mae: 0.5117 - mse: 0.4049\n",
            "Epoch 7: ReduceLROnPlateau reducing learning rate to 4.999999987376214e-07.\n",
            "61/61 [==============================] - 4s 68ms/step - loss: 0.4049 - mae: 0.5117 - mse: 0.4049 - val_loss: 5.9798 - val_mae: 2.1029 - val_mse: 5.9798 - lr: 1.0000e-06\n",
            "Epoch 8/128\n",
            "61/61 [==============================] - 4s 68ms/step - loss: 0.3777 - mae: 0.4981 - mse: 0.3777 - val_loss: 5.1535 - val_mae: 1.9547 - val_mse: 5.1535 - lr: 5.0000e-07\n",
            "Epoch 9/128\n",
            "61/61 [==============================] - 4s 68ms/step - loss: 0.3715 - mae: 0.4898 - mse: 0.3715 - val_loss: 4.1025 - val_mae: 1.7473 - val_mse: 4.1025 - lr: 5.0000e-07\n",
            "Epoch 10/128\n",
            "61/61 [==============================] - 4s 68ms/step - loss: 0.3569 - mae: 0.4847 - mse: 0.3569 - val_loss: 3.0711 - val_mae: 1.5145 - val_mse: 3.0711 - lr: 5.0000e-07\n",
            "Epoch 11/128\n",
            "61/61 [==============================] - 5s 75ms/step - loss: 0.3432 - mae: 0.4700 - mse: 0.3432 - val_loss: 2.1198 - val_mae: 1.2500 - val_mse: 2.1198 - lr: 5.0000e-07\n",
            "Epoch 12/128\n",
            "61/61 [==============================] - 5s 75ms/step - loss: 0.3617 - mae: 0.4841 - mse: 0.3617 - val_loss: 1.7073 - val_mae: 1.1166 - val_mse: 1.7073 - lr: 5.0000e-07\n",
            "Epoch 13/128\n",
            "61/61 [==============================] - 5s 75ms/step - loss: 0.3601 - mae: 0.4857 - mse: 0.3601 - val_loss: 1.4390 - val_mae: 1.0217 - val_mse: 1.4390 - lr: 5.0000e-07\n",
            "Epoch 14/128\n",
            "61/61 [==============================] - 5s 75ms/step - loss: 0.3268 - mae: 0.4697 - mse: 0.3268 - val_loss: 1.1978 - val_mae: 0.9240 - val_mse: 1.1978 - lr: 5.0000e-07\n",
            "Epoch 15/128\n",
            "61/61 [==============================] - 5s 75ms/step - loss: 0.3312 - mae: 0.4671 - mse: 0.3312 - val_loss: 1.1286 - val_mae: 0.8944 - val_mse: 1.1286 - lr: 5.0000e-07\n",
            "Epoch 16/128\n",
            "61/61 [==============================] - 5s 75ms/step - loss: 0.3116 - mae: 0.4540 - mse: 0.3116 - val_loss: 1.1124 - val_mae: 0.8872 - val_mse: 1.1124 - lr: 5.0000e-07\n",
            "Epoch 17/128\n",
            "61/61 [==============================] - 5s 75ms/step - loss: 0.3225 - mae: 0.4626 - mse: 0.3225 - val_loss: 1.0560 - val_mae: 0.8607 - val_mse: 1.0560 - lr: 5.0000e-07\n",
            "Epoch 18/128\n",
            "61/61 [==============================] - 5s 75ms/step - loss: 0.3002 - mae: 0.4515 - mse: 0.3002 - val_loss: 0.9446 - val_mae: 0.8081 - val_mse: 0.9446 - lr: 5.0000e-07\n",
            "Epoch 19/128\n",
            "61/61 [==============================] - 4s 68ms/step - loss: 0.3114 - mae: 0.4484 - mse: 0.3114 - val_loss: 0.9908 - val_mae: 0.8308 - val_mse: 0.9908 - lr: 5.0000e-07\n",
            "Epoch 20/128\n",
            "61/61 [==============================] - 4s 68ms/step - loss: 0.3188 - mae: 0.4610 - mse: 0.3188 - val_loss: 0.9558 - val_mae: 0.8152 - val_mse: 0.9558 - lr: 5.0000e-07\n",
            "Epoch 21/128\n",
            "61/61 [==============================] - 5s 75ms/step - loss: 0.2719 - mae: 0.4236 - mse: 0.2719 - val_loss: 0.9186 - val_mae: 0.7994 - val_mse: 0.9186 - lr: 5.0000e-07\n",
            "Epoch 22/128\n",
            "61/61 [==============================] - 4s 68ms/step - loss: 0.2644 - mae: 0.4220 - mse: 0.2644 - val_loss: 0.9559 - val_mae: 0.8195 - val_mse: 0.9559 - lr: 5.0000e-07\n",
            "Epoch 23/128\n",
            "61/61 [==============================] - 4s 68ms/step - loss: 0.2785 - mae: 0.4270 - mse: 0.2785 - val_loss: 0.9663 - val_mae: 0.8240 - val_mse: 0.9663 - lr: 5.0000e-07\n",
            "Epoch 24/128\n",
            "61/61 [==============================] - 4s 74ms/step - loss: 0.2847 - mae: 0.4300 - mse: 0.2847 - val_loss: 0.8876 - val_mae: 0.7871 - val_mse: 0.8876 - lr: 5.0000e-07\n",
            "Epoch 25/128\n",
            "61/61 [==============================] - 5s 75ms/step - loss: 0.2501 - mae: 0.4076 - mse: 0.2501 - val_loss: 0.7980 - val_mae: 0.7391 - val_mse: 0.7980 - lr: 5.0000e-07\n",
            "Epoch 26/128\n",
            "61/61 [==============================] - 5s 75ms/step - loss: 0.2720 - mae: 0.4342 - mse: 0.2720 - val_loss: 0.7942 - val_mae: 0.7330 - val_mse: 0.7942 - lr: 5.0000e-07\n",
            "Epoch 27/128\n",
            "61/61 [==============================] - 4s 68ms/step - loss: 0.2691 - mae: 0.4217 - mse: 0.2691 - val_loss: 0.9100 - val_mae: 0.7930 - val_mse: 0.9100 - lr: 5.0000e-07\n",
            "Epoch 28/128\n",
            "61/61 [==============================] - 5s 75ms/step - loss: 0.2735 - mae: 0.4235 - mse: 0.2735 - val_loss: 0.7833 - val_mae: 0.7275 - val_mse: 0.7833 - lr: 5.0000e-07\n",
            "Epoch 29/128\n",
            "61/61 [==============================] - 4s 68ms/step - loss: 0.2649 - mae: 0.4168 - mse: 0.2649 - val_loss: 0.8246 - val_mae: 0.7492 - val_mse: 0.8246 - lr: 5.0000e-07\n",
            "Epoch 30/128\n",
            "61/61 [==============================] - 4s 68ms/step - loss: 0.2673 - mae: 0.4184 - mse: 0.2673 - val_loss: 0.8325 - val_mae: 0.7551 - val_mse: 0.8325 - lr: 5.0000e-07\n",
            "Epoch 31/128\n",
            "61/61 [==============================] - 5s 75ms/step - loss: 0.2555 - mae: 0.4138 - mse: 0.2555 - val_loss: 0.6972 - val_mae: 0.6839 - val_mse: 0.6972 - lr: 5.0000e-07\n",
            "Epoch 32/128\n",
            "61/61 [==============================] - 4s 67ms/step - loss: 0.2822 - mae: 0.4406 - mse: 0.2822 - val_loss: 0.7975 - val_mae: 0.7351 - val_mse: 0.7975 - lr: 5.0000e-07\n",
            "Epoch 33/128\n",
            "61/61 [==============================] - 4s 68ms/step - loss: 0.2466 - mae: 0.4038 - mse: 0.2466 - val_loss: 0.7674 - val_mae: 0.7199 - val_mse: 0.7674 - lr: 5.0000e-07\n",
            "Epoch 34/128\n",
            "61/61 [==============================] - 4s 67ms/step - loss: 0.2511 - mae: 0.4134 - mse: 0.2511 - val_loss: 0.7610 - val_mae: 0.7184 - val_mse: 0.7610 - lr: 5.0000e-07\n",
            "Epoch 35/128\n",
            "61/61 [==============================] - 4s 68ms/step - loss: 0.2490 - mae: 0.4062 - mse: 0.2490 - val_loss: 0.7276 - val_mae: 0.6984 - val_mse: 0.7276 - lr: 5.0000e-07\n",
            "Epoch 36/128\n",
            "61/61 [==============================] - 5s 75ms/step - loss: 0.2570 - mae: 0.4145 - mse: 0.2570 - val_loss: 0.6911 - val_mae: 0.6791 - val_mse: 0.6911 - lr: 5.0000e-07\n",
            "Epoch 37/128\n",
            "61/61 [==============================] - 4s 67ms/step - loss: 0.2415 - mae: 0.4039 - mse: 0.2415 - val_loss: 0.7034 - val_mae: 0.6907 - val_mse: 0.7034 - lr: 5.0000e-07\n",
            "Epoch 38/128\n",
            "61/61 [==============================] - 5s 75ms/step - loss: 0.2539 - mae: 0.4088 - mse: 0.2539 - val_loss: 0.6746 - val_mae: 0.6746 - val_mse: 0.6746 - lr: 5.0000e-07\n",
            "Epoch 39/128\n",
            "61/61 [==============================] - 4s 67ms/step - loss: 0.2261 - mae: 0.3903 - mse: 0.2261 - val_loss: 0.6949 - val_mae: 0.6817 - val_mse: 0.6949 - lr: 5.0000e-07\n",
            "Epoch 40/128\n",
            "61/61 [==============================] - 4s 68ms/step - loss: 0.2339 - mae: 0.3897 - mse: 0.2339 - val_loss: 0.7536 - val_mae: 0.7113 - val_mse: 0.7536 - lr: 5.0000e-07\n",
            "Epoch 41/128\n",
            "61/61 [==============================] - 5s 74ms/step - loss: 0.2352 - mae: 0.3947 - mse: 0.2352 - val_loss: 0.6030 - val_mae: 0.6343 - val_mse: 0.6030 - lr: 5.0000e-07\n",
            "Epoch 42/128\n",
            "61/61 [==============================] - 4s 67ms/step - loss: 0.2311 - mae: 0.3966 - mse: 0.2311 - val_loss: 0.6501 - val_mae: 0.6573 - val_mse: 0.6501 - lr: 5.0000e-07\n",
            "Epoch 43/128\n",
            "61/61 [==============================] - 4s 68ms/step - loss: 0.2275 - mae: 0.3929 - mse: 0.2275 - val_loss: 0.6680 - val_mae: 0.6703 - val_mse: 0.6680 - lr: 5.0000e-07\n",
            "Epoch 44/128\n",
            "61/61 [==============================] - 4s 68ms/step - loss: 0.2281 - mae: 0.3900 - mse: 0.2281 - val_loss: 0.6791 - val_mae: 0.6738 - val_mse: 0.6791 - lr: 5.0000e-07\n",
            "Epoch 45/128\n",
            "61/61 [==============================] - 4s 67ms/step - loss: 0.2401 - mae: 0.4004 - mse: 0.2401 - val_loss: 0.7110 - val_mae: 0.6914 - val_mse: 0.7110 - lr: 5.0000e-07\n",
            "Epoch 46/128\n",
            "61/61 [==============================] - ETA: 0s - loss: 0.2131 - mae: 0.3719 - mse: 0.2131\n",
            "Epoch 46: ReduceLROnPlateau reducing learning rate to 2.499999993688107e-07.\n",
            "61/61 [==============================] - 4s 68ms/step - loss: 0.2131 - mae: 0.3719 - mse: 0.2131 - val_loss: 0.6108 - val_mae: 0.6408 - val_mse: 0.6108 - lr: 5.0000e-07\n",
            "Epoch 47/128\n",
            "61/61 [==============================] - 4s 68ms/step - loss: 0.2339 - mae: 0.3974 - mse: 0.2339 - val_loss: 0.6175 - val_mae: 0.6436 - val_mse: 0.6175 - lr: 2.5000e-07\n",
            "Epoch 48/128\n",
            "61/61 [==============================] - 4s 68ms/step - loss: 0.2196 - mae: 0.3863 - mse: 0.2196 - val_loss: 0.6372 - val_mae: 0.6535 - val_mse: 0.6372 - lr: 2.5000e-07\n",
            "Epoch 49/128\n",
            "61/61 [==============================] - 4s 68ms/step - loss: 0.2304 - mae: 0.3950 - mse: 0.2304 - val_loss: 0.6260 - val_mae: 0.6483 - val_mse: 0.6260 - lr: 2.5000e-07\n",
            "Epoch 50/128\n",
            "61/61 [==============================] - 4s 68ms/step - loss: 0.2112 - mae: 0.3713 - mse: 0.2112 - val_loss: 0.6413 - val_mae: 0.6552 - val_mse: 0.6413 - lr: 2.5000e-07\n",
            "Epoch 51/128\n",
            "61/61 [==============================] - ETA: 0s - loss: 0.2257 - mae: 0.3887 - mse: 0.2257\n",
            "Epoch 51: ReduceLROnPlateau reducing learning rate to 1.2499999968440534e-07.\n",
            "61/61 [==============================] - 4s 68ms/step - loss: 0.2257 - mae: 0.3887 - mse: 0.2257 - val_loss: 0.6244 - val_mae: 0.6477 - val_mse: 0.6244 - lr: 2.5000e-07\n",
            "Epoch 51: early stopping\n"
          ]
        }
      ],
      "source": [
        "history = model.fit(X_train, y_train, epochs=128, batch_size=16, validation_data=[X_test, y_test], callbacks=[early_stopping, reduce_lr, model_checkpoint])"
      ]
    },
    {
      "cell_type": "code",
      "execution_count": 41,
      "metadata": {
        "id": "DhnV5IQ9-bEH",
        "colab": {
          "base_uri": "https://localhost:8080/",
          "height": 455
        },
        "outputId": "2239b94b-516e-465b-ac37-c36949a27078"
      },
      "outputs": [
        {
          "output_type": "display_data",
          "data": {
            "text/plain": [
              "<Figure size 640x480 with 1 Axes>"
            ],
            "image/png": "[encoded data removed]"
          },
          "metadata": {}
        }
      ],
      "source": [
        "import matplotlib.pyplot as plt\n",
        "plt.plot(history.history['loss'], label='loss')\n",
        "plt.plot(history.history['val_loss'], label='val_loss')\n",
        "plt.ylim([0, 10])\n",
        "plt.xlabel('Epoch')\n",
        "plt.ylabel('Loss')\n",
        "plt.legend()\n",
        "plt.grid(True)\n",
        "plt.show()"
      ]
    },
    {
      "cell_type": "code",
      "execution_count": 42,
      "metadata": {
        "id": "chKZr6uBDb0j",
        "colab": {
          "base_uri": "https://localhost:8080/"
        },
        "outputId": "f0bf626a-c4fd-404b-b718-f01057bfc43b"
      },
      "outputs": [
        {
          "output_type": "stream",
          "name": "stdout",
          "text": [
            "1/1 [==============================] - 0s 101ms/step\n",
            "Predicted value: [1.  3.8 1.8 2.3 0.7 4.7 2.  2.5 3.4 3.1]\n",
            "Actual value: [0 3 1 2 0 5 1 2 3 3]\n"
          ]
        }
      ],
      "source": [
        "print(f'Predicted value: {np.round(model.predict(X_test[:10]).reshape(-1), 1)}')\n",
        "print(f'Actual value: {y_test[:10]}')"
      ]
    },
    {
      "cell_type": "code",
      "execution_count": 43,
      "metadata": {
        "id": "_4ZMXKGt-iaD",
        "colab": {
          "base_uri": "https://localhost:8080/",
          "height": 451
        },
        "outputId": "667505dc-a9a9-454c-a142-8f0e876c58e5"
      },
      "outputs": [
        {
          "output_type": "execute_result",
          "data": {
            "text/plain": [
              "<matplotlib.image.AxesImage at 0x7eba7fabd120>"
            ]
          },
          "metadata": {},
          "execution_count": 43
        },
        {
          "output_type": "display_data",
          "data": {
            "text/plain": [
              "<Figure size 640x480 with 1 Axes>"
            ],
            "image/png": "[encoded data removed]"
          },
          "metadata": {}
        }
      ],
      "source": [
        "plt.imshow(X[6], cmap='gray')"
      ]
    },
    {
      "cell_type": "code",
      "execution_count": 44,
      "metadata": {
        "id": "e4eWJ1_VUifa"
      },
      "outputs": [],
      "source": [
        "import tensorflow as tf\n",
        "import cv2\n",
        "import numpy as np\n",
        "model = tf.keras.models.load_model('/content/model.keras')"
      ]
    },
    {
      "cell_type": "code",
      "source": [
        "X_test, y_test = [], []\n",
        "\n",
        "for i in range(-2, 6):\n",
        "  for item in os.listdir(str(i)):\n",
        "    if '1_masked' not in item: continue\n",
        "    fig = cv2.imread(str(i) + '/' + item)\n",
        "    fig = cv2.cvtColor(fig, cv2.COLOR_BGR2GRAY)\n",
        "    fig = fig/255\n",
        "\n",
        "    X_test.append(fig.reshape(224, 224, 1))\n",
        "    y_test.append(i)\n",
        "\n",
        "X_test = np.array(X_test)\n",
        "y_test = np.array(y_test)\n",
        "\n",
        "y_predict = model.predict(X_test)"
      ],
      "metadata": {
        "colab": {
          "base_uri": "https://localhost:8080/"
        },
        "id": "oY5fhVpcdhBT",
        "outputId": "02d15fe5-c081-4f74-c94d-b32e3d772264"
      },
      "execution_count": 45,
      "outputs": [
        {
          "output_type": "stream",
          "name": "stdout",
          "text": [
            "1/1 [==============================] - 0s 106ms/step\n"
          ]
        }
      ]
    },
    {
      "cell_type": "code",
      "source": [
        "from sklearn.metrics import r2_score\n",
        "\n",
        "r2_score(y_test, y_predict) # 결정계수"
      ],
      "metadata": {
        "colab": {
          "base_uri": "https://localhost:8080/"
        },
        "id": "Zei4rfSob6i-",
        "outputId": "0fe70291-0653-4195-aac1-74ce3034c627"
      },
      "execution_count": 46,
      "outputs": [
        {
          "output_type": "execute_result",
          "data": {
            "text/plain": [
              "0.5594827209130793"
            ]
          },
          "metadata": {},
          "execution_count": 46
        }
      ]
    },
    {
      "cell_type": "code",
      "source": [
        "print(f'MAE: {np.abs(y_test - y_predict).mean()}\\nMSE: {((y_test - y_predict) ** 2).mean()}\\nRMSE: {(((y_test - y_predict) ** 2).mean())**0.5}\\n')"
      ],
      "metadata": {
        "colab": {
          "base_uri": "https://localhost:8080/"
        },
        "id": "xOTuGkJCcA6P",
        "outputId": "6550548e-cbd1-44a0-ae00-2cb9987f443f"
      },
      "execution_count": 47,
      "outputs": [
        {
          "output_type": "stream",
          "name": "stdout",
          "text": [
            "MAE: 1.8417319764896316\n",
            "MSE: 4.753600624657183\n",
            "RMSE: 2.18027535523777\n",
            "\n"
          ]
        }
      ]
    }
  ],
  "metadata": {
    "accelerator": "GPU",
    "colab": {
      "gpuType": "T4",
      "provenance": [],
      "collapsed_sections": [
        "TgLQoozZozm5"
      ],
      "machine_shape": "hm"
    },
    "kernelspec": {
      "display_name": "Python 3",
      "name": "python3"
    },
    "language_info": {
      "name": "python"
    }
  },
  "nbformat": 4,
  "nbformat_minor": 0
}