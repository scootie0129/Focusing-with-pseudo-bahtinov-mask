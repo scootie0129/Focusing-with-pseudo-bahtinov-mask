{
 "cells": [
  {
   "cell_type": "markdown",
   "metadata": {},
   "source": [
    "Google Colaboratory 환경에서 실행했습니다. (T4 고용량 RAM)"
   ]
  },
  {
   "cell_type": "markdown",
   "metadata": {},
   "source": [
    "# 수정된 diffractsim 설치"
   ]
  },
  {
   "cell_type": "code",
   "execution_count": null,
   "metadata": {},
   "outputs": [],
   "source": [
    "!pip install git+https://github.com/hjw4228/diffractsim"
   ]
  },
  {
   "cell_type": "code",
   "execution_count": null,
   "metadata": {},
   "outputs": [],
   "source": [
    "import gc\n",
    "\n",
    "import diffractsim\n",
    "diffractsim.set_backend(\"CUDA\")\n",
    "\n",
    "from diffractsim import PolychromaticField, Lens, ApertureFromImage, cf, nm, mm, cm\n",
    "\n",
    "def render_image(f, z, mask):\n",
    "  F = PolychromaticField(\n",
    "    spectrum = 4 * cf.illuminant_d65,\n",
    "    extent_x = 15.*mm, extent_y = 15.*mm,\n",
    "    Nx=1500, Ny=1500\n",
    "  )\n",
    "  if mask:\n",
    "    F.add(ApertureFromImage(\"./mask.jpg\", image_size=(5. *mm, 5.* mm), simulation=F))\n",
    "  else:\n",
    "    F.add(ApertureFromImage(\"./circle.jpg\", image_size=(5. *mm, 5. *mm), simulation=F))\n",
    "\n",
    "  F.add(Lens(f=f*cm))\n",
    "  F.propagate(z=z * cm)\n",
    "\n",
    "  rgb = F.get_colors()\n",
    "\n",
    "  if mask:\n",
    "    F.plot_colors(rgb, xlim=[-6*mm, 6*mm], ylim=[-6*mm, 6*mm], save_plot=True, filename=f'{f}_{z}_masked.jpg', hide_axis=True, text='')\n",
    "    print(f'\\nSuccessfully rendered masked image of f={f}cm, z={F.z * 100}cm')\n",
    "  else:\n",
    "    F.plot_colors(rgb, xlim=[-6*mm, 6*mm], ylim=[-6*mm, 6*mm], save_plot=True, filename=f'{f}_{z}_unmasked.jpg', hide_axis=True, text='')\n",
    "    print(f'\\nSuccessfully rendered unmasked image of f={f}cm, z={F.z * 100}cm')\\\n",
    "\n",
    "  return"
   ]
  },
  {
   "cell_type": "code",
   "execution_count": null,
   "metadata": {},
   "outputs": [],
   "source": [
    "def render_all(start, end):\n",
    "  for f in range(start, end+1):\n",
    "    z = f-10\n",
    "    for _ in range(1, 20):\n",
    "      render_image(f, z, False)\n",
    "      z += 1\n",
    "    print(f'Collected garbage: {gc.collect()}')\n",
    "    z = f-5"
   ]
  },
  {
   "cell_type": "code",
   "execution_count": null,
   "metadata": {},
   "outputs": [],
   "source": [
    "gc.collect()\n",
    "render_all(75, 80)"
   ]
  }
 ],
 "metadata": {
  "language_info": {
   "name": "python"
  }
 },
 "nbformat": 4,
 "nbformat_minor": 2
}
